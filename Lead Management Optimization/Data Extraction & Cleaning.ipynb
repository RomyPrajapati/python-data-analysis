{
 "cells": [
  {
   "cell_type": "code",
   "execution_count": null,
   "metadata": {},
   "outputs": [],
   "source": [
    "import pandas as pd\n",
    "\n",
    "# Load lead data\n",
    "leads_df = pd.read_csv('leads_data.csv')\n",
    "\n",
    "# Deduplicate leads by email and phone number\n",
    "leads_df_clean = leads_df.drop_duplicates(subset=['email', 'phone'])\n",
    "\n",
    "# Validate email format\n",
    "import re\n",
    "def is_valid_email(email):\n",
    "    return bool(re.match(r\"[^@]+@[^@]+\\.[^@]+\", str(email)))\n",
    "\n",
    "leads_df_clean = leads_df_clean[leads_df_clean['email'].apply(is_valid_email)]\n",
    "\n",
    "# Fill missing values in key fields if possible or drop\n",
    "leads_df_clean = leads_df_clean.dropna(subset=['lead_score', 'region'])"
   ]
  }
 ],
 "metadata": {
  "language_info": {
   "name": "python"
  }
 },
 "nbformat": 4,
 "nbformat_minor": 2
}
