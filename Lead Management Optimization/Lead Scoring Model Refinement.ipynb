{
 "cells": [
  {
   "cell_type": "code",
   "execution_count": null,
   "metadata": {},
   "outputs": [],
   "source": [
    "# Simple scoring logic example\n",
    "def score_lead(row):\n",
    "    score = 0\n",
    "    if row['website_visits'] > 5:\n",
    "        score += 10\n",
    "    if row['email_opens'] > 3:\n",
    "        score += 5\n",
    "    if row['job_title'] in ['Manager', 'Director', 'VP']:\n",
    "        score += 8\n",
    "    return score\n",
    "\n",
    "leads_df_clean['updated_lead_score'] = leads_df_clean.apply(score_lead, axis=1)\n"
   ]
  }
 ],
 "metadata": {
  "language_info": {
   "name": "python"
  }
 },
 "nbformat": 4,
 "nbformat_minor": 2
}
