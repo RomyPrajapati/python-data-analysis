{
 "cells": [
  {
   "cell_type": "code",
   "execution_count": null,
   "metadata": {},
   "outputs": [],
   "source": [
    "company_info = pd.read_csv('company_data.csv')  # Contains company_name, company_size\n",
    "\n",
    "# Merge to enrich leads data\n",
    "leads_enriched = leads_df_clean.merge(company_info, how='left', left_on='company_name', right_on='company_name')\n",
    "\n",
    "# Fill missing company_size with median\n",
    "leads_enriched['company_size'].fillna(leads_enriched['company_size'].median(), inplace=True)\n"
   ]
  }
 ],
 "metadata": {
  "language_info": {
   "name": "python"
  }
 },
 "nbformat": 4,
 "nbformat_minor": 2
}
