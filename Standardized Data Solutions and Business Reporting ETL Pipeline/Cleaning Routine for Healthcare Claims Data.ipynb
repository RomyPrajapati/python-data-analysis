{
 "cells": [
  {
   "cell_type": "code",
   "execution_count": null,
   "id": "1f7f51b4-4dd3-478f-8c81-5281120fbab7",
   "metadata": {},
   "outputs": [],
   "source": [
    "import pandas as pd\n",
    "import numpy as np\n",
    "from scipy.stats import zscore\n",
    "\n",
    "# Sample dataset\n",
    "data = {\n",
    "    'ClaimAmount': [1000, 1200, None, 5000, 300, None, 1500],\n",
    "    'ClaimType': ['Medical', 'Dental', 'Medical', 'Medical', 'Dental', 'Dental', 'Medical'],\n",
    "    'ServiceDate': ['01/02/21', '2021-03-05', '04-15-2021', '03/10/2021', '15-04-2021', None, '2021/06/25']\n",
    "}\n",
    "\n",
    "df = pd.DataFrame(data)\n",
    "\n",
    "# -----------------------\n",
    "# 1. Impute Nulls by Group\n",
    "# -----------------------\n",
    "def impute_claim_amount(df):\n",
    "    def impute(group):\n",
    "        median = group['ClaimAmount'].median()\n",
    "        return group['ClaimAmount'].fillna(median)\n",
    "    \n",
    "    return df.groupby('ClaimType', group_keys=False).apply(lambda g: g.assign(ClaimAmount=impute(g)))\n",
    "\n",
    "df['ClaimAmount'] = impute_claim_amount(df)\n",
    "\n",
    "# -----------------------\n",
    "# 2. Flag Outliers using Z-Score\n",
    "# -----------------------\n",
    "df['ZScore'] = zscore(df['ClaimAmount'])\n",
    "df['IsOutlier'] = df['ZScore'].abs() > 2\n",
    "\n",
    "# -----------------------\n",
    "# 3. Convert Date to ISO Format\n",
    "# -----------------------\n",
    "def convert_to_iso(date):\n",
    "    if pd.isna(date):\n",
    "        return pd.NaT\n",
    "    for fmt in ('%m/%d/%y', '%Y-%m-%d', '%m-%d-%Y', '%d-%m-%Y', '%Y/%m/%d'):\n",
    "        try:\n",
    "            return pd.to_datetime(date, format=fmt)\n",
    "        except:\n",
    "            continue\n",
    "    return pd.NaT\n",
    "\n",
    "df['FormattedDate'] = df['ServiceDate'].apply(convert_to_iso)\n",
    "\n",
    "# Drop helper column\n",
    "df.drop(columns='ZScore', inplace=True)\n",
    "\n",
    "print(df)\n"
   ]
  }
 ],
 "metadata": {
  "kernelspec": {
   "display_name": "Python [conda env:base] *",
   "language": "python",
   "name": "conda-base-py"
  },
  "language_info": {
   "codemirror_mode": {
    "name": "ipython",
    "version": 3
   },
   "file_extension": ".py",
   "mimetype": "text/x-python",
   "name": "python",
   "nbconvert_exporter": "python",
   "pygments_lexer": "ipython3",
   "version": "3.12.7"
  }
 },
 "nbformat": 4,
 "nbformat_minor": 5
}
