{
 "cells": [
  {
   "cell_type": "code",
   "execution_count": 19,
   "id": "ae64a386-ed18-4000-9ba2-7dc612cab2ff",
   "metadata": {},
   "outputs": [],
   "source": [
    "# Start coding here\n",
    "# Use as many cells as you need\n",
    "\n",
    "\n",
    "# Import required libraries\n",
    "import pandas as pd\n",
    "import nannyml as nml\n",
    "nml.disable_usage_logging()\n",
    "\n",
    "reference = pd.read_csv(\"../data/analysis.csv\")\n",
    "analysis = pd.read_csv(\"../data/reference.csv\")\n",
    "\n"
   ]
  },
  {
   "cell_type": "code",
   "execution_count": 27,
   "id": "02327409-7a8d-4db8-9674-082c05594ebb",
   "metadata": {},
   "outputs": [
    {
     "name": "stderr",
     "output_type": "stream",
     "text": [
      "/opt/anaconda3/lib/python3.12/site-packages/nannyml/chunk.py:294: FutureWarning:\n",
      "\n",
      "'m' is deprecated and will be removed in a future version, please use 'M' instead.\n",
      "\n",
      "/opt/anaconda3/lib/python3.12/site-packages/nannyml/chunk.py:294: FutureWarning:\n",
      "\n",
      "'m' is deprecated and will be removed in a future version, please use 'M' instead.\n",
      "\n",
      "/opt/anaconda3/lib/python3.12/site-packages/nannyml/chunk.py:294: FutureWarning:\n",
      "\n",
      "'m' is deprecated and will be removed in a future version, please use 'M' instead.\n",
      "\n",
      "/opt/anaconda3/lib/python3.12/site-packages/nannyml/chunk.py:294: FutureWarning:\n",
      "\n",
      "'m' is deprecated and will be removed in a future version, please use 'M' instead.\n",
      "\n",
      "/opt/anaconda3/lib/python3.12/site-packages/nannyml/chunk.py:294: FutureWarning:\n",
      "\n",
      "'m' is deprecated and will be removed in a future version, please use 'M' instead.\n",
      "\n",
      "/opt/anaconda3/lib/python3.12/site-packages/nannyml/chunk.py:294: FutureWarning:\n",
      "\n",
      "'m' is deprecated and will be removed in a future version, please use 'M' instead.\n",
      "\n"
     ]
    },
    {
     "data": {
      "application/vnd.plotly.v1+json": {
       "config": {
        "plotlyServerURL": "https://plot.ly"
       },
       "data": [
        {
         "hoverinfo": "skip",
         "line": {
          "color": "#3b0280",
          "dash": "dash",
          "shape": "hv",
          "width": 2
         },
         "mode": "lines",
         "name": "<b>Accuracy</b> (estimated Accuracy)",
         "showlegend": true,
         "type": "scatter",
         "x": [
          "2018-11-01T00:00:00",
          "2018-12-01T00:00:00",
          "2019-01-01T00:00:00",
          "2019-02-01T00:00:00",
          "2019-03-01T00:00:00",
          "2019-04-01T00:00:00",
          "2019-05-01T00:00:00",
          "2019-06-01T00:00:00",
          "2019-06-30T23:59:59.999999999"
         ],
         "xaxis": "x",
         "y": [
          0.9431226124101058,
          0.9445723612346161,
          0.9463083280952407,
          0.9453375636913552,
          0.9447216004964467,
          0.9134577789160071,
          0.9127727199287154,
          0.9135178976233636,
          0.9135178976233636
         ],
         "yaxis": "y"
        },
        {
         "customdata": [
          [
           "<b>Accuracy</b> (estimated Accuracy)",
           "<b style=\"color:Colors.INDIGO_PERSIAN;line-height:60px\">Reference</b>",
           "2018-11",
           "From <b>Nov-01-2018</b> to <b>Nov-30-2018</b>",
           0.9431
          ],
          [
           "<b>Accuracy</b> (estimated Accuracy)",
           "<b style=\"color:Colors.INDIGO_PERSIAN;line-height:60px\">Reference</b>",
           "2018-12",
           "From <b>Dec-01-2018</b> to <b>Dec-31-2018</b>",
           0.9446
          ],
          [
           "<b>Accuracy</b> (estimated Accuracy)",
           "<b style=\"color:Colors.INDIGO_PERSIAN;line-height:60px\">Reference</b>",
           "2019-01",
           "From <b>Jan-01-2019</b> to <b>Jan-31-2019</b>",
           0.9463
          ],
          [
           "<b>Accuracy</b> (estimated Accuracy)",
           "<b style=\"color:Colors.INDIGO_PERSIAN;line-height:60px\">Reference</b>",
           "2019-02",
           "From <b>Feb-01-2019</b> to <b>Feb-28-2019</b>",
           0.9453
          ],
          [
           "<b>Accuracy</b> (estimated Accuracy)",
           "<b style=\"color:Colors.INDIGO_PERSIAN;line-height:60px\">Reference</b>",
           "2019-03",
           "From <b>Mar-01-2019</b> to <b>Mar-31-2019</b>",
           0.9447
          ],
          [
           "<b>Accuracy</b> (estimated Accuracy)",
           "<b style=\"color:Colors.INDIGO_PERSIAN;line-height:60px\">Reference</b>",
           "2019-04",
           "From <b>Apr-01-2019</b> to <b>Apr-30-2019</b>",
           0.9135
          ],
          [
           "<b>Accuracy</b> (estimated Accuracy)",
           "<b style=\"color:Colors.INDIGO_PERSIAN;line-height:60px\">Reference</b>",
           "2019-05",
           "From <b>May-01-2019</b> to <b>May-31-2019</b>",
           0.9128
          ],
          [
           "<b>Accuracy</b> (estimated Accuracy)",
           "<b style=\"color:Colors.INDIGO_PERSIAN;line-height:60px\">Reference</b>",
           "2019-06",
           "From <b>Jun-01-2019</b> to <b>Jun-30-2019</b>",
           0.9135
          ]
         ],
         "hovertemplate": "%{customdata[1]}<br />Chunk: <b>%{customdata[2]}</b> &nbsp; &nbsp; %{customdata[3]} <br />%{customdata[0]}: <b>%{customdata[4]}</b><br /><extra></extra>",
         "line": {
          "dash": "dash"
         },
         "marker": {
          "color": "#3b0280",
          "size": 5,
          "symbol": "circle"
         },
         "mode": "markers",
         "name": "<b>Accuracy</b> (estimated Accuracy)",
         "showlegend": false,
         "type": "scatter",
         "x": [
          "2018-11-16T00:00:00",
          "2018-12-16T12:00:00",
          "2019-01-16T12:00:00",
          "2019-02-15T00:00:00",
          "2019-03-16T12:00:00",
          "2019-04-16T00:00:00",
          "2019-05-16T12:00:00",
          "2019-06-15T23:59:59.999999999"
         ],
         "xaxis": "x",
         "y": [
          0.9431226124101058,
          0.9445723612346161,
          0.9463083280952407,
          0.9453375636913552,
          0.9447216004964467,
          0.9134577789160071,
          0.9127727199287154,
          0.9135178976233636,
          0.9135178976233636
         ],
         "yaxis": "y"
        },
        {
         "connectgaps": true,
         "hoverinfo": "skip",
         "line": {
          "color": "rgba(0, 0, 0, 0)",
          "dash": "dash",
          "shape": "hv"
         },
         "mode": "lines",
         "name": "Confidence band",
         "showlegend": false,
         "type": "scatter",
         "x": [
          "2018-11-01T00:00:00",
          "2018-12-01T00:00:00",
          "2019-01-01T00:00:00",
          "2019-02-01T00:00:00",
          "2019-03-01T00:00:00",
          "2019-04-01T00:00:00",
          "2019-05-01T00:00:00",
          "2019-06-01T00:00:00",
          "2019-06-30T23:59:59.999999999"
         ],
         "xaxis": "x",
         "y": [
          0.9537896679416579,
          0.9550671528734754,
          0.956802094802056,
          0.9563798110779262,
          0.9552153672032621,
          0.9241248344475592,
          0.9232675115675748,
          0.9241849531549157,
          0.9241849531549157
         ],
         "yaxis": "y"
        },
        {
         "connectgaps": true,
         "fill": "tonexty",
         "fillcolor": "rgba(59, 2, 128, 0.2)",
         "hoverinfo": "skip",
         "line": {
          "color": "rgba(0, 0, 0, 0)",
          "dash": "dash",
          "shape": "hv"
         },
         "mode": "lines",
         "name": "Confidence band",
         "showlegend": true,
         "type": "scatter",
         "x": [
          "2018-11-01T00:00:00",
          "2018-12-01T00:00:00",
          "2019-01-01T00:00:00",
          "2019-02-01T00:00:00",
          "2019-03-01T00:00:00",
          "2019-04-01T00:00:00",
          "2019-05-01T00:00:00",
          "2019-06-01T00:00:00",
          "2019-06-30T23:59:59.999999999"
         ],
         "xaxis": "x",
         "y": [
          0.9324555568785536,
          0.9340775695957567,
          0.9358145613884253,
          0.9342953163047842,
          0.9342278337896314,
          0.902790723384455,
          0.9022779282898561,
          0.9028508420918114,
          0.9028508420918114
         ],
         "yaxis": "y"
        },
        {
         "hoverinfo": "skip",
         "line": {
          "color": "#00c8e5",
          "shape": "hv",
          "width": 2
         },
         "mode": "lines",
         "name": "<b>Accuracy</b> (realized Accuracy)",
         "showlegend": true,
         "type": "scatter",
         "x": [
          "2018-11-01T00:00:00",
          "2018-12-01T00:00:00",
          "2019-01-01T00:00:00",
          "2019-02-01T00:00:00",
          "2019-03-01T00:00:00",
          "2019-04-01T00:00:00",
          "2019-05-01T00:00:00",
          "2019-06-01T00:00:00",
          "2019-06-30T23:59:59.999999999"
         ],
         "xaxis": "x",
         "y": [
          0.9426841574167507,
          0.9410041023637429,
          0.9517578125,
          0.9431228373702422,
          0.9400390625,
          0.9146316851664985,
          0.9154131666341082,
          0.9142280524722503,
          0.9142280524722503
         ],
         "yaxis": "y"
        },
        {
         "customdata": [
          [
           "<b>Accuracy</b>",
           "<b style=\"color:Colors.BLUE_SKY_CRAYOLA;line-height:60px\">Reference</b>",
           "2018-11",
           "From <b>Nov-01-2018</b> to <b>Nov-30-2018</b>",
           0.9427
          ],
          [
           "<b>Accuracy</b>",
           "<b style=\"color:Colors.BLUE_SKY_CRAYOLA;line-height:60px\">Reference</b>",
           "2018-12",
           "From <b>Dec-01-2018</b> to <b>Dec-31-2018</b>",
           0.941
          ],
          [
           "<b>Accuracy</b>",
           "<b style=\"color:Colors.BLUE_SKY_CRAYOLA;line-height:60px\">Reference</b>",
           "2019-01",
           "From <b>Jan-01-2019</b> to <b>Jan-31-2019</b>",
           0.9518
          ],
          [
           "<b>Accuracy</b>",
           "<b style=\"color:Colors.BLUE_SKY_CRAYOLA;line-height:60px\">Reference</b>",
           "2019-02",
           "From <b>Feb-01-2019</b> to <b>Feb-28-2019</b>",
           0.9431
          ],
          [
           "<b>Accuracy</b>",
           "<b style=\"color:Colors.BLUE_SKY_CRAYOLA;line-height:60px\">Reference</b>",
           "2019-03",
           "From <b>Mar-01-2019</b> to <b>Mar-31-2019</b>",
           0.94
          ],
          [
           "<b>Accuracy</b>",
           "<b style=\"color:Colors.BLUE_SKY_CRAYOLA;line-height:60px\">Reference</b>",
           "2019-04",
           "From <b>Apr-01-2019</b> to <b>Apr-30-2019</b>",
           0.9146
          ],
          [
           "<b>Accuracy</b>",
           "<b style=\"color:Colors.BLUE_SKY_CRAYOLA;line-height:60px\">Reference</b>",
           "2019-05",
           "From <b>May-01-2019</b> to <b>May-31-2019</b>",
           0.9154
          ],
          [
           "<b>Accuracy</b>",
           "<b style=\"color:Colors.BLUE_SKY_CRAYOLA;line-height:60px\">Reference</b>",
           "2019-06",
           "From <b>Jun-01-2019</b> to <b>Jun-30-2019</b>",
           0.9142
          ]
         ],
         "hovertemplate": "%{customdata[1]}<br />Chunk: <b>%{customdata[2]}</b> &nbsp; &nbsp; %{customdata[3]} <br />%{customdata[0]}: <b>%{customdata[4]}</b><br /><extra></extra>",
         "marker": {
          "color": "#00c8e5",
          "size": 5,
          "symbol": "circle"
         },
         "mode": "markers",
         "name": "<b>Accuracy</b> (realized Accuracy)",
         "showlegend": false,
         "type": "scatter",
         "x": [
          "2018-11-16T00:00:00",
          "2018-12-16T12:00:00",
          "2019-01-16T12:00:00",
          "2019-02-15T00:00:00",
          "2019-03-16T12:00:00",
          "2019-04-16T00:00:00",
          "2019-05-16T12:00:00",
          "2019-06-15T23:59:59.999999999"
         ],
         "xaxis": "x",
         "y": [
          0.9426841574167507,
          0.9410041023637429,
          0.9517578125,
          0.9431228373702422,
          0.9400390625,
          0.9146316851664985,
          0.9154131666341082,
          0.9142280524722503,
          0.9142280524722503
         ],
         "yaxis": "y"
        },
        {
         "hoverinfo": "skip",
         "line": {
          "color": "#3b0280",
          "dash": "dash",
          "shape": "hv",
          "width": 2
         },
         "mode": "lines",
         "name": "<b>Accuracy</b> (estimated Accuracy)",
         "showlegend": false,
         "type": "scatter",
         "x": [
          "2018-01-01T00:00:00",
          "2018-02-01T00:00:00",
          "2018-03-01T00:00:00",
          "2018-04-01T00:00:00",
          "2018-05-01T00:00:00",
          "2018-06-01T00:00:00",
          "2018-07-01T00:00:00",
          "2018-08-01T00:00:00",
          "2018-09-01T00:00:00",
          "2018-10-01T00:00:00",
          "2018-10-31T23:59:59.999999999"
         ],
         "xaxis": "x",
         "y": [
          0.9457488670683827,
          0.9440490170134628,
          0.943662357585894,
          0.9451128175825916,
          0.9447157046498308,
          0.944745429319825,
          0.9430955037168204,
          0.9459304235638661,
          0.9457015247263141,
          0.9458090063215842,
          0.9458090063215842
         ],
         "yaxis": "y"
        },
        {
         "customdata": [
          [
           "<b>Accuracy</b> (estimated Accuracy)",
           "<b style=\"color:Colors.INDIGO_PERSIAN;line-height:60px\">Analysis</b>",
           "",
           "2018-01",
           "From <b>Jan-01-2018</b> to <b>Jan-31-2018</b>",
           0.9457
          ],
          [
           "<b>Accuracy</b> (estimated Accuracy)",
           "<b style=\"color:Colors.INDIGO_PERSIAN;line-height:60px\">Analysis</b>",
           "",
           "2018-02",
           "From <b>Feb-01-2018</b> to <b>Feb-28-2018</b>",
           0.944
          ],
          [
           "<b>Accuracy</b> (estimated Accuracy)",
           "<b style=\"color:Colors.INDIGO_PERSIAN;line-height:60px\">Analysis</b>",
           "",
           "2018-03",
           "From <b>Mar-01-2018</b> to <b>Mar-31-2018</b>",
           0.9437
          ],
          [
           "<b>Accuracy</b> (estimated Accuracy)",
           "<b style=\"color:Colors.INDIGO_PERSIAN;line-height:60px\">Analysis</b>",
           "",
           "2018-04",
           "From <b>Apr-01-2018</b> to <b>Apr-30-2018</b>",
           0.9451
          ],
          [
           "<b>Accuracy</b> (estimated Accuracy)",
           "<b style=\"color:Colors.INDIGO_PERSIAN;line-height:60px\">Analysis</b>",
           "",
           "2018-05",
           "From <b>May-01-2018</b> to <b>May-31-2018</b>",
           0.9447
          ],
          [
           "<b>Accuracy</b> (estimated Accuracy)",
           "<b style=\"color:Colors.INDIGO_PERSIAN;line-height:60px\">Analysis</b>",
           "",
           "2018-06",
           "From <b>Jun-01-2018</b> to <b>Jun-30-2018</b>",
           0.9447
          ],
          [
           "<b>Accuracy</b> (estimated Accuracy)",
           "<b style=\"color:Colors.INDIGO_PERSIAN;line-height:60px\">Analysis</b>",
           "",
           "2018-07",
           "From <b>Jul-01-2018</b> to <b>Jul-31-2018</b>",
           0.9431
          ],
          [
           "<b>Accuracy</b> (estimated Accuracy)",
           "<b style=\"color:Colors.INDIGO_PERSIAN;line-height:60px\">Analysis</b>",
           "",
           "2018-08",
           "From <b>Aug-01-2018</b> to <b>Aug-31-2018</b>",
           0.9459
          ],
          [
           "<b>Accuracy</b> (estimated Accuracy)",
           "<b style=\"color:Colors.INDIGO_PERSIAN;line-height:60px\">Analysis</b>",
           "",
           "2018-09",
           "From <b>Sep-01-2018</b> to <b>Sep-30-2018</b>",
           0.9457
          ],
          [
           "<b>Accuracy</b> (estimated Accuracy)",
           "<b style=\"color:Colors.INDIGO_PERSIAN;line-height:60px\">Analysis</b>",
           "",
           "2018-10",
           "From <b>Oct-01-2018</b> to <b>Oct-31-2018</b>",
           0.9458
          ]
         ],
         "hovertemplate": "%{customdata[1]} &nbsp; &nbsp; %{customdata[2]} <br />Chunk: <b>%{customdata[3]}</b> &nbsp; &nbsp; %{customdata[4]} <br />%{customdata[0]}: <b>%{customdata[5]}</b><br /><extra></extra>",
         "line": {
          "dash": "dash"
         },
         "marker": {
          "color": "#3b0280",
          "size": 5,
          "symbol": "circle"
         },
         "mode": "markers",
         "name": "<b>Accuracy</b> (estimated Accuracy)",
         "showlegend": false,
         "type": "scatter",
         "x": [
          "2018-01-16T12:00:00",
          "2018-02-15T00:00:00",
          "2018-03-16T12:00:00",
          "2018-04-16T00:00:00",
          "2018-05-16T12:00:00",
          "2018-06-16T00:00:00",
          "2018-07-16T12:00:00",
          "2018-08-16T12:00:00",
          "2018-09-16T00:00:00",
          "2018-10-16T11:59:59.999999999"
         ],
         "xaxis": "x",
         "y": [
          0.9457488670683827,
          0.9440490170134628,
          0.943662357585894,
          0.9451128175825916,
          0.9447157046498308,
          0.944745429319825,
          0.9430955037168204,
          0.9459304235638661,
          0.9457015247263141,
          0.9458090063215842,
          0.9458090063215842
         ],
         "yaxis": "y"
        },
        {
         "connectgaps": true,
         "hoverinfo": "skip",
         "line": {
          "color": "rgba(0, 0, 0, 0)",
          "shape": "hv"
         },
         "mode": "lines",
         "name": "Confidence band",
         "showlegend": false,
         "type": "scatter",
         "x": [
          "2018-01-01T00:00:00",
          "2018-02-01T00:00:00",
          "2018-03-01T00:00:00",
          "2018-04-01T00:00:00",
          "2018-05-01T00:00:00",
          "2018-06-01T00:00:00",
          "2018-07-01T00:00:00",
          "2018-08-01T00:00:00",
          "2018-09-01T00:00:00",
          "2018-10-01T00:00:00",
          "2018-10-31T23:59:59.999999999"
         ],
         "xaxis": "x",
         "y": [
          0.956242633775198,
          0.9550900705790252,
          0.9541571492247534,
          0.9557798731141437,
          0.9552094713566461,
          0.9554135614074207,
          0.9535892704236357,
          0.9564241902706815,
          0.9563696568139098,
          0.9563027730283995,
          0.9563027730283995
         ],
         "yaxis": "y"
        },
        {
         "connectgaps": true,
         "fill": "tonexty",
         "fillcolor": "rgba(59, 2, 128, 0.2)",
         "hoverinfo": "skip",
         "line": {
          "color": "rgba(0, 0, 0, 0)",
          "shape": "hv"
         },
         "mode": "lines",
         "name": "Confidence band",
         "showlegend": false,
         "type": "scatter",
         "x": [
          "2018-01-01T00:00:00",
          "2018-02-01T00:00:00",
          "2018-03-01T00:00:00",
          "2018-04-01T00:00:00",
          "2018-05-01T00:00:00",
          "2018-06-01T00:00:00",
          "2018-07-01T00:00:00",
          "2018-08-01T00:00:00",
          "2018-09-01T00:00:00",
          "2018-10-01T00:00:00",
          "2018-10-31T23:59:59.999999999"
         ],
         "xaxis": "x",
         "y": [
          0.9352551003615673,
          0.9330079634479004,
          0.9331675659470346,
          0.9344457620510395,
          0.9342219379430154,
          0.9340772972322292,
          0.932601737010005,
          0.9354366568570508,
          0.9350333926387183,
          0.9353152396147688,
          0.9353152396147688
         ],
         "yaxis": "y"
        },
        {
         "hoverinfo": "skip",
         "line": {
          "color": "#00c8e5",
          "shape": "hv",
          "width": 2
         },
         "mode": "lines",
         "name": "<b>Accuracy</b> (realized Accuracy)",
         "showlegend": false,
         "type": "scatter",
         "x": [
          "2018-01-01T00:00:00",
          "2018-02-01T00:00:00",
          "2018-03-01T00:00:00",
          "2018-04-01T00:00:00",
          "2018-05-01T00:00:00",
          "2018-06-01T00:00:00",
          "2018-07-01T00:00:00",
          "2018-08-01T00:00:00",
          "2018-09-01T00:00:00",
          "2018-10-01T00:00:00",
          "2018-10-31T23:59:59.999999999"
         ],
         "xaxis": "x",
         "y": [
          0.9470703125,
          0.9398918918918919,
          0.944129712834538,
          0.9442986881937437,
          0.938671875,
          0.9444893015744853,
          0.9447265625,
          0.944921875,
          0.9450948728300363,
          0.942578125,
          0.942578125
         ],
         "yaxis": "y"
        },
        {
         "customdata": [
          [
           "<b>Accuracy</b>",
           "<b style=\"color:Colors.BLUE_SKY_CRAYOLA;line-height:60px\">Analysis</b>",
           "",
           "2018-01",
           "From <b>Jan-01-2018</b> to <b>Jan-31-2018</b>",
           0.9471
          ],
          [
           "<b>Accuracy</b>",
           "<b style=\"color:Colors.BLUE_SKY_CRAYOLA;line-height:60px\">Analysis</b>",
           "",
           "2018-02",
           "From <b>Feb-01-2018</b> to <b>Feb-28-2018</b>",
           0.9399
          ],
          [
           "<b>Accuracy</b>",
           "<b style=\"color:Colors.BLUE_SKY_CRAYOLA;line-height:60px\">Analysis</b>",
           "",
           "2018-03",
           "From <b>Mar-01-2018</b> to <b>Mar-31-2018</b>",
           0.9441
          ],
          [
           "<b>Accuracy</b>",
           "<b style=\"color:Colors.BLUE_SKY_CRAYOLA;line-height:60px\">Analysis</b>",
           "",
           "2018-04",
           "From <b>Apr-01-2018</b> to <b>Apr-30-2018</b>",
           0.9443
          ],
          [
           "<b>Accuracy</b>",
           "<b style=\"color:Colors.BLUE_SKY_CRAYOLA;line-height:60px\">Analysis</b>",
           "",
           "2018-05",
           "From <b>May-01-2018</b> to <b>May-31-2018</b>",
           0.9387
          ],
          [
           "<b>Accuracy</b>",
           "<b style=\"color:Colors.BLUE_SKY_CRAYOLA;line-height:60px\">Analysis</b>",
           "",
           "2018-06",
           "From <b>Jun-01-2018</b> to <b>Jun-30-2018</b>",
           0.9445
          ],
          [
           "<b>Accuracy</b>",
           "<b style=\"color:Colors.BLUE_SKY_CRAYOLA;line-height:60px\">Analysis</b>",
           "",
           "2018-07",
           "From <b>Jul-01-2018</b> to <b>Jul-31-2018</b>",
           0.9447
          ],
          [
           "<b>Accuracy</b>",
           "<b style=\"color:Colors.BLUE_SKY_CRAYOLA;line-height:60px\">Analysis</b>",
           "",
           "2018-08",
           "From <b>Aug-01-2018</b> to <b>Aug-31-2018</b>",
           0.9449
          ],
          [
           "<b>Accuracy</b>",
           "<b style=\"color:Colors.BLUE_SKY_CRAYOLA;line-height:60px\">Analysis</b>",
           "",
           "2018-09",
           "From <b>Sep-01-2018</b> to <b>Sep-30-2018</b>",
           0.9451
          ],
          [
           "<b>Accuracy</b>",
           "<b style=\"color:Colors.BLUE_SKY_CRAYOLA;line-height:60px\">Analysis</b>",
           "",
           "2018-10",
           "From <b>Oct-01-2018</b> to <b>Oct-31-2018</b>",
           0.9426
          ]
         ],
         "hovertemplate": "%{customdata[1]} &nbsp; &nbsp; %{customdata[2]} <br />Chunk: <b>%{customdata[3]}</b> &nbsp; &nbsp; %{customdata[4]} <br />%{customdata[0]}: <b>%{customdata[5]}</b><br /><extra></extra>",
         "marker": {
          "color": "#00c8e5",
          "size": 5,
          "symbol": "circle"
         },
         "mode": "markers",
         "name": "<b>Accuracy</b> (realized Accuracy)",
         "showlegend": false,
         "type": "scatter",
         "x": [
          "2018-01-16T12:00:00",
          "2018-02-15T00:00:00",
          "2018-03-16T12:00:00",
          "2018-04-16T00:00:00",
          "2018-05-16T12:00:00",
          "2018-06-16T00:00:00",
          "2018-07-16T12:00:00",
          "2018-08-16T12:00:00",
          "2018-09-16T00:00:00",
          "2018-10-16T11:59:59.999999999"
         ],
         "xaxis": "x",
         "y": [
          0.9470703125,
          0.9398918918918919,
          0.944129712834538,
          0.9442986881937437,
          0.938671875,
          0.9444893015744853,
          0.9447265625,
          0.944921875,
          0.9450948728300363,
          0.942578125,
          0.942578125
         ],
         "yaxis": "y"
        },
        {
         "hoverinfo": "skip",
         "legendgroup": "alert",
         "marker": {
          "color": "#DD4040",
          "size": 8,
          "symbol": "diamond"
         },
         "mode": "markers",
         "name": "Alert",
         "showlegend": true,
         "type": "scatter",
         "x": [],
         "xaxis": "x",
         "y": [],
         "yaxis": "y"
        },
        {
         "hoverinfo": "skip",
         "legendgroup": "alert",
         "marker": {
          "color": "#DD4040",
          "size": 8,
          "symbol": "diamond"
         },
         "mode": "markers",
         "name": "Alert",
         "showlegend": false,
         "type": "scatter",
         "x": [],
         "xaxis": "x",
         "y": [],
         "yaxis": "y"
        }
       ],
       "layout": {
        "annotations": [
         {
          "font": {
           "size": 16
          },
          "showarrow": false,
          "text": "<b>Accuracy</b> (estimated Accuracy) vs. <b>Accuracy</b> (realized Accuracy)",
          "x": 0.47,
          "xanchor": "center",
          "xref": "paper",
          "y": 1,
          "yanchor": "bottom",
          "yref": "paper"
         },
         {
          "showarrow": false,
          "text": "Reference",
          "x": "2019-02-14T21:00:00",
          "xshift": 10,
          "y": 1,
          "yref": "paper"
         },
         {
          "showarrow": false,
          "text": "Analysis",
          "x": "2018-05-17T00:00:00",
          "xshift": 15,
          "y": 1,
          "yref": "paper"
         }
        ],
        "autosize": true,
        "hoverlabel": {
         "bgcolor": "white",
         "font": {
          "size": 14
         }
        },
        "legend": {
         "itemclick": false,
         "itemdoubleclick": false,
         "traceorder": "grouped"
        },
        "paper_bgcolor": "rgba(255,255,255,1)",
        "plot_bgcolor": "rgba(255,255,255,1)",
        "shapes": [
         {
          "layer": "below",
          "line": {
           "color": "#666666",
           "width": 1
          },
          "type": "line",
          "x0": "2018-01-01T00:00:00",
          "x1": "2018-01-01T00:00:00",
          "xref": "x",
          "y0": 0,
          "y1": 1,
          "yref": "y domain"
         }
        ],
        "template": {
         "data": {
          "bar": [
           {
            "error_x": {
             "color": "#2a3f5f"
            },
            "error_y": {
             "color": "#2a3f5f"
            },
            "marker": {
             "line": {
              "color": "#E5ECF6",
              "width": 0.5
             },
             "pattern": {
              "fillmode": "overlay",
              "size": 10,
              "solidity": 0.2
             }
            },
            "type": "bar"
           }
          ],
          "barpolar": [
           {
            "marker": {
             "line": {
              "color": "#E5ECF6",
              "width": 0.5
             },
             "pattern": {
              "fillmode": "overlay",
              "size": 10,
              "solidity": 0.2
             }
            },
            "type": "barpolar"
           }
          ],
          "carpet": [
           {
            "aaxis": {
             "endlinecolor": "#2a3f5f",
             "gridcolor": "white",
             "linecolor": "white",
             "minorgridcolor": "white",
             "startlinecolor": "#2a3f5f"
            },
            "baxis": {
             "endlinecolor": "#2a3f5f",
             "gridcolor": "white",
             "linecolor": "white",
             "minorgridcolor": "white",
             "startlinecolor": "#2a3f5f"
            },
            "type": "carpet"
           }
          ],
          "choropleth": [
           {
            "colorbar": {
             "outlinewidth": 0,
             "ticks": ""
            },
            "type": "choropleth"
           }
          ],
          "contour": [
           {
            "colorbar": {
             "outlinewidth": 0,
             "ticks": ""
            },
            "colorscale": [
             [
              0,
              "#0d0887"
             ],
             [
              0.1111111111111111,
              "#46039f"
             ],
             [
              0.2222222222222222,
              "#7201a8"
             ],
             [
              0.3333333333333333,
              "#9c179e"
             ],
             [
              0.4444444444444444,
              "#bd3786"
             ],
             [
              0.5555555555555556,
              "#d8576b"
             ],
             [
              0.6666666666666666,
              "#ed7953"
             ],
             [
              0.7777777777777778,
              "#fb9f3a"
             ],
             [
              0.8888888888888888,
              "#fdca26"
             ],
             [
              1,
              "#f0f921"
             ]
            ],
            "type": "contour"
           }
          ],
          "contourcarpet": [
           {
            "colorbar": {
             "outlinewidth": 0,
             "ticks": ""
            },
            "type": "contourcarpet"
           }
          ],
          "heatmap": [
           {
            "colorbar": {
             "outlinewidth": 0,
             "ticks": ""
            },
            "colorscale": [
             [
              0,
              "#0d0887"
             ],
             [
              0.1111111111111111,
              "#46039f"
             ],
             [
              0.2222222222222222,
              "#7201a8"
             ],
             [
              0.3333333333333333,
              "#9c179e"
             ],
             [
              0.4444444444444444,
              "#bd3786"
             ],
             [
              0.5555555555555556,
              "#d8576b"
             ],
             [
              0.6666666666666666,
              "#ed7953"
             ],
             [
              0.7777777777777778,
              "#fb9f3a"
             ],
             [
              0.8888888888888888,
              "#fdca26"
             ],
             [
              1,
              "#f0f921"
             ]
            ],
            "type": "heatmap"
           }
          ],
          "heatmapgl": [
           {
            "colorbar": {
             "outlinewidth": 0,
             "ticks": ""
            },
            "colorscale": [
             [
              0,
              "#0d0887"
             ],
             [
              0.1111111111111111,
              "#46039f"
             ],
             [
              0.2222222222222222,
              "#7201a8"
             ],
             [
              0.3333333333333333,
              "#9c179e"
             ],
             [
              0.4444444444444444,
              "#bd3786"
             ],
             [
              0.5555555555555556,
              "#d8576b"
             ],
             [
              0.6666666666666666,
              "#ed7953"
             ],
             [
              0.7777777777777778,
              "#fb9f3a"
             ],
             [
              0.8888888888888888,
              "#fdca26"
             ],
             [
              1,
              "#f0f921"
             ]
            ],
            "type": "heatmapgl"
           }
          ],
          "histogram": [
           {
            "marker": {
             "pattern": {
              "fillmode": "overlay",
              "size": 10,
              "solidity": 0.2
             }
            },
            "type": "histogram"
           }
          ],
          "histogram2d": [
           {
            "colorbar": {
             "outlinewidth": 0,
             "ticks": ""
            },
            "colorscale": [
             [
              0,
              "#0d0887"
             ],
             [
              0.1111111111111111,
              "#46039f"
             ],
             [
              0.2222222222222222,
              "#7201a8"
             ],
             [
              0.3333333333333333,
              "#9c179e"
             ],
             [
              0.4444444444444444,
              "#bd3786"
             ],
             [
              0.5555555555555556,
              "#d8576b"
             ],
             [
              0.6666666666666666,
              "#ed7953"
             ],
             [
              0.7777777777777778,
              "#fb9f3a"
             ],
             [
              0.8888888888888888,
              "#fdca26"
             ],
             [
              1,
              "#f0f921"
             ]
            ],
            "type": "histogram2d"
           }
          ],
          "histogram2dcontour": [
           {
            "colorbar": {
             "outlinewidth": 0,
             "ticks": ""
            },
            "colorscale": [
             [
              0,
              "#0d0887"
             ],
             [
              0.1111111111111111,
              "#46039f"
             ],
             [
              0.2222222222222222,
              "#7201a8"
             ],
             [
              0.3333333333333333,
              "#9c179e"
             ],
             [
              0.4444444444444444,
              "#bd3786"
             ],
             [
              0.5555555555555556,
              "#d8576b"
             ],
             [
              0.6666666666666666,
              "#ed7953"
             ],
             [
              0.7777777777777778,
              "#fb9f3a"
             ],
             [
              0.8888888888888888,
              "#fdca26"
             ],
             [
              1,
              "#f0f921"
             ]
            ],
            "type": "histogram2dcontour"
           }
          ],
          "mesh3d": [
           {
            "colorbar": {
             "outlinewidth": 0,
             "ticks": ""
            },
            "type": "mesh3d"
           }
          ],
          "parcoords": [
           {
            "line": {
             "colorbar": {
              "outlinewidth": 0,
              "ticks": ""
             }
            },
            "type": "parcoords"
           }
          ],
          "pie": [
           {
            "automargin": true,
            "type": "pie"
           }
          ],
          "scatter": [
           {
            "fillpattern": {
             "fillmode": "overlay",
             "size": 10,
             "solidity": 0.2
            },
            "type": "scatter"
           }
          ],
          "scatter3d": [
           {
            "line": {
             "colorbar": {
              "outlinewidth": 0,
              "ticks": ""
             }
            },
            "marker": {
             "colorbar": {
              "outlinewidth": 0,
              "ticks": ""
             }
            },
            "type": "scatter3d"
           }
          ],
          "scattercarpet": [
           {
            "marker": {
             "colorbar": {
              "outlinewidth": 0,
              "ticks": ""
             }
            },
            "type": "scattercarpet"
           }
          ],
          "scattergeo": [
           {
            "marker": {
             "colorbar": {
              "outlinewidth": 0,
              "ticks": ""
             }
            },
            "type": "scattergeo"
           }
          ],
          "scattergl": [
           {
            "marker": {
             "colorbar": {
              "outlinewidth": 0,
              "ticks": ""
             }
            },
            "type": "scattergl"
           }
          ],
          "scattermapbox": [
           {
            "marker": {
             "colorbar": {
              "outlinewidth": 0,
              "ticks": ""
             }
            },
            "type": "scattermapbox"
           }
          ],
          "scatterpolar": [
           {
            "marker": {
             "colorbar": {
              "outlinewidth": 0,
              "ticks": ""
             }
            },
            "type": "scatterpolar"
           }
          ],
          "scatterpolargl": [
           {
            "marker": {
             "colorbar": {
              "outlinewidth": 0,
              "ticks": ""
             }
            },
            "type": "scatterpolargl"
           }
          ],
          "scatterternary": [
           {
            "marker": {
             "colorbar": {
              "outlinewidth": 0,
              "ticks": ""
             }
            },
            "type": "scatterternary"
           }
          ],
          "surface": [
           {
            "colorbar": {
             "outlinewidth": 0,
             "ticks": ""
            },
            "colorscale": [
             [
              0,
              "#0d0887"
             ],
             [
              0.1111111111111111,
              "#46039f"
             ],
             [
              0.2222222222222222,
              "#7201a8"
             ],
             [
              0.3333333333333333,
              "#9c179e"
             ],
             [
              0.4444444444444444,
              "#bd3786"
             ],
             [
              0.5555555555555556,
              "#d8576b"
             ],
             [
              0.6666666666666666,
              "#ed7953"
             ],
             [
              0.7777777777777778,
              "#fb9f3a"
             ],
             [
              0.8888888888888888,
              "#fdca26"
             ],
             [
              1,
              "#f0f921"
             ]
            ],
            "type": "surface"
           }
          ],
          "table": [
           {
            "cells": {
             "fill": {
              "color": "#EBF0F8"
             },
             "line": {
              "color": "white"
             }
            },
            "header": {
             "fill": {
              "color": "#C8D4E3"
             },
             "line": {
              "color": "white"
             }
            },
            "type": "table"
           }
          ]
         },
         "layout": {
          "annotationdefaults": {
           "arrowcolor": "#2a3f5f",
           "arrowhead": 0,
           "arrowwidth": 1
          },
          "autotypenumbers": "strict",
          "coloraxis": {
           "colorbar": {
            "outlinewidth": 0,
            "ticks": ""
           }
          },
          "colorscale": {
           "diverging": [
            [
             0,
             "#8e0152"
            ],
            [
             0.1,
             "#c51b7d"
            ],
            [
             0.2,
             "#de77ae"
            ],
            [
             0.3,
             "#f1b6da"
            ],
            [
             0.4,
             "#fde0ef"
            ],
            [
             0.5,
             "#f7f7f7"
            ],
            [
             0.6,
             "#e6f5d0"
            ],
            [
             0.7,
             "#b8e186"
            ],
            [
             0.8,
             "#7fbc41"
            ],
            [
             0.9,
             "#4d9221"
            ],
            [
             1,
             "#276419"
            ]
           ],
           "sequential": [
            [
             0,
             "#0d0887"
            ],
            [
             0.1111111111111111,
             "#46039f"
            ],
            [
             0.2222222222222222,
             "#7201a8"
            ],
            [
             0.3333333333333333,
             "#9c179e"
            ],
            [
             0.4444444444444444,
             "#bd3786"
            ],
            [
             0.5555555555555556,
             "#d8576b"
            ],
            [
             0.6666666666666666,
             "#ed7953"
            ],
            [
             0.7777777777777778,
             "#fb9f3a"
            ],
            [
             0.8888888888888888,
             "#fdca26"
            ],
            [
             1,
             "#f0f921"
            ]
           ],
           "sequentialminus": [
            [
             0,
             "#0d0887"
            ],
            [
             0.1111111111111111,
             "#46039f"
            ],
            [
             0.2222222222222222,
             "#7201a8"
            ],
            [
             0.3333333333333333,
             "#9c179e"
            ],
            [
             0.4444444444444444,
             "#bd3786"
            ],
            [
             0.5555555555555556,
             "#d8576b"
            ],
            [
             0.6666666666666666,
             "#ed7953"
            ],
            [
             0.7777777777777778,
             "#fb9f3a"
            ],
            [
             0.8888888888888888,
             "#fdca26"
            ],
            [
             1,
             "#f0f921"
            ]
           ]
          },
          "colorway": [
           "#636efa",
           "#EF553B",
           "#00cc96",
           "#ab63fa",
           "#FFA15A",
           "#19d3f3",
           "#FF6692",
           "#B6E880",
           "#FF97FF",
           "#FECB52"
          ],
          "font": {
           "color": "#2a3f5f"
          },
          "geo": {
           "bgcolor": "white",
           "lakecolor": "white",
           "landcolor": "#E5ECF6",
           "showlakes": true,
           "showland": true,
           "subunitcolor": "white"
          },
          "hoverlabel": {
           "align": "left"
          },
          "hovermode": "closest",
          "mapbox": {
           "style": "light"
          },
          "paper_bgcolor": "white",
          "plot_bgcolor": "#E5ECF6",
          "polar": {
           "angularaxis": {
            "gridcolor": "white",
            "linecolor": "white",
            "ticks": ""
           },
           "bgcolor": "#E5ECF6",
           "radialaxis": {
            "gridcolor": "white",
            "linecolor": "white",
            "ticks": ""
           }
          },
          "scene": {
           "xaxis": {
            "backgroundcolor": "#E5ECF6",
            "gridcolor": "white",
            "gridwidth": 2,
            "linecolor": "white",
            "showbackground": true,
            "ticks": "",
            "zerolinecolor": "white"
           },
           "yaxis": {
            "backgroundcolor": "#E5ECF6",
            "gridcolor": "white",
            "gridwidth": 2,
            "linecolor": "white",
            "showbackground": true,
            "ticks": "",
            "zerolinecolor": "white"
           },
           "zaxis": {
            "backgroundcolor": "#E5ECF6",
            "gridcolor": "white",
            "gridwidth": 2,
            "linecolor": "white",
            "showbackground": true,
            "ticks": "",
            "zerolinecolor": "white"
           }
          },
          "shapedefaults": {
           "line": {
            "color": "#2a3f5f"
           }
          },
          "ternary": {
           "aaxis": {
            "gridcolor": "white",
            "linecolor": "white",
            "ticks": ""
           },
           "baxis": {
            "gridcolor": "white",
            "linecolor": "white",
            "ticks": ""
           },
           "bgcolor": "#E5ECF6",
           "caxis": {
            "gridcolor": "white",
            "linecolor": "white",
            "ticks": ""
           }
          },
          "title": {
           "x": 0.05
          },
          "xaxis": {
           "automargin": true,
           "gridcolor": "white",
           "linecolor": "white",
           "ticks": "",
           "title": {
            "standoff": 15
           },
           "zerolinecolor": "white",
           "zerolinewidth": 2
          },
          "yaxis": {
           "automargin": true,
           "gridcolor": "white",
           "linecolor": "white",
           "ticks": "",
           "title": {
            "standoff": 15
           },
           "zerolinecolor": "white",
           "zerolinewidth": 2
          }
         }
        },
        "title": {
         "text": "<b>Estimated performance (CBPE)</b> vs. <b>Realized performance</b>"
        },
        "xaxis": {
         "anchor": "y",
         "autorange": true,
         "domain": [
          0,
          0.94
         ],
         "linecolor": "#3b0280",
         "matches": "x",
         "mirror": true,
         "range": [
          "2017-12-08 05:00:06.7275",
          "2019-07-25 06:59:53.2725"
         ],
         "showgrid": false,
         "title": {
          "text": "Time"
         },
         "type": "date",
         "zeroline": false
        },
        "yaxis": {
         "anchor": "x",
         "autorange": true,
         "domain": [
          0,
          1
         ],
         "linecolor": "#3b0280",
         "mirror": true,
         "range": [
          0.8992488079280672,
          0.959831215163845
         ],
         "showgrid": false,
         "title": {
          "text": "<b>Accuracy</b>"
         },
         "type": "linear",
         "zeroline": false
        },
        "yaxis2": {
         "anchor": "x",
         "linecolor": "#3b0280",
         "mirror": true,
         "overlaying": "y",
         "showgrid": false,
         "side": "right",
         "title": {
          "text": "Comparison"
         },
         "zeroline": false
        }
       }
      },
      "image/png": "[encoded data removed]",
      "text/html": [
       "<div>                            <div id=\"7a81ff6a-4b20-47e9-b409-b221f2050a39\" class=\"plotly-graph-div\" style=\"height:500.0px; width:100%;\"></div>            <script type=\"text/javascript\">                require([\"plotly\"], function(Plotly) {                    window.PLOTLYENV=window.PLOTLYENV || {};                                    if (document.getElementById(\"7a81ff6a-4b20-47e9-b409-b221f2050a39\")) {                    Plotly.newPlot(                        \"7a81ff6a-4b20-47e9-b409-b221f2050a39\",                        [{\"hoverinfo\":\"skip\",\"line\":{\"color\":\"#3b0280\",\"dash\":\"dash\",\"shape\":\"hv\",\"width\":2},\"mode\":\"lines\",\"name\":\"\\u003cb\\u003eAccuracy\\u003c\\u002fb\\u003e (estimated Accuracy)\",\"showlegend\":true,\"x\":[\"2018-11-01T00:00:00\",\"2018-12-01T00:00:00\",\"2019-01-01T00:00:00\",\"2019-02-01T00:00:00\",\"2019-03-01T00:00:00\",\"2019-04-01T00:00:00\",\"2019-05-01T00:00:00\",\"2019-06-01T00:00:00\",\"2019-06-30T23:59:59.999999999\"],\"xaxis\":\"x\",\"y\":[0.9431226124101058,0.9445723612346161,0.9463083280952407,0.9453375636913552,0.9447216004964467,0.9134577789160071,0.9127727199287154,0.9135178976233636,0.9135178976233636],\"yaxis\":\"y\",\"type\":\"scatter\"},{\"customdata\":[[\"\\u003cb\\u003eAccuracy\\u003c\\u002fb\\u003e (estimated Accuracy)\",\"\\u003cb style=\\\"color:Colors.INDIGO_PERSIAN;line-height:60px\\\"\\u003eReference\\u003c\\u002fb\\u003e\",\"2018-11\",\"From \\u003cb\\u003eNov-01-2018\\u003c\\u002fb\\u003e to \\u003cb\\u003eNov-30-2018\\u003c\\u002fb\\u003e\",0.9431],[\"\\u003cb\\u003eAccuracy\\u003c\\u002fb\\u003e (estimated Accuracy)\",\"\\u003cb style=\\\"color:Colors.INDIGO_PERSIAN;line-height:60px\\\"\\u003eReference\\u003c\\u002fb\\u003e\",\"2018-12\",\"From \\u003cb\\u003eDec-01-2018\\u003c\\u002fb\\u003e to \\u003cb\\u003eDec-31-2018\\u003c\\u002fb\\u003e\",0.9446],[\"\\u003cb\\u003eAccuracy\\u003c\\u002fb\\u003e (estimated Accuracy)\",\"\\u003cb style=\\\"color:Colors.INDIGO_PERSIAN;line-height:60px\\\"\\u003eReference\\u003c\\u002fb\\u003e\",\"2019-01\",\"From \\u003cb\\u003eJan-01-2019\\u003c\\u002fb\\u003e to \\u003cb\\u003eJan-31-2019\\u003c\\u002fb\\u003e\",0.9463],[\"\\u003cb\\u003eAccuracy\\u003c\\u002fb\\u003e (estimated Accuracy)\",\"\\u003cb style=\\\"color:Colors.INDIGO_PERSIAN;line-height:60px\\\"\\u003eReference\\u003c\\u002fb\\u003e\",\"2019-02\",\"From \\u003cb\\u003eFeb-01-2019\\u003c\\u002fb\\u003e to \\u003cb\\u003eFeb-28-2019\\u003c\\u002fb\\u003e\",0.9453],[\"\\u003cb\\u003eAccuracy\\u003c\\u002fb\\u003e (estimated Accuracy)\",\"\\u003cb style=\\\"color:Colors.INDIGO_PERSIAN;line-height:60px\\\"\\u003eReference\\u003c\\u002fb\\u003e\",\"2019-03\",\"From \\u003cb\\u003eMar-01-2019\\u003c\\u002fb\\u003e to \\u003cb\\u003eMar-31-2019\\u003c\\u002fb\\u003e\",0.9447],[\"\\u003cb\\u003eAccuracy\\u003c\\u002fb\\u003e (estimated Accuracy)\",\"\\u003cb style=\\\"color:Colors.INDIGO_PERSIAN;line-height:60px\\\"\\u003eReference\\u003c\\u002fb\\u003e\",\"2019-04\",\"From \\u003cb\\u003eApr-01-2019\\u003c\\u002fb\\u003e to \\u003cb\\u003eApr-30-2019\\u003c\\u002fb\\u003e\",0.9135],[\"\\u003cb\\u003eAccuracy\\u003c\\u002fb\\u003e (estimated Accuracy)\",\"\\u003cb style=\\\"color:Colors.INDIGO_PERSIAN;line-height:60px\\\"\\u003eReference\\u003c\\u002fb\\u003e\",\"2019-05\",\"From \\u003cb\\u003eMay-01-2019\\u003c\\u002fb\\u003e to \\u003cb\\u003eMay-31-2019\\u003c\\u002fb\\u003e\",0.9128],[\"\\u003cb\\u003eAccuracy\\u003c\\u002fb\\u003e (estimated Accuracy)\",\"\\u003cb style=\\\"color:Colors.INDIGO_PERSIAN;line-height:60px\\\"\\u003eReference\\u003c\\u002fb\\u003e\",\"2019-06\",\"From \\u003cb\\u003eJun-01-2019\\u003c\\u002fb\\u003e to \\u003cb\\u003eJun-30-2019\\u003c\\u002fb\\u003e\",0.9135]],\"hovertemplate\":\"%{customdata[1]}\\u003cbr \\u002f\\u003eChunk: \\u003cb\\u003e%{customdata[2]}\\u003c\\u002fb\\u003e &nbsp; &nbsp; %{customdata[3]} \\u003cbr \\u002f\\u003e%{customdata[0]}: \\u003cb\\u003e%{customdata[4]}\\u003c\\u002fb\\u003e\\u003cbr \\u002f\\u003e\\u003cextra\\u003e\\u003c\\u002fextra\\u003e\",\"line\":{\"dash\":\"dash\"},\"marker\":{\"color\":\"#3b0280\",\"size\":5,\"symbol\":\"circle\"},\"mode\":\"markers\",\"name\":\"\\u003cb\\u003eAccuracy\\u003c\\u002fb\\u003e (estimated Accuracy)\",\"showlegend\":false,\"x\":[\"2018-11-16T00:00:00\",\"2018-12-16T12:00:00\",\"2019-01-16T12:00:00\",\"2019-02-15T00:00:00\",\"2019-03-16T12:00:00\",\"2019-04-16T00:00:00\",\"2019-05-16T12:00:00\",\"2019-06-15T23:59:59.999999999\"],\"xaxis\":\"x\",\"y\":[0.9431226124101058,0.9445723612346161,0.9463083280952407,0.9453375636913552,0.9447216004964467,0.9134577789160071,0.9127727199287154,0.9135178976233636,0.9135178976233636],\"yaxis\":\"y\",\"type\":\"scatter\"},{\"connectgaps\":true,\"hoverinfo\":\"skip\",\"line\":{\"color\":\"rgba(0,0,0,0)\",\"dash\":\"dash\",\"shape\":\"hv\"},\"mode\":\"lines\",\"name\":\"Confidence band\",\"showlegend\":false,\"x\":[\"2018-11-01T00:00:00\",\"2018-12-01T00:00:00\",\"2019-01-01T00:00:00\",\"2019-02-01T00:00:00\",\"2019-03-01T00:00:00\",\"2019-04-01T00:00:00\",\"2019-05-01T00:00:00\",\"2019-06-01T00:00:00\",\"2019-06-30T23:59:59.999999999\"],\"xaxis\":\"x\",\"y\":[0.9537896679416579,0.9550671528734754,0.956802094802056,0.9563798110779262,0.9552153672032621,0.9241248344475592,0.9232675115675748,0.9241849531549157,0.9241849531549157],\"yaxis\":\"y\",\"type\":\"scatter\"},{\"connectgaps\":true,\"fill\":\"tonexty\",\"fillcolor\":\"rgba(0.23137254901960785, 0.00784313725490196, 0.5019607843137255, 0.2)\",\"hoverinfo\":\"skip\",\"line\":{\"color\":\"rgba(0,0,0,0)\",\"dash\":\"dash\",\"shape\":\"hv\"},\"mode\":\"lines\",\"name\":\"Confidence band\",\"showlegend\":true,\"x\":[\"2018-11-01T00:00:00\",\"2018-12-01T00:00:00\",\"2019-01-01T00:00:00\",\"2019-02-01T00:00:00\",\"2019-03-01T00:00:00\",\"2019-04-01T00:00:00\",\"2019-05-01T00:00:00\",\"2019-06-01T00:00:00\",\"2019-06-30T23:59:59.999999999\"],\"xaxis\":\"x\",\"y\":[0.9324555568785536,0.9340775695957567,0.9358145613884253,0.9342953163047842,0.9342278337896314,0.902790723384455,0.9022779282898561,0.9028508420918114,0.9028508420918114],\"yaxis\":\"y\",\"type\":\"scatter\"},{\"hoverinfo\":\"skip\",\"line\":{\"color\":\"#00c8e5\",\"shape\":\"hv\",\"width\":2},\"mode\":\"lines\",\"name\":\"\\u003cb\\u003eAccuracy\\u003c\\u002fb\\u003e (realized Accuracy)\",\"showlegend\":true,\"x\":[\"2018-11-01T00:00:00\",\"2018-12-01T00:00:00\",\"2019-01-01T00:00:00\",\"2019-02-01T00:00:00\",\"2019-03-01T00:00:00\",\"2019-04-01T00:00:00\",\"2019-05-01T00:00:00\",\"2019-06-01T00:00:00\",\"2019-06-30T23:59:59.999999999\"],\"xaxis\":\"x\",\"y\":[0.9426841574167507,0.9410041023637429,0.9517578125,0.9431228373702422,0.9400390625,0.9146316851664985,0.9154131666341082,0.9142280524722503,0.9142280524722503],\"yaxis\":\"y\",\"type\":\"scatter\"},{\"customdata\":[[\"\\u003cb\\u003eAccuracy\\u003c\\u002fb\\u003e\",\"\\u003cb style=\\\"color:Colors.BLUE_SKY_CRAYOLA;line-height:60px\\\"\\u003eReference\\u003c\\u002fb\\u003e\",\"2018-11\",\"From \\u003cb\\u003eNov-01-2018\\u003c\\u002fb\\u003e to \\u003cb\\u003eNov-30-2018\\u003c\\u002fb\\u003e\",0.9427],[\"\\u003cb\\u003eAccuracy\\u003c\\u002fb\\u003e\",\"\\u003cb style=\\\"color:Colors.BLUE_SKY_CRAYOLA;line-height:60px\\\"\\u003eReference\\u003c\\u002fb\\u003e\",\"2018-12\",\"From \\u003cb\\u003eDec-01-2018\\u003c\\u002fb\\u003e to \\u003cb\\u003eDec-31-2018\\u003c\\u002fb\\u003e\",0.941],[\"\\u003cb\\u003eAccuracy\\u003c\\u002fb\\u003e\",\"\\u003cb style=\\\"color:Colors.BLUE_SKY_CRAYOLA;line-height:60px\\\"\\u003eReference\\u003c\\u002fb\\u003e\",\"2019-01\",\"From \\u003cb\\u003eJan-01-2019\\u003c\\u002fb\\u003e to \\u003cb\\u003eJan-31-2019\\u003c\\u002fb\\u003e\",0.9518],[\"\\u003cb\\u003eAccuracy\\u003c\\u002fb\\u003e\",\"\\u003cb style=\\\"color:Colors.BLUE_SKY_CRAYOLA;line-height:60px\\\"\\u003eReference\\u003c\\u002fb\\u003e\",\"2019-02\",\"From \\u003cb\\u003eFeb-01-2019\\u003c\\u002fb\\u003e to \\u003cb\\u003eFeb-28-2019\\u003c\\u002fb\\u003e\",0.9431],[\"\\u003cb\\u003eAccuracy\\u003c\\u002fb\\u003e\",\"\\u003cb style=\\\"color:Colors.BLUE_SKY_CRAYOLA;line-height:60px\\\"\\u003eReference\\u003c\\u002fb\\u003e\",\"2019-03\",\"From \\u003cb\\u003eMar-01-2019\\u003c\\u002fb\\u003e to \\u003cb\\u003eMar-31-2019\\u003c\\u002fb\\u003e\",0.94],[\"\\u003cb\\u003eAccuracy\\u003c\\u002fb\\u003e\",\"\\u003cb style=\\\"color:Colors.BLUE_SKY_CRAYOLA;line-height:60px\\\"\\u003eReference\\u003c\\u002fb\\u003e\",\"2019-04\",\"From \\u003cb\\u003eApr-01-2019\\u003c\\u002fb\\u003e to \\u003cb\\u003eApr-30-2019\\u003c\\u002fb\\u003e\",0.9146],[\"\\u003cb\\u003eAccuracy\\u003c\\u002fb\\u003e\",\"\\u003cb style=\\\"color:Colors.BLUE_SKY_CRAYOLA;line-height:60px\\\"\\u003eReference\\u003c\\u002fb\\u003e\",\"2019-05\",\"From \\u003cb\\u003eMay-01-2019\\u003c\\u002fb\\u003e to \\u003cb\\u003eMay-31-2019\\u003c\\u002fb\\u003e\",0.9154],[\"\\u003cb\\u003eAccuracy\\u003c\\u002fb\\u003e\",\"\\u003cb style=\\\"color:Colors.BLUE_SKY_CRAYOLA;line-height:60px\\\"\\u003eReference\\u003c\\u002fb\\u003e\",\"2019-06\",\"From \\u003cb\\u003eJun-01-2019\\u003c\\u002fb\\u003e to \\u003cb\\u003eJun-30-2019\\u003c\\u002fb\\u003e\",0.9142]],\"hovertemplate\":\"%{customdata[1]}\\u003cbr \\u002f\\u003eChunk: \\u003cb\\u003e%{customdata[2]}\\u003c\\u002fb\\u003e &nbsp; &nbsp; %{customdata[3]} \\u003cbr \\u002f\\u003e%{customdata[0]}: \\u003cb\\u003e%{customdata[4]}\\u003c\\u002fb\\u003e\\u003cbr \\u002f\\u003e\\u003cextra\\u003e\\u003c\\u002fextra\\u003e\",\"marker\":{\"color\":\"#00c8e5\",\"size\":5,\"symbol\":\"circle\"},\"mode\":\"markers\",\"name\":\"\\u003cb\\u003eAccuracy\\u003c\\u002fb\\u003e (realized Accuracy)\",\"showlegend\":false,\"x\":[\"2018-11-16T00:00:00\",\"2018-12-16T12:00:00\",\"2019-01-16T12:00:00\",\"2019-02-15T00:00:00\",\"2019-03-16T12:00:00\",\"2019-04-16T00:00:00\",\"2019-05-16T12:00:00\",\"2019-06-15T23:59:59.999999999\"],\"xaxis\":\"x\",\"y\":[0.9426841574167507,0.9410041023637429,0.9517578125,0.9431228373702422,0.9400390625,0.9146316851664985,0.9154131666341082,0.9142280524722503,0.9142280524722503],\"yaxis\":\"y\",\"type\":\"scatter\"},{\"hoverinfo\":\"skip\",\"line\":{\"color\":\"#3b0280\",\"dash\":\"dash\",\"shape\":\"hv\",\"width\":2},\"mode\":\"lines\",\"name\":\"\\u003cb\\u003eAccuracy\\u003c\\u002fb\\u003e (estimated Accuracy)\",\"showlegend\":false,\"x\":[\"2018-01-01T00:00:00\",\"2018-02-01T00:00:00\",\"2018-03-01T00:00:00\",\"2018-04-01T00:00:00\",\"2018-05-01T00:00:00\",\"2018-06-01T00:00:00\",\"2018-07-01T00:00:00\",\"2018-08-01T00:00:00\",\"2018-09-01T00:00:00\",\"2018-10-01T00:00:00\",\"2018-10-31T23:59:59.999999999\"],\"xaxis\":\"x\",\"y\":[0.9457488670683827,0.9440490170134628,0.943662357585894,0.9451128175825916,0.9447157046498308,0.944745429319825,0.9430955037168204,0.9459304235638661,0.9457015247263141,0.9458090063215842,0.9458090063215842],\"yaxis\":\"y\",\"type\":\"scatter\"},{\"customdata\":[[\"\\u003cb\\u003eAccuracy\\u003c\\u002fb\\u003e (estimated Accuracy)\",\"\\u003cb style=\\\"color:Colors.INDIGO_PERSIAN;line-height:60px\\\"\\u003eAnalysis\\u003c\\u002fb\\u003e\",\"\",\"2018-01\",\"From \\u003cb\\u003eJan-01-2018\\u003c\\u002fb\\u003e to \\u003cb\\u003eJan-31-2018\\u003c\\u002fb\\u003e\",0.9457],[\"\\u003cb\\u003eAccuracy\\u003c\\u002fb\\u003e (estimated Accuracy)\",\"\\u003cb style=\\\"color:Colors.INDIGO_PERSIAN;line-height:60px\\\"\\u003eAnalysis\\u003c\\u002fb\\u003e\",\"\",\"2018-02\",\"From \\u003cb\\u003eFeb-01-2018\\u003c\\u002fb\\u003e to \\u003cb\\u003eFeb-28-2018\\u003c\\u002fb\\u003e\",0.944],[\"\\u003cb\\u003eAccuracy\\u003c\\u002fb\\u003e (estimated Accuracy)\",\"\\u003cb style=\\\"color:Colors.INDIGO_PERSIAN;line-height:60px\\\"\\u003eAnalysis\\u003c\\u002fb\\u003e\",\"\",\"2018-03\",\"From \\u003cb\\u003eMar-01-2018\\u003c\\u002fb\\u003e to \\u003cb\\u003eMar-31-2018\\u003c\\u002fb\\u003e\",0.9437],[\"\\u003cb\\u003eAccuracy\\u003c\\u002fb\\u003e (estimated Accuracy)\",\"\\u003cb style=\\\"color:Colors.INDIGO_PERSIAN;line-height:60px\\\"\\u003eAnalysis\\u003c\\u002fb\\u003e\",\"\",\"2018-04\",\"From \\u003cb\\u003eApr-01-2018\\u003c\\u002fb\\u003e to \\u003cb\\u003eApr-30-2018\\u003c\\u002fb\\u003e\",0.9451],[\"\\u003cb\\u003eAccuracy\\u003c\\u002fb\\u003e (estimated Accuracy)\",\"\\u003cb style=\\\"color:Colors.INDIGO_PERSIAN;line-height:60px\\\"\\u003eAnalysis\\u003c\\u002fb\\u003e\",\"\",\"2018-05\",\"From \\u003cb\\u003eMay-01-2018\\u003c\\u002fb\\u003e to \\u003cb\\u003eMay-31-2018\\u003c\\u002fb\\u003e\",0.9447],[\"\\u003cb\\u003eAccuracy\\u003c\\u002fb\\u003e (estimated Accuracy)\",\"\\u003cb style=\\\"color:Colors.INDIGO_PERSIAN;line-height:60px\\\"\\u003eAnalysis\\u003c\\u002fb\\u003e\",\"\",\"2018-06\",\"From \\u003cb\\u003eJun-01-2018\\u003c\\u002fb\\u003e to \\u003cb\\u003eJun-30-2018\\u003c\\u002fb\\u003e\",0.9447],[\"\\u003cb\\u003eAccuracy\\u003c\\u002fb\\u003e (estimated Accuracy)\",\"\\u003cb style=\\\"color:Colors.INDIGO_PERSIAN;line-height:60px\\\"\\u003eAnalysis\\u003c\\u002fb\\u003e\",\"\",\"2018-07\",\"From \\u003cb\\u003eJul-01-2018\\u003c\\u002fb\\u003e to \\u003cb\\u003eJul-31-2018\\u003c\\u002fb\\u003e\",0.9431],[\"\\u003cb\\u003eAccuracy\\u003c\\u002fb\\u003e (estimated Accuracy)\",\"\\u003cb style=\\\"color:Colors.INDIGO_PERSIAN;line-height:60px\\\"\\u003eAnalysis\\u003c\\u002fb\\u003e\",\"\",\"2018-08\",\"From \\u003cb\\u003eAug-01-2018\\u003c\\u002fb\\u003e to \\u003cb\\u003eAug-31-2018\\u003c\\u002fb\\u003e\",0.9459],[\"\\u003cb\\u003eAccuracy\\u003c\\u002fb\\u003e (estimated Accuracy)\",\"\\u003cb style=\\\"color:Colors.INDIGO_PERSIAN;line-height:60px\\\"\\u003eAnalysis\\u003c\\u002fb\\u003e\",\"\",\"2018-09\",\"From \\u003cb\\u003eSep-01-2018\\u003c\\u002fb\\u003e to \\u003cb\\u003eSep-30-2018\\u003c\\u002fb\\u003e\",0.9457],[\"\\u003cb\\u003eAccuracy\\u003c\\u002fb\\u003e (estimated Accuracy)\",\"\\u003cb style=\\\"color:Colors.INDIGO_PERSIAN;line-height:60px\\\"\\u003eAnalysis\\u003c\\u002fb\\u003e\",\"\",\"2018-10\",\"From \\u003cb\\u003eOct-01-2018\\u003c\\u002fb\\u003e to \\u003cb\\u003eOct-31-2018\\u003c\\u002fb\\u003e\",0.9458]],\"hovertemplate\":\"%{customdata[1]} &nbsp; &nbsp; %{customdata[2]} \\u003cbr \\u002f\\u003eChunk: \\u003cb\\u003e%{customdata[3]}\\u003c\\u002fb\\u003e &nbsp; &nbsp; %{customdata[4]} \\u003cbr \\u002f\\u003e%{customdata[0]}: \\u003cb\\u003e%{customdata[5]}\\u003c\\u002fb\\u003e\\u003cbr \\u002f\\u003e\\u003cextra\\u003e\\u003c\\u002fextra\\u003e\",\"line\":{\"dash\":\"dash\"},\"marker\":{\"color\":\"#3b0280\",\"size\":5,\"symbol\":\"circle\"},\"mode\":\"markers\",\"name\":\"\\u003cb\\u003eAccuracy\\u003c\\u002fb\\u003e (estimated Accuracy)\",\"showlegend\":false,\"x\":[\"2018-01-16T12:00:00\",\"2018-02-15T00:00:00\",\"2018-03-16T12:00:00\",\"2018-04-16T00:00:00\",\"2018-05-16T12:00:00\",\"2018-06-16T00:00:00\",\"2018-07-16T12:00:00\",\"2018-08-16T12:00:00\",\"2018-09-16T00:00:00\",\"2018-10-16T11:59:59.999999999\"],\"xaxis\":\"x\",\"y\":[0.9457488670683827,0.9440490170134628,0.943662357585894,0.9451128175825916,0.9447157046498308,0.944745429319825,0.9430955037168204,0.9459304235638661,0.9457015247263141,0.9458090063215842,0.9458090063215842],\"yaxis\":\"y\",\"type\":\"scatter\"},{\"connectgaps\":true,\"hoverinfo\":\"skip\",\"line\":{\"color\":\"rgba(0,0,0,0)\",\"shape\":\"hv\"},\"mode\":\"lines\",\"name\":\"Confidence band\",\"showlegend\":false,\"x\":[\"2018-01-01T00:00:00\",\"2018-02-01T00:00:00\",\"2018-03-01T00:00:00\",\"2018-04-01T00:00:00\",\"2018-05-01T00:00:00\",\"2018-06-01T00:00:00\",\"2018-07-01T00:00:00\",\"2018-08-01T00:00:00\",\"2018-09-01T00:00:00\",\"2018-10-01T00:00:00\",\"2018-10-31T23:59:59.999999999\"],\"xaxis\":\"x\",\"y\":[0.956242633775198,0.9550900705790252,0.9541571492247534,0.9557798731141437,0.9552094713566461,0.9554135614074207,0.9535892704236357,0.9564241902706815,0.9563696568139098,0.9563027730283995,0.9563027730283995],\"yaxis\":\"y\",\"type\":\"scatter\"},{\"connectgaps\":true,\"fill\":\"tonexty\",\"fillcolor\":\"rgba(0.23137254901960785, 0.00784313725490196, 0.5019607843137255, 0.2)\",\"hoverinfo\":\"skip\",\"line\":{\"color\":\"rgba(0,0,0,0)\",\"shape\":\"hv\"},\"mode\":\"lines\",\"name\":\"Confidence band\",\"showlegend\":false,\"x\":[\"2018-01-01T00:00:00\",\"2018-02-01T00:00:00\",\"2018-03-01T00:00:00\",\"2018-04-01T00:00:00\",\"2018-05-01T00:00:00\",\"2018-06-01T00:00:00\",\"2018-07-01T00:00:00\",\"2018-08-01T00:00:00\",\"2018-09-01T00:00:00\",\"2018-10-01T00:00:00\",\"2018-10-31T23:59:59.999999999\"],\"xaxis\":\"x\",\"y\":[0.9352551003615673,0.9330079634479004,0.9331675659470346,0.9344457620510395,0.9342219379430154,0.9340772972322292,0.932601737010005,0.9354366568570508,0.9350333926387183,0.9353152396147688,0.9353152396147688],\"yaxis\":\"y\",\"type\":\"scatter\"},{\"hoverinfo\":\"skip\",\"line\":{\"color\":\"#00c8e5\",\"shape\":\"hv\",\"width\":2},\"mode\":\"lines\",\"name\":\"\\u003cb\\u003eAccuracy\\u003c\\u002fb\\u003e (realized Accuracy)\",\"showlegend\":false,\"x\":[\"2018-01-01T00:00:00\",\"2018-02-01T00:00:00\",\"2018-03-01T00:00:00\",\"2018-04-01T00:00:00\",\"2018-05-01T00:00:00\",\"2018-06-01T00:00:00\",\"2018-07-01T00:00:00\",\"2018-08-01T00:00:00\",\"2018-09-01T00:00:00\",\"2018-10-01T00:00:00\",\"2018-10-31T23:59:59.999999999\"],\"xaxis\":\"x\",\"y\":[0.9470703125,0.9398918918918919,0.944129712834538,0.9442986881937437,0.938671875,0.9444893015744853,0.9447265625,0.944921875,0.9450948728300363,0.942578125,0.942578125],\"yaxis\":\"y\",\"type\":\"scatter\"},{\"customdata\":[[\"\\u003cb\\u003eAccuracy\\u003c\\u002fb\\u003e\",\"\\u003cb style=\\\"color:Colors.BLUE_SKY_CRAYOLA;line-height:60px\\\"\\u003eAnalysis\\u003c\\u002fb\\u003e\",\"\",\"2018-01\",\"From \\u003cb\\u003eJan-01-2018\\u003c\\u002fb\\u003e to \\u003cb\\u003eJan-31-2018\\u003c\\u002fb\\u003e\",0.9471],[\"\\u003cb\\u003eAccuracy\\u003c\\u002fb\\u003e\",\"\\u003cb style=\\\"color:Colors.BLUE_SKY_CRAYOLA;line-height:60px\\\"\\u003eAnalysis\\u003c\\u002fb\\u003e\",\"\",\"2018-02\",\"From \\u003cb\\u003eFeb-01-2018\\u003c\\u002fb\\u003e to \\u003cb\\u003eFeb-28-2018\\u003c\\u002fb\\u003e\",0.9399],[\"\\u003cb\\u003eAccuracy\\u003c\\u002fb\\u003e\",\"\\u003cb style=\\\"color:Colors.BLUE_SKY_CRAYOLA;line-height:60px\\\"\\u003eAnalysis\\u003c\\u002fb\\u003e\",\"\",\"2018-03\",\"From \\u003cb\\u003eMar-01-2018\\u003c\\u002fb\\u003e to \\u003cb\\u003eMar-31-2018\\u003c\\u002fb\\u003e\",0.9441],[\"\\u003cb\\u003eAccuracy\\u003c\\u002fb\\u003e\",\"\\u003cb style=\\\"color:Colors.BLUE_SKY_CRAYOLA;line-height:60px\\\"\\u003eAnalysis\\u003c\\u002fb\\u003e\",\"\",\"2018-04\",\"From \\u003cb\\u003eApr-01-2018\\u003c\\u002fb\\u003e to \\u003cb\\u003eApr-30-2018\\u003c\\u002fb\\u003e\",0.9443],[\"\\u003cb\\u003eAccuracy\\u003c\\u002fb\\u003e\",\"\\u003cb style=\\\"color:Colors.BLUE_SKY_CRAYOLA;line-height:60px\\\"\\u003eAnalysis\\u003c\\u002fb\\u003e\",\"\",\"2018-05\",\"From \\u003cb\\u003eMay-01-2018\\u003c\\u002fb\\u003e to \\u003cb\\u003eMay-31-2018\\u003c\\u002fb\\u003e\",0.9387],[\"\\u003cb\\u003eAccuracy\\u003c\\u002fb\\u003e\",\"\\u003cb style=\\\"color:Colors.BLUE_SKY_CRAYOLA;line-height:60px\\\"\\u003eAnalysis\\u003c\\u002fb\\u003e\",\"\",\"2018-06\",\"From \\u003cb\\u003eJun-01-2018\\u003c\\u002fb\\u003e to \\u003cb\\u003eJun-30-2018\\u003c\\u002fb\\u003e\",0.9445],[\"\\u003cb\\u003eAccuracy\\u003c\\u002fb\\u003e\",\"\\u003cb style=\\\"color:Colors.BLUE_SKY_CRAYOLA;line-height:60px\\\"\\u003eAnalysis\\u003c\\u002fb\\u003e\",\"\",\"2018-07\",\"From \\u003cb\\u003eJul-01-2018\\u003c\\u002fb\\u003e to \\u003cb\\u003eJul-31-2018\\u003c\\u002fb\\u003e\",0.9447],[\"\\u003cb\\u003eAccuracy\\u003c\\u002fb\\u003e\",\"\\u003cb style=\\\"color:Colors.BLUE_SKY_CRAYOLA;line-height:60px\\\"\\u003eAnalysis\\u003c\\u002fb\\u003e\",\"\",\"2018-08\",\"From \\u003cb\\u003eAug-01-2018\\u003c\\u002fb\\u003e to \\u003cb\\u003eAug-31-2018\\u003c\\u002fb\\u003e\",0.9449],[\"\\u003cb\\u003eAccuracy\\u003c\\u002fb\\u003e\",\"\\u003cb style=\\\"color:Colors.BLUE_SKY_CRAYOLA;line-height:60px\\\"\\u003eAnalysis\\u003c\\u002fb\\u003e\",\"\",\"2018-09\",\"From \\u003cb\\u003eSep-01-2018\\u003c\\u002fb\\u003e to \\u003cb\\u003eSep-30-2018\\u003c\\u002fb\\u003e\",0.9451],[\"\\u003cb\\u003eAccuracy\\u003c\\u002fb\\u003e\",\"\\u003cb style=\\\"color:Colors.BLUE_SKY_CRAYOLA;line-height:60px\\\"\\u003eAnalysis\\u003c\\u002fb\\u003e\",\"\",\"2018-10\",\"From \\u003cb\\u003eOct-01-2018\\u003c\\u002fb\\u003e to \\u003cb\\u003eOct-31-2018\\u003c\\u002fb\\u003e\",0.9426]],\"hovertemplate\":\"%{customdata[1]} &nbsp; &nbsp; %{customdata[2]} \\u003cbr \\u002f\\u003eChunk: \\u003cb\\u003e%{customdata[3]}\\u003c\\u002fb\\u003e &nbsp; &nbsp; %{customdata[4]} \\u003cbr \\u002f\\u003e%{customdata[0]}: \\u003cb\\u003e%{customdata[5]}\\u003c\\u002fb\\u003e\\u003cbr \\u002f\\u003e\\u003cextra\\u003e\\u003c\\u002fextra\\u003e\",\"marker\":{\"color\":\"#00c8e5\",\"size\":5,\"symbol\":\"circle\"},\"mode\":\"markers\",\"name\":\"\\u003cb\\u003eAccuracy\\u003c\\u002fb\\u003e (realized Accuracy)\",\"showlegend\":false,\"x\":[\"2018-01-16T12:00:00\",\"2018-02-15T00:00:00\",\"2018-03-16T12:00:00\",\"2018-04-16T00:00:00\",\"2018-05-16T12:00:00\",\"2018-06-16T00:00:00\",\"2018-07-16T12:00:00\",\"2018-08-16T12:00:00\",\"2018-09-16T00:00:00\",\"2018-10-16T11:59:59.999999999\"],\"xaxis\":\"x\",\"y\":[0.9470703125,0.9398918918918919,0.944129712834538,0.9442986881937437,0.938671875,0.9444893015744853,0.9447265625,0.944921875,0.9450948728300363,0.942578125,0.942578125],\"yaxis\":\"y\",\"type\":\"scatter\"},{\"hoverinfo\":\"skip\",\"legendgroup\":\"alert\",\"marker\":{\"color\":\"#DD4040\",\"size\":8,\"symbol\":\"diamond\"},\"mode\":\"markers\",\"name\":\"Alert\",\"showlegend\":true,\"x\":[],\"xaxis\":\"x\",\"y\":[],\"yaxis\":\"y\",\"type\":\"scatter\"},{\"hoverinfo\":\"skip\",\"legendgroup\":\"alert\",\"marker\":{\"color\":\"#DD4040\",\"size\":8,\"symbol\":\"diamond\"},\"mode\":\"markers\",\"name\":\"Alert\",\"showlegend\":false,\"x\":[],\"xaxis\":\"x\",\"y\":[],\"yaxis\":\"y\",\"type\":\"scatter\"}],                        {\"height\":500.0,\"hoverlabel\":{\"bgcolor\":\"white\",\"font\":{\"size\":14}},\"legend\":{\"itemclick\":false,\"itemdoubleclick\":false,\"traceorder\":\"grouped\"},\"paper_bgcolor\":\"rgba(255,255,255,1)\",\"plot_bgcolor\":\"rgba(255,255,255,1)\",\"title\":{\"text\":\"\\u003cb\\u003eEstimated performance (CBPE)\\u003c\\u002fb\\u003e vs. \\u003cb\\u003eRealized performance\\u003c\\u002fb\\u003e\"},\"xaxis\":{\"linecolor\":\"#3b0280\",\"mirror\":true,\"showgrid\":false,\"title\":{\"text\":\"Time\"},\"zeroline\":false,\"anchor\":\"y\",\"domain\":[0.0,0.94],\"matches\":\"x\"},\"yaxis\":{\"linecolor\":\"#3b0280\",\"mirror\":true,\"showgrid\":false,\"title\":{\"text\":\"\\u003cb\\u003eAccuracy\\u003c\\u002fb\\u003e\"},\"zeroline\":false,\"anchor\":\"x\",\"domain\":[0.0,1.0]},\"template\":{\"data\":{\"histogram2dcontour\":[{\"type\":\"histogram2dcontour\",\"colorbar\":{\"outlinewidth\":0,\"ticks\":\"\"},\"colorscale\":[[0.0,\"#0d0887\"],[0.1111111111111111,\"#46039f\"],[0.2222222222222222,\"#7201a8\"],[0.3333333333333333,\"#9c179e\"],[0.4444444444444444,\"#bd3786\"],[0.5555555555555556,\"#d8576b\"],[0.6666666666666666,\"#ed7953\"],[0.7777777777777778,\"#fb9f3a\"],[0.8888888888888888,\"#fdca26\"],[1.0,\"#f0f921\"]]}],\"choropleth\":[{\"type\":\"choropleth\",\"colorbar\":{\"outlinewidth\":0,\"ticks\":\"\"}}],\"histogram2d\":[{\"type\":\"histogram2d\",\"colorbar\":{\"outlinewidth\":0,\"ticks\":\"\"},\"colorscale\":[[0.0,\"#0d0887\"],[0.1111111111111111,\"#46039f\"],[0.2222222222222222,\"#7201a8\"],[0.3333333333333333,\"#9c179e\"],[0.4444444444444444,\"#bd3786\"],[0.5555555555555556,\"#d8576b\"],[0.6666666666666666,\"#ed7953\"],[0.7777777777777778,\"#fb9f3a\"],[0.8888888888888888,\"#fdca26\"],[1.0,\"#f0f921\"]]}],\"heatmap\":[{\"type\":\"heatmap\",\"colorbar\":{\"outlinewidth\":0,\"ticks\":\"\"},\"colorscale\":[[0.0,\"#0d0887\"],[0.1111111111111111,\"#46039f\"],[0.2222222222222222,\"#7201a8\"],[0.3333333333333333,\"#9c179e\"],[0.4444444444444444,\"#bd3786\"],[0.5555555555555556,\"#d8576b\"],[0.6666666666666666,\"#ed7953\"],[0.7777777777777778,\"#fb9f3a\"],[0.8888888888888888,\"#fdca26\"],[1.0,\"#f0f921\"]]}],\"heatmapgl\":[{\"type\":\"heatmapgl\",\"colorbar\":{\"outlinewidth\":0,\"ticks\":\"\"},\"colorscale\":[[0.0,\"#0d0887\"],[0.1111111111111111,\"#46039f\"],[0.2222222222222222,\"#7201a8\"],[0.3333333333333333,\"#9c179e\"],[0.4444444444444444,\"#bd3786\"],[0.5555555555555556,\"#d8576b\"],[0.6666666666666666,\"#ed7953\"],[0.7777777777777778,\"#fb9f3a\"],[0.8888888888888888,\"#fdca26\"],[1.0,\"#f0f921\"]]}],\"contourcarpet\":[{\"type\":\"contourcarpet\",\"colorbar\":{\"outlinewidth\":0,\"ticks\":\"\"}}],\"contour\":[{\"type\":\"contour\",\"colorbar\":{\"outlinewidth\":0,\"ticks\":\"\"},\"colorscale\":[[0.0,\"#0d0887\"],[0.1111111111111111,\"#46039f\"],[0.2222222222222222,\"#7201a8\"],[0.3333333333333333,\"#9c179e\"],[0.4444444444444444,\"#bd3786\"],[0.5555555555555556,\"#d8576b\"],[0.6666666666666666,\"#ed7953\"],[0.7777777777777778,\"#fb9f3a\"],[0.8888888888888888,\"#fdca26\"],[1.0,\"#f0f921\"]]}],\"surface\":[{\"type\":\"surface\",\"colorbar\":{\"outlinewidth\":0,\"ticks\":\"\"},\"colorscale\":[[0.0,\"#0d0887\"],[0.1111111111111111,\"#46039f\"],[0.2222222222222222,\"#7201a8\"],[0.3333333333333333,\"#9c179e\"],[0.4444444444444444,\"#bd3786\"],[0.5555555555555556,\"#d8576b\"],[0.6666666666666666,\"#ed7953\"],[0.7777777777777778,\"#fb9f3a\"],[0.8888888888888888,\"#fdca26\"],[1.0,\"#f0f921\"]]}],\"mesh3d\":[{\"type\":\"mesh3d\",\"colorbar\":{\"outlinewidth\":0,\"ticks\":\"\"}}],\"scatter\":[{\"fillpattern\":{\"fillmode\":\"overlay\",\"size\":10,\"solidity\":0.2},\"type\":\"scatter\"}],\"parcoords\":[{\"type\":\"parcoords\",\"line\":{\"colorbar\":{\"outlinewidth\":0,\"ticks\":\"\"}}}],\"scatterpolargl\":[{\"type\":\"scatterpolargl\",\"marker\":{\"colorbar\":{\"outlinewidth\":0,\"ticks\":\"\"}}}],\"bar\":[{\"error_x\":{\"color\":\"#2a3f5f\"},\"error_y\":{\"color\":\"#2a3f5f\"},\"marker\":{\"line\":{\"color\":\"#E5ECF6\",\"width\":0.5},\"pattern\":{\"fillmode\":\"overlay\",\"size\":10,\"solidity\":0.2}},\"type\":\"bar\"}],\"scattergeo\":[{\"type\":\"scattergeo\",\"marker\":{\"colorbar\":{\"outlinewidth\":0,\"ticks\":\"\"}}}],\"scatterpolar\":[{\"type\":\"scatterpolar\",\"marker\":{\"colorbar\":{\"outlinewidth\":0,\"ticks\":\"\"}}}],\"histogram\":[{\"marker\":{\"pattern\":{\"fillmode\":\"overlay\",\"size\":10,\"solidity\":0.2}},\"type\":\"histogram\"}],\"scattergl\":[{\"type\":\"scattergl\",\"marker\":{\"colorbar\":{\"outlinewidth\":0,\"ticks\":\"\"}}}],\"scatter3d\":[{\"type\":\"scatter3d\",\"line\":{\"colorbar\":{\"outlinewidth\":0,\"ticks\":\"\"}},\"marker\":{\"colorbar\":{\"outlinewidth\":0,\"ticks\":\"\"}}}],\"scattermapbox\":[{\"type\":\"scattermapbox\",\"marker\":{\"colorbar\":{\"outlinewidth\":0,\"ticks\":\"\"}}}],\"scatterternary\":[{\"type\":\"scatterternary\",\"marker\":{\"colorbar\":{\"outlinewidth\":0,\"ticks\":\"\"}}}],\"scattercarpet\":[{\"type\":\"scattercarpet\",\"marker\":{\"colorbar\":{\"outlinewidth\":0,\"ticks\":\"\"}}}],\"carpet\":[{\"aaxis\":{\"endlinecolor\":\"#2a3f5f\",\"gridcolor\":\"white\",\"linecolor\":\"white\",\"minorgridcolor\":\"white\",\"startlinecolor\":\"#2a3f5f\"},\"baxis\":{\"endlinecolor\":\"#2a3f5f\",\"gridcolor\":\"white\",\"linecolor\":\"white\",\"minorgridcolor\":\"white\",\"startlinecolor\":\"#2a3f5f\"},\"type\":\"carpet\"}],\"table\":[{\"cells\":{\"fill\":{\"color\":\"#EBF0F8\"},\"line\":{\"color\":\"white\"}},\"header\":{\"fill\":{\"color\":\"#C8D4E3\"},\"line\":{\"color\":\"white\"}},\"type\":\"table\"}],\"barpolar\":[{\"marker\":{\"line\":{\"color\":\"#E5ECF6\",\"width\":0.5},\"pattern\":{\"fillmode\":\"overlay\",\"size\":10,\"solidity\":0.2}},\"type\":\"barpolar\"}],\"pie\":[{\"automargin\":true,\"type\":\"pie\"}]},\"layout\":{\"autotypenumbers\":\"strict\",\"colorway\":[\"#636efa\",\"#EF553B\",\"#00cc96\",\"#ab63fa\",\"#FFA15A\",\"#19d3f3\",\"#FF6692\",\"#B6E880\",\"#FF97FF\",\"#FECB52\"],\"font\":{\"color\":\"#2a3f5f\"},\"hovermode\":\"closest\",\"hoverlabel\":{\"align\":\"left\"},\"paper_bgcolor\":\"white\",\"plot_bgcolor\":\"#E5ECF6\",\"polar\":{\"bgcolor\":\"#E5ECF6\",\"angularaxis\":{\"gridcolor\":\"white\",\"linecolor\":\"white\",\"ticks\":\"\"},\"radialaxis\":{\"gridcolor\":\"white\",\"linecolor\":\"white\",\"ticks\":\"\"}},\"ternary\":{\"bgcolor\":\"#E5ECF6\",\"aaxis\":{\"gridcolor\":\"white\",\"linecolor\":\"white\",\"ticks\":\"\"},\"baxis\":{\"gridcolor\":\"white\",\"linecolor\":\"white\",\"ticks\":\"\"},\"caxis\":{\"gridcolor\":\"white\",\"linecolor\":\"white\",\"ticks\":\"\"}},\"coloraxis\":{\"colorbar\":{\"outlinewidth\":0,\"ticks\":\"\"}},\"colorscale\":{\"sequential\":[[0.0,\"#0d0887\"],[0.1111111111111111,\"#46039f\"],[0.2222222222222222,\"#7201a8\"],[0.3333333333333333,\"#9c179e\"],[0.4444444444444444,\"#bd3786\"],[0.5555555555555556,\"#d8576b\"],[0.6666666666666666,\"#ed7953\"],[0.7777777777777778,\"#fb9f3a\"],[0.8888888888888888,\"#fdca26\"],[1.0,\"#f0f921\"]],\"sequentialminus\":[[0.0,\"#0d0887\"],[0.1111111111111111,\"#46039f\"],[0.2222222222222222,\"#7201a8\"],[0.3333333333333333,\"#9c179e\"],[0.4444444444444444,\"#bd3786\"],[0.5555555555555556,\"#d8576b\"],[0.6666666666666666,\"#ed7953\"],[0.7777777777777778,\"#fb9f3a\"],[0.8888888888888888,\"#fdca26\"],[1.0,\"#f0f921\"]],\"diverging\":[[0,\"#8e0152\"],[0.1,\"#c51b7d\"],[0.2,\"#de77ae\"],[0.3,\"#f1b6da\"],[0.4,\"#fde0ef\"],[0.5,\"#f7f7f7\"],[0.6,\"#e6f5d0\"],[0.7,\"#b8e186\"],[0.8,\"#7fbc41\"],[0.9,\"#4d9221\"],[1,\"#276419\"]]},\"xaxis\":{\"gridcolor\":\"white\",\"linecolor\":\"white\",\"ticks\":\"\",\"title\":{\"standoff\":15},\"zerolinecolor\":\"white\",\"automargin\":true,\"zerolinewidth\":2},\"yaxis\":{\"gridcolor\":\"white\",\"linecolor\":\"white\",\"ticks\":\"\",\"title\":{\"standoff\":15},\"zerolinecolor\":\"white\",\"automargin\":true,\"zerolinewidth\":2},\"scene\":{\"xaxis\":{\"backgroundcolor\":\"#E5ECF6\",\"gridcolor\":\"white\",\"linecolor\":\"white\",\"showbackground\":true,\"ticks\":\"\",\"zerolinecolor\":\"white\",\"gridwidth\":2},\"yaxis\":{\"backgroundcolor\":\"#E5ECF6\",\"gridcolor\":\"white\",\"linecolor\":\"white\",\"showbackground\":true,\"ticks\":\"\",\"zerolinecolor\":\"white\",\"gridwidth\":2},\"zaxis\":{\"backgroundcolor\":\"#E5ECF6\",\"gridcolor\":\"white\",\"linecolor\":\"white\",\"showbackground\":true,\"ticks\":\"\",\"zerolinecolor\":\"white\",\"gridwidth\":2}},\"shapedefaults\":{\"line\":{\"color\":\"#2a3f5f\"}},\"annotationdefaults\":{\"arrowcolor\":\"#2a3f5f\",\"arrowhead\":0,\"arrowwidth\":1},\"geo\":{\"bgcolor\":\"white\",\"landcolor\":\"#E5ECF6\",\"subunitcolor\":\"white\",\"showland\":true,\"showlakes\":true,\"lakecolor\":\"white\"},\"title\":{\"x\":0.05},\"mapbox\":{\"style\":\"light\"}}},\"yaxis2\":{\"anchor\":\"x\",\"overlaying\":\"y\",\"side\":\"right\",\"title\":{\"text\":\"Comparison\"},\"linecolor\":\"#3b0280\",\"showgrid\":false,\"mirror\":true,\"zeroline\":false},\"annotations\":[{\"font\":{\"size\":16},\"showarrow\":false,\"text\":\"\\u003cb\\u003eAccuracy\\u003c\\u002fb\\u003e (estimated Accuracy) vs. \\u003cb\\u003eAccuracy\\u003c\\u002fb\\u003e (realized Accuracy)\",\"x\":0.47,\"xanchor\":\"center\",\"xref\":\"paper\",\"y\":1.0,\"yanchor\":\"bottom\",\"yref\":\"paper\"},{\"showarrow\":false,\"text\":\"Reference\",\"x\":\"2019-02-14T21:00:00\",\"xshift\":10,\"y\":1,\"yref\":\"paper\"},{\"showarrow\":false,\"text\":\"Analysis\",\"x\":\"2018-05-17T00:00:00\",\"xshift\":15,\"y\":1,\"yref\":\"paper\"}],\"shapes\":[{\"layer\":\"below\",\"line\":{\"color\":\"#666666\",\"width\":1},\"type\":\"line\",\"x0\":\"2018-01-01T00:00:00\",\"x1\":\"2018-01-01T00:00:00\",\"xref\":\"x\",\"y0\":0,\"y1\":1,\"yref\":\"y domain\"}]},                        {\"responsive\": true}                    ).then(function(){\n",
       "                            \n",
       "var gd = document.getElementById('7a81ff6a-4b20-47e9-b409-b221f2050a39');\n",
       "var x = new MutationObserver(function (mutations, observer) {{\n",
       "        var display = window.getComputedStyle(gd).display;\n",
       "        if (!display || display === 'none') {{\n",
       "            console.log([gd, 'removed!']);\n",
       "            Plotly.purge(gd);\n",
       "            observer.disconnect();\n",
       "        }}\n",
       "}});\n",
       "\n",
       "// Listen for the removal of the full notebook cells\n",
       "var notebookContainer = gd.closest('#notebook-container');\n",
       "if (notebookContainer) {{\n",
       "    x.observe(notebookContainer, {childList: true});\n",
       "}}\n",
       "\n",
       "// Listen for the clearing of the current output cell\n",
       "var outputEl = gd.closest('.output');\n",
       "if (outputEl) {{\n",
       "    x.observe(outputEl, {childList: true});\n",
       "}}\n",
       "\n",
       "                        })                };                });            </script>        </div>"
      ]
     },
     "metadata": {},
     "output_type": "display_data"
    },
    {
     "name": "stderr",
     "output_type": "stream",
     "text": [
      "/opt/anaconda3/lib/python3.12/site-packages/nannyml/chunk.py:294: FutureWarning:\n",
      "\n",
      "'m' is deprecated and will be removed in a future version, please use 'M' instead.\n",
      "\n",
      "/opt/anaconda3/lib/python3.12/site-packages/nannyml/chunk.py:294: FutureWarning:\n",
      "\n",
      "'m' is deprecated and will be removed in a future version, please use 'M' instead.\n",
      "\n",
      "/opt/anaconda3/lib/python3.12/site-packages/nannyml/chunk.py:294: FutureWarning:\n",
      "\n",
      "'m' is deprecated and will be removed in a future version, please use 'M' instead.\n",
      "\n",
      "/opt/anaconda3/lib/python3.12/site-packages/nannyml/chunk.py:294: FutureWarning:\n",
      "\n",
      "'m' is deprecated and will be removed in a future version, please use 'M' instead.\n",
      "\n",
      "/opt/anaconda3/lib/python3.12/site-packages/nannyml/chunk.py:294: FutureWarning:\n",
      "\n",
      "'m' is deprecated and will be removed in a future version, please use 'M' instead.\n",
      "\n",
      "/opt/anaconda3/lib/python3.12/site-packages/nannyml/chunk.py:294: FutureWarning:\n",
      "\n",
      "'m' is deprecated and will be removed in a future version, please use 'M' instead.\n",
      "\n"
     ]
    },
    {
     "name": "stdout",
     "output_type": "stream",
     "text": [
      "['april_2019', 'may_2019', 'june_2019']\n"
     ]
    },
    {
     "name": "stderr",
     "output_type": "stream",
     "text": [
      "/opt/anaconda3/lib/python3.12/site-packages/nannyml/chunk.py:294: FutureWarning:\n",
      "\n",
      "'m' is deprecated and will be removed in a future version, please use 'M' instead.\n",
      "\n",
      "/opt/anaconda3/lib/python3.12/site-packages/nannyml/drift/ranker.py:376: FutureWarning:\n",
      "\n",
      "Series.ravel is deprecated. The underlying array is already 1D, so ravel is not necessary.  Use `to_numpy()` for conversion to a numpy array instead.\n",
      "\n"
     ]
    },
    {
     "data": {
      "text/html": [
       "<div>\n",
       "<style scoped>\n",
       "    .dataframe tbody tr th:only-of-type {\n",
       "        vertical-align: middle;\n",
       "    }\n",
       "\n",
       "    .dataframe tbody tr th {\n",
       "        vertical-align: top;\n",
       "    }\n",
       "\n",
       "    .dataframe thead th {\n",
       "        text-align: right;\n",
       "    }\n",
       "</style>\n",
       "<table border=\"1\" class=\"dataframe\">\n",
       "  <thead>\n",
       "    <tr style=\"text-align: right;\">\n",
       "      <th></th>\n",
       "      <th>column_name</th>\n",
       "      <th>pearsonr_correlation</th>\n",
       "      <th>pearsonr_pvalue</th>\n",
       "      <th>has_drifted</th>\n",
       "      <th>rank</th>\n",
       "    </tr>\n",
       "  </thead>\n",
       "  <tbody>\n",
       "    <tr>\n",
       "      <th>0</th>\n",
       "      <td>time_since_login_min</td>\n",
       "      <td>0.588445</td>\n",
       "      <td>0.010202</td>\n",
       "      <td>False</td>\n",
       "      <td>1</td>\n",
       "    </tr>\n",
       "    <tr>\n",
       "      <th>1</th>\n",
       "      <td>is_first_transaction</td>\n",
       "      <td>0.231965</td>\n",
       "      <td>0.354337</td>\n",
       "      <td>True</td>\n",
       "      <td>2</td>\n",
       "    </tr>\n",
       "    <tr>\n",
       "      <th>2</th>\n",
       "      <td>transaction_amount</td>\n",
       "      <td>0.166387</td>\n",
       "      <td>0.509339</td>\n",
       "      <td>False</td>\n",
       "      <td>3</td>\n",
       "    </tr>\n",
       "    <tr>\n",
       "      <th>3</th>\n",
       "      <td>user_tenure_months</td>\n",
       "      <td>0.148045</td>\n",
       "      <td>0.557705</td>\n",
       "      <td>False</td>\n",
       "      <td>4</td>\n",
       "    </tr>\n",
       "    <tr>\n",
       "      <th>4</th>\n",
       "      <td>transaction_type</td>\n",
       "      <td>0.066532</td>\n",
       "      <td>0.793092</td>\n",
       "      <td>True</td>\n",
       "      <td>5</td>\n",
       "    </tr>\n",
       "  </tbody>\n",
       "</table>\n",
       "</div>"
      ],
      "text/plain": [
       "            column_name  pearsonr_correlation  pearsonr_pvalue  has_drifted  \\\n",
       "0  time_since_login_min              0.588445         0.010202        False   \n",
       "1  is_first_transaction              0.231965         0.354337         True   \n",
       "2    transaction_amount              0.166387         0.509339        False   \n",
       "3    user_tenure_months              0.148045         0.557705        False   \n",
       "4      transaction_type              0.066532         0.793092         True   \n",
       "\n",
       "   rank  \n",
       "0     1  \n",
       "1     2  \n",
       "2     3  \n",
       "3     4  \n",
       "4     5  "
      ]
     },
     "metadata": {},
     "output_type": "display_data"
    },
    {
     "name": "stdout",
     "output_type": "stream",
     "text": [
      "time_since_login_min\n"
     ]
    },
    {
     "name": "stderr",
     "output_type": "stream",
     "text": [
      "/opt/anaconda3/lib/python3.12/site-packages/nannyml/chunk.py:294: FutureWarning:\n",
      "\n",
      "'m' is deprecated and will be removed in a future version, please use 'M' instead.\n",
      "\n",
      "/opt/anaconda3/lib/python3.12/site-packages/nannyml/chunk.py:294: FutureWarning:\n",
      "\n",
      "'m' is deprecated and will be removed in a future version, please use 'M' instead.\n",
      "\n"
     ]
    },
    {
     "data": {
      "application/vnd.plotly.v1+json": {
       "config": {
        "plotlyServerURL": "https://plot.ly"
       },
       "data": [
        {
         "hoverinfo": "skip",
         "legendgroup": "metric_reference",
         "line": {
          "color": "#00c8e5",
          "shape": "hv",
          "width": 2
         },
         "mode": "lines",
         "name": "Metric",
         "showlegend": true,
         "type": "scatter",
         "x": [
          "2018-11-01T00:00:00",
          "2018-12-01T00:00:00",
          "2019-01-01T00:00:00",
          "2019-02-01T00:00:00",
          "2019-03-01T00:00:00",
          "2019-04-01T00:00:00",
          "2019-05-01T00:00:00",
          "2019-06-01T00:00:00",
          "2019-06-30T23:59:59.999999999"
         ],
         "xaxis": "x",
         "y": [
          2994.880060544904,
          2979.1827700722797,
          2993.9794140625,
          3000.1461937716263,
          2968.66978515625,
          2923.6365287588296,
          2996.924907208439,
          3069.8183551967713,
          3069.8183551967713
         ],
         "yaxis": "y"
        },
        {
         "customdata": [
          [
           "Values Avg for <b>transaction_amount</b>",
           "<b style=\"color:Colors.BLUE_SKY_CRAYOLA;line-height:60px\">Reference</b>",
           "",
           "2018-11",
           "From <b>Nov-01-2018</b> to <b>Nov-30-2018</b>",
           2994.8801,
           86.8915
          ],
          [
           "Values Avg for <b>transaction_amount</b>",
           "<b style=\"color:Colors.BLUE_SKY_CRAYOLA;line-height:60px\">Reference</b>",
           "",
           "2018-12",
           "From <b>Dec-01-2018</b> to <b>Dec-31-2018</b>",
           2979.1828,
           85.4883
          ],
          [
           "Values Avg for <b>transaction_amount</b>",
           "<b style=\"color:Colors.BLUE_SKY_CRAYOLA;line-height:60px\">Reference</b>",
           "",
           "2019-01",
           "From <b>Jan-01-2019</b> to <b>Jan-31-2019</b>",
           2993.9794,
           85.48
          ],
          [
           "Values Avg for <b>transaction_amount</b>",
           "<b style=\"color:Colors.BLUE_SKY_CRAYOLA;line-height:60px\">Reference</b>",
           "",
           "2019-02",
           "From <b>Feb-01-2019</b> to <b>Feb-28-2019</b>",
           3000.1462,
           89.9478
          ],
          [
           "Values Avg for <b>transaction_amount</b>",
           "<b style=\"color:Colors.BLUE_SKY_CRAYOLA;line-height:60px\">Reference</b>",
           "",
           "2019-03",
           "From <b>Mar-01-2019</b> to <b>Mar-31-2019</b>",
           2968.6698,
           85.48
          ],
          [
           "Values Avg for <b>transaction_amount</b>",
           "<b style=\"color:Colors.BLUE_SKY_CRAYOLA;line-height:60px\">Reference</b>",
           "",
           "2019-04",
           "From <b>Apr-01-2019</b> to <b>Apr-30-2019</b>",
           2923.6365,
           86.8915
          ],
          [
           "Values Avg for <b>transaction_amount</b>",
           "<b style=\"color:Colors.BLUE_SKY_CRAYOLA;line-height:60px\">Reference</b>",
           "",
           "2019-05",
           "From <b>May-01-2019</b> to <b>May-31-2019</b>",
           2996.9249,
           85.4883
          ],
          [
           "Values Avg for <b>transaction_amount</b>",
           "<b style=\"color:Colors.BLUE_SKY_CRAYOLA;line-height:60px\">Reference</b>",
           "",
           "2019-06",
           "From <b>Jun-01-2019</b> to <b>Jun-30-2019</b>",
           3069.8184,
           86.8915
          ]
         ],
         "hovertemplate": "%{customdata[1]} &nbsp; &nbsp; %{customdata[2]} <br />Chunk: <b>%{customdata[3]}</b> &nbsp; &nbsp; %{customdata[4]} <br />%{customdata[0]}: <b>%{customdata[5]}</b><br />Confidence band: +/- <b>%{customdata[6]}</b><br /><extra></extra>",
         "legendgroup": "metric_reference",
         "marker": {
          "color": "#00c8e5",
          "size": 5,
          "symbol": "circle"
         },
         "mode": "markers",
         "name": "Metric",
         "showlegend": false,
         "type": "scatter",
         "x": [
          "2018-11-16T00:00:00",
          "2018-12-16T12:00:00",
          "2019-01-16T12:00:00",
          "2019-02-15T00:00:00",
          "2019-03-16T12:00:00",
          "2019-04-16T00:00:00",
          "2019-05-16T12:00:00",
          "2019-06-15T23:59:59.999999999"
         ],
         "xaxis": "x",
         "y": [
          2994.880060544904,
          2979.1827700722797,
          2993.9794140625,
          3000.1461937716263,
          2968.66978515625,
          2923.6365287588296,
          2996.924907208439,
          3069.8183551967713,
          3069.8183551967713
         ],
         "yaxis": "y"
        },
        {
         "hoverinfo": "skip",
         "legendgroup": "metric_analysis",
         "line": {
          "color": "#00c8e5",
          "shape": "hv",
          "width": 2
         },
         "mode": "lines",
         "name": "Metric",
         "showlegend": false,
         "type": "scatter",
         "x": [
          "2018-01-01T00:00:00",
          "2018-02-01T00:00:00",
          "2018-03-01T00:00:00",
          "2018-04-01T00:00:00",
          "2018-05-01T00:00:00",
          "2018-06-01T00:00:00",
          "2018-07-01T00:00:00",
          "2018-08-01T00:00:00",
          "2018-09-01T00:00:00",
          "2018-10-01T00:00:00",
          "2018-10-31T23:59:59.999999999"
         ],
         "xaxis": "x",
         "y": [
          2968.14541015625,
          2974.40892972973,
          2940.6434264504783,
          2956.591099899092,
          2942.334296875,
          2993.209850625757,
          2987.6364453124997,
          2978.0992968749997,
          2970.678259991926,
          2937.47873046875,
          2937.47873046875
         ],
         "yaxis": "y"
        },
        {
         "customdata": [
          [
           "Values Avg for <b>transaction_amount</b>",
           "<b style=\"color:Colors.INDIGO_PERSIAN;line-height:60px\">Analysis</b>",
           "",
           "2018-01",
           "From <b>Jan-01-2018</b> to <b>Jan-31-2018</b>",
           2968.1454,
           85.48
          ],
          [
           "Values Avg for <b>transaction_amount</b>",
           "<b style=\"color:Colors.INDIGO_PERSIAN;line-height:60px\">Analysis</b>",
           "",
           "2018-02",
           "From <b>Feb-01-2018</b> to <b>Feb-28-2018</b>",
           2974.4089,
           89.9381
          ],
          [
           "Values Avg for <b>transaction_amount</b>",
           "<b style=\"color:Colors.INDIGO_PERSIAN;line-height:60px\">Analysis</b>",
           "",
           "2018-03",
           "From <b>Mar-01-2018</b> to <b>Mar-31-2018</b>",
           2940.6434,
           85.4883
          ],
          [
           "Values Avg for <b>transaction_amount</b>",
           "<b style=\"color:Colors.INDIGO_PERSIAN;line-height:60px\">Analysis</b>",
           "",
           "2018-04",
           "From <b>Apr-01-2018</b> to <b>Apr-30-2018</b>",
           2956.5911,
           86.8915
          ],
          [
           "Values Avg for <b>transaction_amount</b>",
           "<b style=\"color:Colors.INDIGO_PERSIAN;line-height:60px\">Analysis</b>",
           "",
           "2018-05",
           "From <b>May-01-2018</b> to <b>May-31-2018</b>",
           2942.3343,
           85.48
          ],
          [
           "Values Avg for <b>transaction_amount</b>",
           "<b style=\"color:Colors.INDIGO_PERSIAN;line-height:60px\">Analysis</b>",
           "",
           "2018-06",
           "From <b>Jun-01-2018</b> to <b>Jun-30-2018</b>",
           2993.2099,
           86.9003
          ],
          [
           "Values Avg for <b>transaction_amount</b>",
           "<b style=\"color:Colors.INDIGO_PERSIAN;line-height:60px\">Analysis</b>",
           "",
           "2018-07",
           "From <b>Jul-01-2018</b> to <b>Jul-31-2018</b>",
           2987.6364,
           85.48
          ],
          [
           "Values Avg for <b>transaction_amount</b>",
           "<b style=\"color:Colors.INDIGO_PERSIAN;line-height:60px\">Analysis</b>",
           "",
           "2018-08",
           "From <b>Aug-01-2018</b> to <b>Aug-31-2018</b>",
           2978.0993,
           85.48
          ],
          [
           "Values Avg for <b>transaction_amount</b>",
           "<b style=\"color:Colors.INDIGO_PERSIAN;line-height:60px\">Analysis</b>",
           "",
           "2018-09",
           "From <b>Sep-01-2018</b> to <b>Sep-30-2018</b>",
           2970.6783,
           86.9003
          ],
          [
           "Values Avg for <b>transaction_amount</b>",
           "<b style=\"color:Colors.INDIGO_PERSIAN;line-height:60px\">Analysis</b>",
           "",
           "2018-10",
           "From <b>Oct-01-2018</b> to <b>Oct-31-2018</b>",
           2937.4787,
           85.48
          ]
         ],
         "hovertemplate": "%{customdata[1]} &nbsp; &nbsp; %{customdata[2]} <br />Chunk: <b>%{customdata[3]}</b> &nbsp; &nbsp; %{customdata[4]} <br />%{customdata[0]}: <b>%{customdata[5]}</b><br />Confidence band: +/- <b>%{customdata[6]}</b><br /><extra></extra>",
         "legendgroup": "metric_analysis",
         "marker": {
          "color": "#00c8e5",
          "size": 5,
          "symbol": "circle"
         },
         "mode": "markers",
         "name": "Metric",
         "showlegend": false,
         "type": "scatter",
         "x": [
          "2018-01-16T12:00:00",
          "2018-02-15T00:00:00",
          "2018-03-16T12:00:00",
          "2018-04-16T00:00:00",
          "2018-05-16T12:00:00",
          "2018-06-16T00:00:00",
          "2018-07-16T12:00:00",
          "2018-08-16T12:00:00",
          "2018-09-16T00:00:00",
          "2018-10-16T11:59:59.999999999"
         ],
         "xaxis": "x",
         "y": [
          2968.14541015625,
          2974.40892972973,
          2940.6434264504783,
          2956.591099899092,
          2942.334296875,
          2993.209850625757,
          2987.6364453124997,
          2978.0992968749997,
          2970.678259991926,
          2937.47873046875,
          2937.47873046875
         ],
         "yaxis": "y"
        },
        {
         "hoverinfo": "skip",
         "legendgroup": "alert",
         "marker": {
          "color": "#DD4040",
          "size": 8,
          "symbol": "diamond"
         },
         "mode": "markers",
         "name": "Alert",
         "showlegend": true,
         "type": "scatter",
         "x": [],
         "xaxis": "x",
         "y": [],
         "yaxis": "y"
        },
        {
         "hoverinfo": "skip",
         "legendgroup": "thresh",
         "line": {
          "color": "#DD4040",
          "dash": "dash",
          "width": 2
         },
         "mode": "lines",
         "name": "Threshold",
         "showlegend": true,
         "type": "scatter",
         "x": [
          "2018-11-01T00:00:00",
          "2018-12-01T00:00:00",
          "2019-01-01T00:00:00",
          "2019-02-01T00:00:00",
          "2019-03-01T00:00:00",
          "2019-04-01T00:00:00",
          "2019-05-01T00:00:00",
          "2019-06-01T00:00:00",
          "2019-06-30T23:59:59.999999999"
         ],
         "xaxis": "x",
         "y": [
          3104.8014437439774,
          3104.8014437439774,
          3104.8014437439774,
          3104.8014437439774,
          3104.8014437439774,
          3104.8014437439774,
          3104.8014437439774,
          3104.8014437439774,
          3104.8014437439774
         ],
         "yaxis": "y"
        },
        {
         "hoverinfo": "skip",
         "legendgroup": "thresh",
         "line": {
          "color": "#DD4040",
          "dash": "dash",
          "width": 2
         },
         "mode": "lines",
         "name": "Threshold",
         "showlegend": false,
         "type": "scatter",
         "x": [
          "2018-11-01T00:00:00",
          "2018-12-01T00:00:00",
          "2019-01-01T00:00:00",
          "2019-02-01T00:00:00",
          "2019-03-01T00:00:00",
          "2019-04-01T00:00:00",
          "2019-05-01T00:00:00",
          "2019-06-01T00:00:00",
          "2019-06-30T23:59:59.999999999"
         ],
         "xaxis": "x",
         "y": [
          2877.0080599489233,
          2877.0080599489233,
          2877.0080599489233,
          2877.0080599489233,
          2877.0080599489233,
          2877.0080599489233,
          2877.0080599489233,
          2877.0080599489233,
          2877.0080599489233
         ],
         "yaxis": "y"
        },
        {
         "hoverinfo": "skip",
         "legendgroup": "thresh",
         "line": {
          "color": "#DD4040",
          "dash": "dash",
          "width": 2
         },
         "mode": "lines",
         "name": "Threshold",
         "showlegend": false,
         "type": "scatter",
         "x": [
          "2018-01-01T00:00:00",
          "2018-02-01T00:00:00",
          "2018-03-01T00:00:00",
          "2018-04-01T00:00:00",
          "2018-05-01T00:00:00",
          "2018-06-01T00:00:00",
          "2018-07-01T00:00:00",
          "2018-08-01T00:00:00",
          "2018-09-01T00:00:00",
          "2018-10-01T00:00:00",
          "2018-10-31T23:59:59.999999999"
         ],
         "xaxis": "x",
         "y": [
          3104.8014437439774,
          3104.8014437439774,
          3104.8014437439774,
          3104.8014437439774,
          3104.8014437439774,
          3104.8014437439774,
          3104.8014437439774,
          3104.8014437439774,
          3104.8014437439774,
          3104.8014437439774,
          3104.8014437439774
         ],
         "yaxis": "y"
        },
        {
         "hoverinfo": "skip",
         "legendgroup": "thresh",
         "line": {
          "color": "#DD4040",
          "dash": "dash",
          "width": 2
         },
         "mode": "lines",
         "name": "Threshold",
         "showlegend": false,
         "type": "scatter",
         "x": [
          "2018-01-01T00:00:00",
          "2018-02-01T00:00:00",
          "2018-03-01T00:00:00",
          "2018-04-01T00:00:00",
          "2018-05-01T00:00:00",
          "2018-06-01T00:00:00",
          "2018-07-01T00:00:00",
          "2018-08-01T00:00:00",
          "2018-09-01T00:00:00",
          "2018-10-01T00:00:00",
          "2018-10-31T23:59:59.999999999"
         ],
         "xaxis": "x",
         "y": [
          2877.0080599489233,
          2877.0080599489233,
          2877.0080599489233,
          2877.0080599489233,
          2877.0080599489233,
          2877.0080599489233,
          2877.0080599489233,
          2877.0080599489233,
          2877.0080599489233,
          2877.0080599489233,
          2877.0080599489233
         ],
         "yaxis": "y"
        },
        {
         "connectgaps": true,
         "hoverinfo": "skip",
         "line": {
          "color": "rgba(0, 0, 0, 0)",
          "shape": "hv"
         },
         "mode": "lines",
         "name": "Confidence band",
         "showlegend": false,
         "type": "scatter",
         "x": [
          "2018-11-01T00:00:00",
          "2018-12-01T00:00:00",
          "2019-01-01T00:00:00",
          "2019-02-01T00:00:00",
          "2019-03-01T00:00:00",
          "2019-04-01T00:00:00",
          "2019-05-01T00:00:00",
          "2019-06-01T00:00:00",
          "2019-06-30T23:59:59.999999999"
         ],
         "xaxis": "x",
         "y": [
          3081.771609901015,
          3064.671094659389,
          3079.4593897727314,
          3090.093975608383,
          3054.1497608664813,
          3010.5280781149404,
          3082.413231795548,
          3156.709904552882,
          3156.709904552882
         ],
         "yaxis": "y"
        },
        {
         "connectgaps": true,
         "fill": "tonexty",
         "fillcolor": "rgba(0, 200, 229, 0.2)",
         "hoverinfo": "skip",
         "line": {
          "color": "rgba(0, 0, 0, 0)",
          "shape": "hv"
         },
         "mode": "lines",
         "name": "Confidence band",
         "showlegend": true,
         "type": "scatter",
         "x": [
          "2018-11-01T00:00:00",
          "2018-12-01T00:00:00",
          "2019-01-01T00:00:00",
          "2019-02-01T00:00:00",
          "2019-03-01T00:00:00",
          "2019-04-01T00:00:00",
          "2019-05-01T00:00:00",
          "2019-06-01T00:00:00",
          "2019-06-30T23:59:59.999999999"
         ],
         "xaxis": "x",
         "y": [
          2907.9885111887934,
          2893.6944454851705,
          2908.4994383522685,
          2910.1984119348695,
          2883.1898094460184,
          2836.744979402719,
          2911.4365826213298,
          2982.9268058406606,
          2982.9268058406606
         ],
         "yaxis": "y"
        },
        {
         "connectgaps": true,
         "hoverinfo": "skip",
         "line": {
          "color": "rgba(0, 0, 0, 0)",
          "shape": "hv"
         },
         "mode": "lines",
         "name": "Confidence band",
         "showlegend": false,
         "type": "scatter",
         "x": [
          "2018-01-01T00:00:00",
          "2018-02-01T00:00:00",
          "2018-03-01T00:00:00",
          "2018-04-01T00:00:00",
          "2018-05-01T00:00:00",
          "2018-06-01T00:00:00",
          "2018-07-01T00:00:00",
          "2018-08-01T00:00:00",
          "2018-09-01T00:00:00",
          "2018-10-01T00:00:00",
          "2018-10-31T23:59:59.999999999"
         ],
         "xaxis": "x",
         "y": [
          3053.6253858664813,
          3064.346986956281,
          3026.1317510375875,
          3043.482649255203,
          3027.8142725852313,
          3080.1101693767887,
          3073.116421022731,
          3063.579272585231,
          3057.5785787429577,
          3022.9587061789816,
          3022.9587061789816
         ],
         "yaxis": "y"
        },
        {
         "connectgaps": true,
         "fill": "tonexty",
         "fillcolor": "rgba(0, 200, 229, 0.2)",
         "hoverinfo": "skip",
         "line": {
          "color": "rgba(0, 0, 0, 0)",
          "shape": "hv"
         },
         "mode": "lines",
         "name": "Confidence band",
         "showlegend": false,
         "type": "scatter",
         "x": [
          "2018-01-01T00:00:00",
          "2018-02-01T00:00:00",
          "2018-03-01T00:00:00",
          "2018-04-01T00:00:00",
          "2018-05-01T00:00:00",
          "2018-06-01T00:00:00",
          "2018-07-01T00:00:00",
          "2018-08-01T00:00:00",
          "2018-09-01T00:00:00",
          "2018-10-01T00:00:00",
          "2018-10-31T23:59:59.999999999"
         ],
         "xaxis": "x",
         "y": [
          2882.6654344460185,
          2884.470872503179,
          2855.155101863369,
          2869.6995505429813,
          2856.8543211647684,
          2906.3095318747255,
          2902.1564696022683,
          2892.6193211647683,
          2883.7779412408945,
          2851.9987547585188,
          2851.9987547585188
         ],
         "yaxis": "y"
        }
       ],
       "layout": {
        "annotations": [
         {
          "font": {
           "size": 16
          },
          "showarrow": false,
          "text": "Values Avg for <b>transaction_amount</b>",
          "x": 0.5,
          "xanchor": "center",
          "xref": "paper",
          "y": 1,
          "yanchor": "bottom",
          "yref": "paper"
         },
         {
          "showarrow": false,
          "text": "Reference",
          "x": "2019-02-14T21:00:00",
          "xref": "x",
          "xshift": 10,
          "y": 1.01,
          "yref": "y domain"
         },
         {
          "showarrow": false,
          "text": "Analysis",
          "x": "2018-05-17T00:00:00",
          "xref": "x",
          "xshift": 15,
          "y": 1.01,
          "yref": "y domain"
         }
        ],
        "autosize": true,
        "hoverlabel": {
         "bgcolor": "white",
         "font": {
          "size": 14
         }
        },
        "legend": {
         "itemclick": false,
         "itemdoubleclick": false,
         "traceorder": "grouped"
        },
        "paper_bgcolor": "rgba(255,255,255,1)",
        "plot_bgcolor": "rgba(255,255,255,1)",
        "shapes": [
         {
          "layer": "below",
          "line": {
           "color": "#666666",
           "width": 1
          },
          "type": "line",
          "x0": "2018-01-01T00:00:00",
          "x1": "2018-01-01T00:00:00",
          "xref": "x",
          "y0": 0,
          "y1": 1,
          "yref": "y domain"
         }
        ],
        "template": {
         "data": {
          "bar": [
           {
            "error_x": {
             "color": "#2a3f5f"
            },
            "error_y": {
             "color": "#2a3f5f"
            },
            "marker": {
             "line": {
              "color": "#E5ECF6",
              "width": 0.5
             },
             "pattern": {
              "fillmode": "overlay",
              "size": 10,
              "solidity": 0.2
             }
            },
            "type": "bar"
           }
          ],
          "barpolar": [
           {
            "marker": {
             "line": {
              "color": "#E5ECF6",
              "width": 0.5
             },
             "pattern": {
              "fillmode": "overlay",
              "size": 10,
              "solidity": 0.2
             }
            },
            "type": "barpolar"
           }
          ],
          "carpet": [
           {
            "aaxis": {
             "endlinecolor": "#2a3f5f",
             "gridcolor": "white",
             "linecolor": "white",
             "minorgridcolor": "white",
             "startlinecolor": "#2a3f5f"
            },
            "baxis": {
             "endlinecolor": "#2a3f5f",
             "gridcolor": "white",
             "linecolor": "white",
             "minorgridcolor": "white",
             "startlinecolor": "#2a3f5f"
            },
            "type": "carpet"
           }
          ],
          "choropleth": [
           {
            "colorbar": {
             "outlinewidth": 0,
             "ticks": ""
            },
            "type": "choropleth"
           }
          ],
          "contour": [
           {
            "colorbar": {
             "outlinewidth": 0,
             "ticks": ""
            },
            "colorscale": [
             [
              0,
              "#0d0887"
             ],
             [
              0.1111111111111111,
              "#46039f"
             ],
             [
              0.2222222222222222,
              "#7201a8"
             ],
             [
              0.3333333333333333,
              "#9c179e"
             ],
             [
              0.4444444444444444,
              "#bd3786"
             ],
             [
              0.5555555555555556,
              "#d8576b"
             ],
             [
              0.6666666666666666,
              "#ed7953"
             ],
             [
              0.7777777777777778,
              "#fb9f3a"
             ],
             [
              0.8888888888888888,
              "#fdca26"
             ],
             [
              1,
              "#f0f921"
             ]
            ],
            "type": "contour"
           }
          ],
          "contourcarpet": [
           {
            "colorbar": {
             "outlinewidth": 0,
             "ticks": ""
            },
            "type": "contourcarpet"
           }
          ],
          "heatmap": [
           {
            "colorbar": {
             "outlinewidth": 0,
             "ticks": ""
            },
            "colorscale": [
             [
              0,
              "#0d0887"
             ],
             [
              0.1111111111111111,
              "#46039f"
             ],
             [
              0.2222222222222222,
              "#7201a8"
             ],
             [
              0.3333333333333333,
              "#9c179e"
             ],
             [
              0.4444444444444444,
              "#bd3786"
             ],
             [
              0.5555555555555556,
              "#d8576b"
             ],
             [
              0.6666666666666666,
              "#ed7953"
             ],
             [
              0.7777777777777778,
              "#fb9f3a"
             ],
             [
              0.8888888888888888,
              "#fdca26"
             ],
             [
              1,
              "#f0f921"
             ]
            ],
            "type": "heatmap"
           }
          ],
          "heatmapgl": [
           {
            "colorbar": {
             "outlinewidth": 0,
             "ticks": ""
            },
            "colorscale": [
             [
              0,
              "#0d0887"
             ],
             [
              0.1111111111111111,
              "#46039f"
             ],
             [
              0.2222222222222222,
              "#7201a8"
             ],
             [
              0.3333333333333333,
              "#9c179e"
             ],
             [
              0.4444444444444444,
              "#bd3786"
             ],
             [
              0.5555555555555556,
              "#d8576b"
             ],
             [
              0.6666666666666666,
              "#ed7953"
             ],
             [
              0.7777777777777778,
              "#fb9f3a"
             ],
             [
              0.8888888888888888,
              "#fdca26"
             ],
             [
              1,
              "#f0f921"
             ]
            ],
            "type": "heatmapgl"
           }
          ],
          "histogram": [
           {
            "marker": {
             "pattern": {
              "fillmode": "overlay",
              "size": 10,
              "solidity": 0.2
             }
            },
            "type": "histogram"
           }
          ],
          "histogram2d": [
           {
            "colorbar": {
             "outlinewidth": 0,
             "ticks": ""
            },
            "colorscale": [
             [
              0,
              "#0d0887"
             ],
             [
              0.1111111111111111,
              "#46039f"
             ],
             [
              0.2222222222222222,
              "#7201a8"
             ],
             [
              0.3333333333333333,
              "#9c179e"
             ],
             [
              0.4444444444444444,
              "#bd3786"
             ],
             [
              0.5555555555555556,
              "#d8576b"
             ],
             [
              0.6666666666666666,
              "#ed7953"
             ],
             [
              0.7777777777777778,
              "#fb9f3a"
             ],
             [
              0.8888888888888888,
              "#fdca26"
             ],
             [
              1,
              "#f0f921"
             ]
            ],
            "type": "histogram2d"
           }
          ],
          "histogram2dcontour": [
           {
            "colorbar": {
             "outlinewidth": 0,
             "ticks": ""
            },
            "colorscale": [
             [
              0,
              "#0d0887"
             ],
             [
              0.1111111111111111,
              "#46039f"
             ],
             [
              0.2222222222222222,
              "#7201a8"
             ],
             [
              0.3333333333333333,
              "#9c179e"
             ],
             [
              0.4444444444444444,
              "#bd3786"
             ],
             [
              0.5555555555555556,
              "#d8576b"
             ],
             [
              0.6666666666666666,
              "#ed7953"
             ],
             [
              0.7777777777777778,
              "#fb9f3a"
             ],
             [
              0.8888888888888888,
              "#fdca26"
             ],
             [
              1,
              "#f0f921"
             ]
            ],
            "type": "histogram2dcontour"
           }
          ],
          "mesh3d": [
           {
            "colorbar": {
             "outlinewidth": 0,
             "ticks": ""
            },
            "type": "mesh3d"
           }
          ],
          "parcoords": [
           {
            "line": {
             "colorbar": {
              "outlinewidth": 0,
              "ticks": ""
             }
            },
            "type": "parcoords"
           }
          ],
          "pie": [
           {
            "automargin": true,
            "type": "pie"
           }
          ],
          "scatter": [
           {
            "fillpattern": {
             "fillmode": "overlay",
             "size": 10,
             "solidity": 0.2
            },
            "type": "scatter"
           }
          ],
          "scatter3d": [
           {
            "line": {
             "colorbar": {
              "outlinewidth": 0,
              "ticks": ""
             }
            },
            "marker": {
             "colorbar": {
              "outlinewidth": 0,
              "ticks": ""
             }
            },
            "type": "scatter3d"
           }
          ],
          "scattercarpet": [
           {
            "marker": {
             "colorbar": {
              "outlinewidth": 0,
              "ticks": ""
             }
            },
            "type": "scattercarpet"
           }
          ],
          "scattergeo": [
           {
            "marker": {
             "colorbar": {
              "outlinewidth": 0,
              "ticks": ""
             }
            },
            "type": "scattergeo"
           }
          ],
          "scattergl": [
           {
            "marker": {
             "colorbar": {
              "outlinewidth": 0,
              "ticks": ""
             }
            },
            "type": "scattergl"
           }
          ],
          "scattermapbox": [
           {
            "marker": {
             "colorbar": {
              "outlinewidth": 0,
              "ticks": ""
             }
            },
            "type": "scattermapbox"
           }
          ],
          "scatterpolar": [
           {
            "marker": {
             "colorbar": {
              "outlinewidth": 0,
              "ticks": ""
             }
            },
            "type": "scatterpolar"
           }
          ],
          "scatterpolargl": [
           {
            "marker": {
             "colorbar": {
              "outlinewidth": 0,
              "ticks": ""
             }
            },
            "type": "scatterpolargl"
           }
          ],
          "scatterternary": [
           {
            "marker": {
             "colorbar": {
              "outlinewidth": 0,
              "ticks": ""
             }
            },
            "type": "scatterternary"
           }
          ],
          "surface": [
           {
            "colorbar": {
             "outlinewidth": 0,
             "ticks": ""
            },
            "colorscale": [
             [
              0,
              "#0d0887"
             ],
             [
              0.1111111111111111,
              "#46039f"
             ],
             [
              0.2222222222222222,
              "#7201a8"
             ],
             [
              0.3333333333333333,
              "#9c179e"
             ],
             [
              0.4444444444444444,
              "#bd3786"
             ],
             [
              0.5555555555555556,
              "#d8576b"
             ],
             [
              0.6666666666666666,
              "#ed7953"
             ],
             [
              0.7777777777777778,
              "#fb9f3a"
             ],
             [
              0.8888888888888888,
              "#fdca26"
             ],
             [
              1,
              "#f0f921"
             ]
            ],
            "type": "surface"
           }
          ],
          "table": [
           {
            "cells": {
             "fill": {
              "color": "#EBF0F8"
             },
             "line": {
              "color": "white"
             }
            },
            "header": {
             "fill": {
              "color": "#C8D4E3"
             },
             "line": {
              "color": "white"
             }
            },
            "type": "table"
           }
          ]
         },
         "layout": {
          "annotationdefaults": {
           "arrowcolor": "#2a3f5f",
           "arrowhead": 0,
           "arrowwidth": 1
          },
          "autotypenumbers": "strict",
          "coloraxis": {
           "colorbar": {
            "outlinewidth": 0,
            "ticks": ""
           }
          },
          "colorscale": {
           "diverging": [
            [
             0,
             "#8e0152"
            ],
            [
             0.1,
             "#c51b7d"
            ],
            [
             0.2,
             "#de77ae"
            ],
            [
             0.3,
             "#f1b6da"
            ],
            [
             0.4,
             "#fde0ef"
            ],
            [
             0.5,
             "#f7f7f7"
            ],
            [
             0.6,
             "#e6f5d0"
            ],
            [
             0.7,
             "#b8e186"
            ],
            [
             0.8,
             "#7fbc41"
            ],
            [
             0.9,
             "#4d9221"
            ],
            [
             1,
             "#276419"
            ]
           ],
           "sequential": [
            [
             0,
             "#0d0887"
            ],
            [
             0.1111111111111111,
             "#46039f"
            ],
            [
             0.2222222222222222,
             "#7201a8"
            ],
            [
             0.3333333333333333,
             "#9c179e"
            ],
            [
             0.4444444444444444,
             "#bd3786"
            ],
            [
             0.5555555555555556,
             "#d8576b"
            ],
            [
             0.6666666666666666,
             "#ed7953"
            ],
            [
             0.7777777777777778,
             "#fb9f3a"
            ],
            [
             0.8888888888888888,
             "#fdca26"
            ],
            [
             1,
             "#f0f921"
            ]
           ],
           "sequentialminus": [
            [
             0,
             "#0d0887"
            ],
            [
             0.1111111111111111,
             "#46039f"
            ],
            [
             0.2222222222222222,
             "#7201a8"
            ],
            [
             0.3333333333333333,
             "#9c179e"
            ],
            [
             0.4444444444444444,
             "#bd3786"
            ],
            [
             0.5555555555555556,
             "#d8576b"
            ],
            [
             0.6666666666666666,
             "#ed7953"
            ],
            [
             0.7777777777777778,
             "#fb9f3a"
            ],
            [
             0.8888888888888888,
             "#fdca26"
            ],
            [
             1,
             "#f0f921"
            ]
           ]
          },
          "colorway": [
           "#636efa",
           "#EF553B",
           "#00cc96",
           "#ab63fa",
           "#FFA15A",
           "#19d3f3",
           "#FF6692",
           "#B6E880",
           "#FF97FF",
           "#FECB52"
          ],
          "font": {
           "color": "#2a3f5f"
          },
          "geo": {
           "bgcolor": "white",
           "lakecolor": "white",
           "landcolor": "#E5ECF6",
           "showlakes": true,
           "showland": true,
           "subunitcolor": "white"
          },
          "hoverlabel": {
           "align": "left"
          },
          "hovermode": "closest",
          "mapbox": {
           "style": "light"
          },
          "paper_bgcolor": "white",
          "plot_bgcolor": "#E5ECF6",
          "polar": {
           "angularaxis": {
            "gridcolor": "white",
            "linecolor": "white",
            "ticks": ""
           },
           "bgcolor": "#E5ECF6",
           "radialaxis": {
            "gridcolor": "white",
            "linecolor": "white",
            "ticks": ""
           }
          },
          "scene": {
           "xaxis": {
            "backgroundcolor": "#E5ECF6",
            "gridcolor": "white",
            "gridwidth": 2,
            "linecolor": "white",
            "showbackground": true,
            "ticks": "",
            "zerolinecolor": "white"
           },
           "yaxis": {
            "backgroundcolor": "#E5ECF6",
            "gridcolor": "white",
            "gridwidth": 2,
            "linecolor": "white",
            "showbackground": true,
            "ticks": "",
            "zerolinecolor": "white"
           },
           "zaxis": {
            "backgroundcolor": "#E5ECF6",
            "gridcolor": "white",
            "gridwidth": 2,
            "linecolor": "white",
            "showbackground": true,
            "ticks": "",
            "zerolinecolor": "white"
           }
          },
          "shapedefaults": {
           "line": {
            "color": "#2a3f5f"
           }
          },
          "ternary": {
           "aaxis": {
            "gridcolor": "white",
            "linecolor": "white",
            "ticks": ""
           },
           "baxis": {
            "gridcolor": "white",
            "linecolor": "white",
            "ticks": ""
           },
           "bgcolor": "#E5ECF6",
           "caxis": {
            "gridcolor": "white",
            "linecolor": "white",
            "ticks": ""
           }
          },
          "title": {
           "x": 0.05
          },
          "xaxis": {
           "automargin": true,
           "gridcolor": "white",
           "linecolor": "white",
           "ticks": "",
           "title": {
            "standoff": 15
           },
           "zerolinecolor": "white",
           "zerolinewidth": 2
          },
          "yaxis": {
           "automargin": true,
           "gridcolor": "white",
           "linecolor": "white",
           "ticks": "",
           "title": {
            "standoff": 15
           },
           "zerolinecolor": "white",
           "zerolinewidth": 2
          }
         }
        },
        "title": {
         "text": "Averaged Values "
        },
        "xaxis": {
         "anchor": "y",
         "autorange": true,
         "domain": [
          0,
          1
         ],
         "linecolor": "#3b0280",
         "matches": "x",
         "mirror": true,
         "range": [
          "2017-12-12 00:06:24.7539",
          "2019-07-21 11:53:35.2461"
         ],
         "showgrid": false,
         "title": {
          "text": "Time"
         },
         "type": "date",
         "zeroline": false
        },
        "yaxis": {
         "anchor": "x",
         "autorange": true,
         "domain": [
          0,
          1
         ],
         "linecolor": "#3b0280",
         "mirror": true,
         "range": [
          2818.9691502277096,
          3174.4857337278913
         ],
         "showgrid": false,
         "title": {
          "text": "Values Avg"
         },
         "type": "linear",
         "zeroline": false
        }
       }
      },
      "image/png": "[encoded data removed]",
      "text/html": [
       "<div>                            <div id=\"2557f358-1128-467c-9974-43f798305de6\" class=\"plotly-graph-div\" style=\"height:500.0px; width:100%;\"></div>            <script type=\"text/javascript\">                require([\"plotly\"], function(Plotly) {                    window.PLOTLYENV=window.PLOTLYENV || {};                                    if (document.getElementById(\"2557f358-1128-467c-9974-43f798305de6\")) {                    Plotly.newPlot(                        \"2557f358-1128-467c-9974-43f798305de6\",                        [{\"hoverinfo\":\"skip\",\"legendgroup\":\"metric_reference\",\"line\":{\"color\":\"#00c8e5\",\"shape\":\"hv\",\"width\":2},\"mode\":\"lines\",\"name\":\"Metric\",\"showlegend\":true,\"x\":[\"2018-11-01T00:00:00\",\"2018-12-01T00:00:00\",\"2019-01-01T00:00:00\",\"2019-02-01T00:00:00\",\"2019-03-01T00:00:00\",\"2019-04-01T00:00:00\",\"2019-05-01T00:00:00\",\"2019-06-01T00:00:00\",\"2019-06-30T23:59:59.999999999\"],\"y\":[2994.880060544904,2979.1827700722797,2993.9794140625,3000.1461937716263,2968.66978515625,2923.6365287588296,2996.924907208439,3069.8183551967713,3069.8183551967713],\"type\":\"scatter\",\"xaxis\":\"x\",\"yaxis\":\"y\"},{\"customdata\":[[\"Values Avg for \\u003cb\\u003etransaction_amount\\u003c\\u002fb\\u003e\",\"\\u003cb style=\\\"color:Colors.BLUE_SKY_CRAYOLA;line-height:60px\\\"\\u003eReference\\u003c\\u002fb\\u003e\",\"\",\"2018-11\",\"From \\u003cb\\u003eNov-01-2018\\u003c\\u002fb\\u003e to \\u003cb\\u003eNov-30-2018\\u003c\\u002fb\\u003e\",2994.8801,86.8915],[\"Values Avg for \\u003cb\\u003etransaction_amount\\u003c\\u002fb\\u003e\",\"\\u003cb style=\\\"color:Colors.BLUE_SKY_CRAYOLA;line-height:60px\\\"\\u003eReference\\u003c\\u002fb\\u003e\",\"\",\"2018-12\",\"From \\u003cb\\u003eDec-01-2018\\u003c\\u002fb\\u003e to \\u003cb\\u003eDec-31-2018\\u003c\\u002fb\\u003e\",2979.1828,85.4883],[\"Values Avg for \\u003cb\\u003etransaction_amount\\u003c\\u002fb\\u003e\",\"\\u003cb style=\\\"color:Colors.BLUE_SKY_CRAYOLA;line-height:60px\\\"\\u003eReference\\u003c\\u002fb\\u003e\",\"\",\"2019-01\",\"From \\u003cb\\u003eJan-01-2019\\u003c\\u002fb\\u003e to \\u003cb\\u003eJan-31-2019\\u003c\\u002fb\\u003e\",2993.9794,85.48],[\"Values Avg for \\u003cb\\u003etransaction_amount\\u003c\\u002fb\\u003e\",\"\\u003cb style=\\\"color:Colors.BLUE_SKY_CRAYOLA;line-height:60px\\\"\\u003eReference\\u003c\\u002fb\\u003e\",\"\",\"2019-02\",\"From \\u003cb\\u003eFeb-01-2019\\u003c\\u002fb\\u003e to \\u003cb\\u003eFeb-28-2019\\u003c\\u002fb\\u003e\",3000.1462,89.9478],[\"Values Avg for \\u003cb\\u003etransaction_amount\\u003c\\u002fb\\u003e\",\"\\u003cb style=\\\"color:Colors.BLUE_SKY_CRAYOLA;line-height:60px\\\"\\u003eReference\\u003c\\u002fb\\u003e\",\"\",\"2019-03\",\"From \\u003cb\\u003eMar-01-2019\\u003c\\u002fb\\u003e to \\u003cb\\u003eMar-31-2019\\u003c\\u002fb\\u003e\",2968.6698,85.48],[\"Values Avg for \\u003cb\\u003etransaction_amount\\u003c\\u002fb\\u003e\",\"\\u003cb style=\\\"color:Colors.BLUE_SKY_CRAYOLA;line-height:60px\\\"\\u003eReference\\u003c\\u002fb\\u003e\",\"\",\"2019-04\",\"From \\u003cb\\u003eApr-01-2019\\u003c\\u002fb\\u003e to \\u003cb\\u003eApr-30-2019\\u003c\\u002fb\\u003e\",2923.6365,86.8915],[\"Values Avg for \\u003cb\\u003etransaction_amount\\u003c\\u002fb\\u003e\",\"\\u003cb style=\\\"color:Colors.BLUE_SKY_CRAYOLA;line-height:60px\\\"\\u003eReference\\u003c\\u002fb\\u003e\",\"\",\"2019-05\",\"From \\u003cb\\u003eMay-01-2019\\u003c\\u002fb\\u003e to \\u003cb\\u003eMay-31-2019\\u003c\\u002fb\\u003e\",2996.9249,85.4883],[\"Values Avg for \\u003cb\\u003etransaction_amount\\u003c\\u002fb\\u003e\",\"\\u003cb style=\\\"color:Colors.BLUE_SKY_CRAYOLA;line-height:60px\\\"\\u003eReference\\u003c\\u002fb\\u003e\",\"\",\"2019-06\",\"From \\u003cb\\u003eJun-01-2019\\u003c\\u002fb\\u003e to \\u003cb\\u003eJun-30-2019\\u003c\\u002fb\\u003e\",3069.8184,86.8915]],\"hovertemplate\":\"%{customdata[1]} &nbsp; &nbsp; %{customdata[2]} \\u003cbr \\u002f\\u003eChunk: \\u003cb\\u003e%{customdata[3]}\\u003c\\u002fb\\u003e &nbsp; &nbsp; %{customdata[4]} \\u003cbr \\u002f\\u003e%{customdata[0]}: \\u003cb\\u003e%{customdata[5]}\\u003c\\u002fb\\u003e\\u003cbr \\u002f\\u003eConfidence band: +\\u002f- \\u003cb\\u003e%{customdata[6]}\\u003c\\u002fb\\u003e\\u003cbr \\u002f\\u003e\\u003cextra\\u003e\\u003c\\u002fextra\\u003e\",\"legendgroup\":\"metric_reference\",\"marker\":{\"color\":\"#00c8e5\",\"size\":5,\"symbol\":\"circle\"},\"mode\":\"markers\",\"name\":\"Metric\",\"showlegend\":false,\"x\":[\"2018-11-16T00:00:00\",\"2018-12-16T12:00:00\",\"2019-01-16T12:00:00\",\"2019-02-15T00:00:00\",\"2019-03-16T12:00:00\",\"2019-04-16T00:00:00\",\"2019-05-16T12:00:00\",\"2019-06-15T23:59:59.999999999\"],\"y\":[2994.880060544904,2979.1827700722797,2993.9794140625,3000.1461937716263,2968.66978515625,2923.6365287588296,2996.924907208439,3069.8183551967713,3069.8183551967713],\"type\":\"scatter\",\"xaxis\":\"x\",\"yaxis\":\"y\"},{\"hoverinfo\":\"skip\",\"legendgroup\":\"metric_analysis\",\"line\":{\"color\":\"#00c8e5\",\"shape\":\"hv\",\"width\":2},\"mode\":\"lines\",\"name\":\"Metric\",\"showlegend\":false,\"x\":[\"2018-01-01T00:00:00\",\"2018-02-01T00:00:00\",\"2018-03-01T00:00:00\",\"2018-04-01T00:00:00\",\"2018-05-01T00:00:00\",\"2018-06-01T00:00:00\",\"2018-07-01T00:00:00\",\"2018-08-01T00:00:00\",\"2018-09-01T00:00:00\",\"2018-10-01T00:00:00\",\"2018-10-31T23:59:59.999999999\"],\"y\":[2968.14541015625,2974.40892972973,2940.6434264504783,2956.591099899092,2942.334296875,2993.209850625757,2987.6364453124997,2978.0992968749997,2970.678259991926,2937.47873046875,2937.47873046875],\"type\":\"scatter\",\"xaxis\":\"x\",\"yaxis\":\"y\"},{\"customdata\":[[\"Values Avg for \\u003cb\\u003etransaction_amount\\u003c\\u002fb\\u003e\",\"\\u003cb style=\\\"color:Colors.INDIGO_PERSIAN;line-height:60px\\\"\\u003eAnalysis\\u003c\\u002fb\\u003e\",\"\",\"2018-01\",\"From \\u003cb\\u003eJan-01-2018\\u003c\\u002fb\\u003e to \\u003cb\\u003eJan-31-2018\\u003c\\u002fb\\u003e\",2968.1454,85.48],[\"Values Avg for \\u003cb\\u003etransaction_amount\\u003c\\u002fb\\u003e\",\"\\u003cb style=\\\"color:Colors.INDIGO_PERSIAN;line-height:60px\\\"\\u003eAnalysis\\u003c\\u002fb\\u003e\",\"\",\"2018-02\",\"From \\u003cb\\u003eFeb-01-2018\\u003c\\u002fb\\u003e to \\u003cb\\u003eFeb-28-2018\\u003c\\u002fb\\u003e\",2974.4089,89.9381],[\"Values Avg for \\u003cb\\u003etransaction_amount\\u003c\\u002fb\\u003e\",\"\\u003cb style=\\\"color:Colors.INDIGO_PERSIAN;line-height:60px\\\"\\u003eAnalysis\\u003c\\u002fb\\u003e\",\"\",\"2018-03\",\"From \\u003cb\\u003eMar-01-2018\\u003c\\u002fb\\u003e to \\u003cb\\u003eMar-31-2018\\u003c\\u002fb\\u003e\",2940.6434,85.4883],[\"Values Avg for \\u003cb\\u003etransaction_amount\\u003c\\u002fb\\u003e\",\"\\u003cb style=\\\"color:Colors.INDIGO_PERSIAN;line-height:60px\\\"\\u003eAnalysis\\u003c\\u002fb\\u003e\",\"\",\"2018-04\",\"From \\u003cb\\u003eApr-01-2018\\u003c\\u002fb\\u003e to \\u003cb\\u003eApr-30-2018\\u003c\\u002fb\\u003e\",2956.5911,86.8915],[\"Values Avg for \\u003cb\\u003etransaction_amount\\u003c\\u002fb\\u003e\",\"\\u003cb style=\\\"color:Colors.INDIGO_PERSIAN;line-height:60px\\\"\\u003eAnalysis\\u003c\\u002fb\\u003e\",\"\",\"2018-05\",\"From \\u003cb\\u003eMay-01-2018\\u003c\\u002fb\\u003e to \\u003cb\\u003eMay-31-2018\\u003c\\u002fb\\u003e\",2942.3343,85.48],[\"Values Avg for \\u003cb\\u003etransaction_amount\\u003c\\u002fb\\u003e\",\"\\u003cb style=\\\"color:Colors.INDIGO_PERSIAN;line-height:60px\\\"\\u003eAnalysis\\u003c\\u002fb\\u003e\",\"\",\"2018-06\",\"From \\u003cb\\u003eJun-01-2018\\u003c\\u002fb\\u003e to \\u003cb\\u003eJun-30-2018\\u003c\\u002fb\\u003e\",2993.2099,86.9003],[\"Values Avg for \\u003cb\\u003etransaction_amount\\u003c\\u002fb\\u003e\",\"\\u003cb style=\\\"color:Colors.INDIGO_PERSIAN;line-height:60px\\\"\\u003eAnalysis\\u003c\\u002fb\\u003e\",\"\",\"2018-07\",\"From \\u003cb\\u003eJul-01-2018\\u003c\\u002fb\\u003e to \\u003cb\\u003eJul-31-2018\\u003c\\u002fb\\u003e\",2987.6364,85.48],[\"Values Avg for \\u003cb\\u003etransaction_amount\\u003c\\u002fb\\u003e\",\"\\u003cb style=\\\"color:Colors.INDIGO_PERSIAN;line-height:60px\\\"\\u003eAnalysis\\u003c\\u002fb\\u003e\",\"\",\"2018-08\",\"From \\u003cb\\u003eAug-01-2018\\u003c\\u002fb\\u003e to \\u003cb\\u003eAug-31-2018\\u003c\\u002fb\\u003e\",2978.0993,85.48],[\"Values Avg for \\u003cb\\u003etransaction_amount\\u003c\\u002fb\\u003e\",\"\\u003cb style=\\\"color:Colors.INDIGO_PERSIAN;line-height:60px\\\"\\u003eAnalysis\\u003c\\u002fb\\u003e\",\"\",\"2018-09\",\"From \\u003cb\\u003eSep-01-2018\\u003c\\u002fb\\u003e to \\u003cb\\u003eSep-30-2018\\u003c\\u002fb\\u003e\",2970.6783,86.9003],[\"Values Avg for \\u003cb\\u003etransaction_amount\\u003c\\u002fb\\u003e\",\"\\u003cb style=\\\"color:Colors.INDIGO_PERSIAN;line-height:60px\\\"\\u003eAnalysis\\u003c\\u002fb\\u003e\",\"\",\"2018-10\",\"From \\u003cb\\u003eOct-01-2018\\u003c\\u002fb\\u003e to \\u003cb\\u003eOct-31-2018\\u003c\\u002fb\\u003e\",2937.4787,85.48]],\"hovertemplate\":\"%{customdata[1]} &nbsp; &nbsp; %{customdata[2]} \\u003cbr \\u002f\\u003eChunk: \\u003cb\\u003e%{customdata[3]}\\u003c\\u002fb\\u003e &nbsp; &nbsp; %{customdata[4]} \\u003cbr \\u002f\\u003e%{customdata[0]}: \\u003cb\\u003e%{customdata[5]}\\u003c\\u002fb\\u003e\\u003cbr \\u002f\\u003eConfidence band: +\\u002f- \\u003cb\\u003e%{customdata[6]}\\u003c\\u002fb\\u003e\\u003cbr \\u002f\\u003e\\u003cextra\\u003e\\u003c\\u002fextra\\u003e\",\"legendgroup\":\"metric_analysis\",\"marker\":{\"color\":\"#00c8e5\",\"size\":5,\"symbol\":\"circle\"},\"mode\":\"markers\",\"name\":\"Metric\",\"showlegend\":false,\"x\":[\"2018-01-16T12:00:00\",\"2018-02-15T00:00:00\",\"2018-03-16T12:00:00\",\"2018-04-16T00:00:00\",\"2018-05-16T12:00:00\",\"2018-06-16T00:00:00\",\"2018-07-16T12:00:00\",\"2018-08-16T12:00:00\",\"2018-09-16T00:00:00\",\"2018-10-16T11:59:59.999999999\"],\"y\":[2968.14541015625,2974.40892972973,2940.6434264504783,2956.591099899092,2942.334296875,2993.209850625757,2987.6364453124997,2978.0992968749997,2970.678259991926,2937.47873046875,2937.47873046875],\"type\":\"scatter\",\"xaxis\":\"x\",\"yaxis\":\"y\"},{\"hoverinfo\":\"skip\",\"legendgroup\":\"alert\",\"marker\":{\"color\":\"#DD4040\",\"size\":8,\"symbol\":\"diamond\"},\"mode\":\"markers\",\"name\":\"Alert\",\"showlegend\":true,\"x\":[],\"y\":[],\"type\":\"scatter\",\"xaxis\":\"x\",\"yaxis\":\"y\"},{\"hoverinfo\":\"skip\",\"legendgroup\":\"thresh\",\"line\":{\"color\":\"#DD4040\",\"dash\":\"dash\",\"width\":2},\"mode\":\"lines\",\"name\":\"Threshold\",\"showlegend\":true,\"x\":[\"2018-11-01T00:00:00\",\"2018-12-01T00:00:00\",\"2019-01-01T00:00:00\",\"2019-02-01T00:00:00\",\"2019-03-01T00:00:00\",\"2019-04-01T00:00:00\",\"2019-05-01T00:00:00\",\"2019-06-01T00:00:00\",\"2019-06-30T23:59:59.999999999\"],\"y\":[3104.8014437439774,3104.8014437439774,3104.8014437439774,3104.8014437439774,3104.8014437439774,3104.8014437439774,3104.8014437439774,3104.8014437439774,3104.8014437439774],\"type\":\"scatter\",\"xaxis\":\"x\",\"yaxis\":\"y\"},{\"hoverinfo\":\"skip\",\"legendgroup\":\"thresh\",\"line\":{\"color\":\"#DD4040\",\"dash\":\"dash\",\"width\":2},\"mode\":\"lines\",\"name\":\"Threshold\",\"showlegend\":false,\"x\":[\"2018-11-01T00:00:00\",\"2018-12-01T00:00:00\",\"2019-01-01T00:00:00\",\"2019-02-01T00:00:00\",\"2019-03-01T00:00:00\",\"2019-04-01T00:00:00\",\"2019-05-01T00:00:00\",\"2019-06-01T00:00:00\",\"2019-06-30T23:59:59.999999999\"],\"y\":[2877.0080599489233,2877.0080599489233,2877.0080599489233,2877.0080599489233,2877.0080599489233,2877.0080599489233,2877.0080599489233,2877.0080599489233,2877.0080599489233],\"type\":\"scatter\",\"xaxis\":\"x\",\"yaxis\":\"y\"},{\"hoverinfo\":\"skip\",\"legendgroup\":\"thresh\",\"line\":{\"color\":\"#DD4040\",\"dash\":\"dash\",\"width\":2},\"mode\":\"lines\",\"name\":\"Threshold\",\"showlegend\":false,\"x\":[\"2018-01-01T00:00:00\",\"2018-02-01T00:00:00\",\"2018-03-01T00:00:00\",\"2018-04-01T00:00:00\",\"2018-05-01T00:00:00\",\"2018-06-01T00:00:00\",\"2018-07-01T00:00:00\",\"2018-08-01T00:00:00\",\"2018-09-01T00:00:00\",\"2018-10-01T00:00:00\",\"2018-10-31T23:59:59.999999999\"],\"y\":[3104.8014437439774,3104.8014437439774,3104.8014437439774,3104.8014437439774,3104.8014437439774,3104.8014437439774,3104.8014437439774,3104.8014437439774,3104.8014437439774,3104.8014437439774,3104.8014437439774],\"type\":\"scatter\",\"xaxis\":\"x\",\"yaxis\":\"y\"},{\"hoverinfo\":\"skip\",\"legendgroup\":\"thresh\",\"line\":{\"color\":\"#DD4040\",\"dash\":\"dash\",\"width\":2},\"mode\":\"lines\",\"name\":\"Threshold\",\"showlegend\":false,\"x\":[\"2018-01-01T00:00:00\",\"2018-02-01T00:00:00\",\"2018-03-01T00:00:00\",\"2018-04-01T00:00:00\",\"2018-05-01T00:00:00\",\"2018-06-01T00:00:00\",\"2018-07-01T00:00:00\",\"2018-08-01T00:00:00\",\"2018-09-01T00:00:00\",\"2018-10-01T00:00:00\",\"2018-10-31T23:59:59.999999999\"],\"y\":[2877.0080599489233,2877.0080599489233,2877.0080599489233,2877.0080599489233,2877.0080599489233,2877.0080599489233,2877.0080599489233,2877.0080599489233,2877.0080599489233,2877.0080599489233,2877.0080599489233],\"type\":\"scatter\",\"xaxis\":\"x\",\"yaxis\":\"y\"},{\"connectgaps\":true,\"hoverinfo\":\"skip\",\"line\":{\"color\":\"rgba(0,0,0,0)\",\"shape\":\"hv\"},\"mode\":\"lines\",\"name\":\"Confidence band\",\"showlegend\":false,\"x\":[\"2018-11-01T00:00:00\",\"2018-12-01T00:00:00\",\"2019-01-01T00:00:00\",\"2019-02-01T00:00:00\",\"2019-03-01T00:00:00\",\"2019-04-01T00:00:00\",\"2019-05-01T00:00:00\",\"2019-06-01T00:00:00\",\"2019-06-30T23:59:59.999999999\"],\"y\":[3081.771609901015,3064.671094659389,3079.4593897727314,3090.093975608383,3054.1497608664813,3010.5280781149404,3082.413231795548,3156.709904552882,3156.709904552882],\"type\":\"scatter\",\"xaxis\":\"x\",\"yaxis\":\"y\"},{\"connectgaps\":true,\"fill\":\"tonexty\",\"fillcolor\":\"rgba(0.0, 0.7843137254901961, 0.8980392156862745, 0.2)\",\"hoverinfo\":\"skip\",\"line\":{\"color\":\"rgba(0,0,0,0)\",\"shape\":\"hv\"},\"mode\":\"lines\",\"name\":\"Confidence band\",\"showlegend\":true,\"x\":[\"2018-11-01T00:00:00\",\"2018-12-01T00:00:00\",\"2019-01-01T00:00:00\",\"2019-02-01T00:00:00\",\"2019-03-01T00:00:00\",\"2019-04-01T00:00:00\",\"2019-05-01T00:00:00\",\"2019-06-01T00:00:00\",\"2019-06-30T23:59:59.999999999\"],\"y\":[2907.9885111887934,2893.6944454851705,2908.4994383522685,2910.1984119348695,2883.1898094460184,2836.744979402719,2911.4365826213298,2982.9268058406606,2982.9268058406606],\"type\":\"scatter\",\"xaxis\":\"x\",\"yaxis\":\"y\"},{\"connectgaps\":true,\"hoverinfo\":\"skip\",\"line\":{\"color\":\"rgba(0,0,0,0)\",\"shape\":\"hv\"},\"mode\":\"lines\",\"name\":\"Confidence band\",\"showlegend\":false,\"x\":[\"2018-01-01T00:00:00\",\"2018-02-01T00:00:00\",\"2018-03-01T00:00:00\",\"2018-04-01T00:00:00\",\"2018-05-01T00:00:00\",\"2018-06-01T00:00:00\",\"2018-07-01T00:00:00\",\"2018-08-01T00:00:00\",\"2018-09-01T00:00:00\",\"2018-10-01T00:00:00\",\"2018-10-31T23:59:59.999999999\"],\"y\":[3053.6253858664813,3064.346986956281,3026.1317510375875,3043.482649255203,3027.8142725852313,3080.1101693767887,3073.116421022731,3063.579272585231,3057.5785787429577,3022.9587061789816,3022.9587061789816],\"type\":\"scatter\",\"xaxis\":\"x\",\"yaxis\":\"y\"},{\"connectgaps\":true,\"fill\":\"tonexty\",\"fillcolor\":\"rgba(0.0, 0.7843137254901961, 0.8980392156862745, 0.2)\",\"hoverinfo\":\"skip\",\"line\":{\"color\":\"rgba(0,0,0,0)\",\"shape\":\"hv\"},\"mode\":\"lines\",\"name\":\"Confidence band\",\"showlegend\":false,\"x\":[\"2018-01-01T00:00:00\",\"2018-02-01T00:00:00\",\"2018-03-01T00:00:00\",\"2018-04-01T00:00:00\",\"2018-05-01T00:00:00\",\"2018-06-01T00:00:00\",\"2018-07-01T00:00:00\",\"2018-08-01T00:00:00\",\"2018-09-01T00:00:00\",\"2018-10-01T00:00:00\",\"2018-10-31T23:59:59.999999999\"],\"y\":[2882.6654344460185,2884.470872503179,2855.155101863369,2869.6995505429813,2856.8543211647684,2906.3095318747255,2902.1564696022683,2892.6193211647683,2883.7779412408945,2851.9987547585188,2851.9987547585188],\"type\":\"scatter\",\"xaxis\":\"x\",\"yaxis\":\"y\"}],                        {\"height\":500.0,\"hoverlabel\":{\"bgcolor\":\"white\",\"font\":{\"size\":14}},\"legend\":{\"itemclick\":false,\"itemdoubleclick\":false,\"traceorder\":\"grouped\"},\"paper_bgcolor\":\"rgba(255,255,255,1)\",\"plot_bgcolor\":\"rgba(255,255,255,1)\",\"title\":{\"text\":\"Averaged Values \"},\"xaxis\":{\"linecolor\":\"#3b0280\",\"mirror\":true,\"showgrid\":false,\"title\":{\"text\":\"Time\"},\"zeroline\":false,\"anchor\":\"y\",\"domain\":[0.0,1.0],\"matches\":\"x\"},\"yaxis\":{\"linecolor\":\"#3b0280\",\"mirror\":true,\"showgrid\":false,\"title\":{\"text\":\"Values Avg\"},\"zeroline\":false,\"anchor\":\"x\",\"domain\":[0.0,1.0]},\"template\":{\"data\":{\"histogram2dcontour\":[{\"type\":\"histogram2dcontour\",\"colorbar\":{\"outlinewidth\":0,\"ticks\":\"\"},\"colorscale\":[[0.0,\"#0d0887\"],[0.1111111111111111,\"#46039f\"],[0.2222222222222222,\"#7201a8\"],[0.3333333333333333,\"#9c179e\"],[0.4444444444444444,\"#bd3786\"],[0.5555555555555556,\"#d8576b\"],[0.6666666666666666,\"#ed7953\"],[0.7777777777777778,\"#fb9f3a\"],[0.8888888888888888,\"#fdca26\"],[1.0,\"#f0f921\"]]}],\"choropleth\":[{\"type\":\"choropleth\",\"colorbar\":{\"outlinewidth\":0,\"ticks\":\"\"}}],\"histogram2d\":[{\"type\":\"histogram2d\",\"colorbar\":{\"outlinewidth\":0,\"ticks\":\"\"},\"colorscale\":[[0.0,\"#0d0887\"],[0.1111111111111111,\"#46039f\"],[0.2222222222222222,\"#7201a8\"],[0.3333333333333333,\"#9c179e\"],[0.4444444444444444,\"#bd3786\"],[0.5555555555555556,\"#d8576b\"],[0.6666666666666666,\"#ed7953\"],[0.7777777777777778,\"#fb9f3a\"],[0.8888888888888888,\"#fdca26\"],[1.0,\"#f0f921\"]]}],\"heatmap\":[{\"type\":\"heatmap\",\"colorbar\":{\"outlinewidth\":0,\"ticks\":\"\"},\"colorscale\":[[0.0,\"#0d0887\"],[0.1111111111111111,\"#46039f\"],[0.2222222222222222,\"#7201a8\"],[0.3333333333333333,\"#9c179e\"],[0.4444444444444444,\"#bd3786\"],[0.5555555555555556,\"#d8576b\"],[0.6666666666666666,\"#ed7953\"],[0.7777777777777778,\"#fb9f3a\"],[0.8888888888888888,\"#fdca26\"],[1.0,\"#f0f921\"]]}],\"heatmapgl\":[{\"type\":\"heatmapgl\",\"colorbar\":{\"outlinewidth\":0,\"ticks\":\"\"},\"colorscale\":[[0.0,\"#0d0887\"],[0.1111111111111111,\"#46039f\"],[0.2222222222222222,\"#7201a8\"],[0.3333333333333333,\"#9c179e\"],[0.4444444444444444,\"#bd3786\"],[0.5555555555555556,\"#d8576b\"],[0.6666666666666666,\"#ed7953\"],[0.7777777777777778,\"#fb9f3a\"],[0.8888888888888888,\"#fdca26\"],[1.0,\"#f0f921\"]]}],\"contourcarpet\":[{\"type\":\"contourcarpet\",\"colorbar\":{\"outlinewidth\":0,\"ticks\":\"\"}}],\"contour\":[{\"type\":\"contour\",\"colorbar\":{\"outlinewidth\":0,\"ticks\":\"\"},\"colorscale\":[[0.0,\"#0d0887\"],[0.1111111111111111,\"#46039f\"],[0.2222222222222222,\"#7201a8\"],[0.3333333333333333,\"#9c179e\"],[0.4444444444444444,\"#bd3786\"],[0.5555555555555556,\"#d8576b\"],[0.6666666666666666,\"#ed7953\"],[0.7777777777777778,\"#fb9f3a\"],[0.8888888888888888,\"#fdca26\"],[1.0,\"#f0f921\"]]}],\"surface\":[{\"type\":\"surface\",\"colorbar\":{\"outlinewidth\":0,\"ticks\":\"\"},\"colorscale\":[[0.0,\"#0d0887\"],[0.1111111111111111,\"#46039f\"],[0.2222222222222222,\"#7201a8\"],[0.3333333333333333,\"#9c179e\"],[0.4444444444444444,\"#bd3786\"],[0.5555555555555556,\"#d8576b\"],[0.6666666666666666,\"#ed7953\"],[0.7777777777777778,\"#fb9f3a\"],[0.8888888888888888,\"#fdca26\"],[1.0,\"#f0f921\"]]}],\"mesh3d\":[{\"type\":\"mesh3d\",\"colorbar\":{\"outlinewidth\":0,\"ticks\":\"\"}}],\"scatter\":[{\"fillpattern\":{\"fillmode\":\"overlay\",\"size\":10,\"solidity\":0.2},\"type\":\"scatter\"}],\"parcoords\":[{\"type\":\"parcoords\",\"line\":{\"colorbar\":{\"outlinewidth\":0,\"ticks\":\"\"}}}],\"scatterpolargl\":[{\"type\":\"scatterpolargl\",\"marker\":{\"colorbar\":{\"outlinewidth\":0,\"ticks\":\"\"}}}],\"bar\":[{\"error_x\":{\"color\":\"#2a3f5f\"},\"error_y\":{\"color\":\"#2a3f5f\"},\"marker\":{\"line\":{\"color\":\"#E5ECF6\",\"width\":0.5},\"pattern\":{\"fillmode\":\"overlay\",\"size\":10,\"solidity\":0.2}},\"type\":\"bar\"}],\"scattergeo\":[{\"type\":\"scattergeo\",\"marker\":{\"colorbar\":{\"outlinewidth\":0,\"ticks\":\"\"}}}],\"scatterpolar\":[{\"type\":\"scatterpolar\",\"marker\":{\"colorbar\":{\"outlinewidth\":0,\"ticks\":\"\"}}}],\"histogram\":[{\"marker\":{\"pattern\":{\"fillmode\":\"overlay\",\"size\":10,\"solidity\":0.2}},\"type\":\"histogram\"}],\"scattergl\":[{\"type\":\"scattergl\",\"marker\":{\"colorbar\":{\"outlinewidth\":0,\"ticks\":\"\"}}}],\"scatter3d\":[{\"type\":\"scatter3d\",\"line\":{\"colorbar\":{\"outlinewidth\":0,\"ticks\":\"\"}},\"marker\":{\"colorbar\":{\"outlinewidth\":0,\"ticks\":\"\"}}}],\"scattermapbox\":[{\"type\":\"scattermapbox\",\"marker\":{\"colorbar\":{\"outlinewidth\":0,\"ticks\":\"\"}}}],\"scatterternary\":[{\"type\":\"scatterternary\",\"marker\":{\"colorbar\":{\"outlinewidth\":0,\"ticks\":\"\"}}}],\"scattercarpet\":[{\"type\":\"scattercarpet\",\"marker\":{\"colorbar\":{\"outlinewidth\":0,\"ticks\":\"\"}}}],\"carpet\":[{\"aaxis\":{\"endlinecolor\":\"#2a3f5f\",\"gridcolor\":\"white\",\"linecolor\":\"white\",\"minorgridcolor\":\"white\",\"startlinecolor\":\"#2a3f5f\"},\"baxis\":{\"endlinecolor\":\"#2a3f5f\",\"gridcolor\":\"white\",\"linecolor\":\"white\",\"minorgridcolor\":\"white\",\"startlinecolor\":\"#2a3f5f\"},\"type\":\"carpet\"}],\"table\":[{\"cells\":{\"fill\":{\"color\":\"#EBF0F8\"},\"line\":{\"color\":\"white\"}},\"header\":{\"fill\":{\"color\":\"#C8D4E3\"},\"line\":{\"color\":\"white\"}},\"type\":\"table\"}],\"barpolar\":[{\"marker\":{\"line\":{\"color\":\"#E5ECF6\",\"width\":0.5},\"pattern\":{\"fillmode\":\"overlay\",\"size\":10,\"solidity\":0.2}},\"type\":\"barpolar\"}],\"pie\":[{\"automargin\":true,\"type\":\"pie\"}]},\"layout\":{\"autotypenumbers\":\"strict\",\"colorway\":[\"#636efa\",\"#EF553B\",\"#00cc96\",\"#ab63fa\",\"#FFA15A\",\"#19d3f3\",\"#FF6692\",\"#B6E880\",\"#FF97FF\",\"#FECB52\"],\"font\":{\"color\":\"#2a3f5f\"},\"hovermode\":\"closest\",\"hoverlabel\":{\"align\":\"left\"},\"paper_bgcolor\":\"white\",\"plot_bgcolor\":\"#E5ECF6\",\"polar\":{\"bgcolor\":\"#E5ECF6\",\"angularaxis\":{\"gridcolor\":\"white\",\"linecolor\":\"white\",\"ticks\":\"\"},\"radialaxis\":{\"gridcolor\":\"white\",\"linecolor\":\"white\",\"ticks\":\"\"}},\"ternary\":{\"bgcolor\":\"#E5ECF6\",\"aaxis\":{\"gridcolor\":\"white\",\"linecolor\":\"white\",\"ticks\":\"\"},\"baxis\":{\"gridcolor\":\"white\",\"linecolor\":\"white\",\"ticks\":\"\"},\"caxis\":{\"gridcolor\":\"white\",\"linecolor\":\"white\",\"ticks\":\"\"}},\"coloraxis\":{\"colorbar\":{\"outlinewidth\":0,\"ticks\":\"\"}},\"colorscale\":{\"sequential\":[[0.0,\"#0d0887\"],[0.1111111111111111,\"#46039f\"],[0.2222222222222222,\"#7201a8\"],[0.3333333333333333,\"#9c179e\"],[0.4444444444444444,\"#bd3786\"],[0.5555555555555556,\"#d8576b\"],[0.6666666666666666,\"#ed7953\"],[0.7777777777777778,\"#fb9f3a\"],[0.8888888888888888,\"#fdca26\"],[1.0,\"#f0f921\"]],\"sequentialminus\":[[0.0,\"#0d0887\"],[0.1111111111111111,\"#46039f\"],[0.2222222222222222,\"#7201a8\"],[0.3333333333333333,\"#9c179e\"],[0.4444444444444444,\"#bd3786\"],[0.5555555555555556,\"#d8576b\"],[0.6666666666666666,\"#ed7953\"],[0.7777777777777778,\"#fb9f3a\"],[0.8888888888888888,\"#fdca26\"],[1.0,\"#f0f921\"]],\"diverging\":[[0,\"#8e0152\"],[0.1,\"#c51b7d\"],[0.2,\"#de77ae\"],[0.3,\"#f1b6da\"],[0.4,\"#fde0ef\"],[0.5,\"#f7f7f7\"],[0.6,\"#e6f5d0\"],[0.7,\"#b8e186\"],[0.8,\"#7fbc41\"],[0.9,\"#4d9221\"],[1,\"#276419\"]]},\"xaxis\":{\"gridcolor\":\"white\",\"linecolor\":\"white\",\"ticks\":\"\",\"title\":{\"standoff\":15},\"zerolinecolor\":\"white\",\"automargin\":true,\"zerolinewidth\":2},\"yaxis\":{\"gridcolor\":\"white\",\"linecolor\":\"white\",\"ticks\":\"\",\"title\":{\"standoff\":15},\"zerolinecolor\":\"white\",\"automargin\":true,\"zerolinewidth\":2},\"scene\":{\"xaxis\":{\"backgroundcolor\":\"#E5ECF6\",\"gridcolor\":\"white\",\"linecolor\":\"white\",\"showbackground\":true,\"ticks\":\"\",\"zerolinecolor\":\"white\",\"gridwidth\":2},\"yaxis\":{\"backgroundcolor\":\"#E5ECF6\",\"gridcolor\":\"white\",\"linecolor\":\"white\",\"showbackground\":true,\"ticks\":\"\",\"zerolinecolor\":\"white\",\"gridwidth\":2},\"zaxis\":{\"backgroundcolor\":\"#E5ECF6\",\"gridcolor\":\"white\",\"linecolor\":\"white\",\"showbackground\":true,\"ticks\":\"\",\"zerolinecolor\":\"white\",\"gridwidth\":2}},\"shapedefaults\":{\"line\":{\"color\":\"#2a3f5f\"}},\"annotationdefaults\":{\"arrowcolor\":\"#2a3f5f\",\"arrowhead\":0,\"arrowwidth\":1},\"geo\":{\"bgcolor\":\"white\",\"landcolor\":\"#E5ECF6\",\"subunitcolor\":\"white\",\"showland\":true,\"showlakes\":true,\"lakecolor\":\"white\"},\"title\":{\"x\":0.05},\"mapbox\":{\"style\":\"light\"}}},\"annotations\":[{\"font\":{\"size\":16},\"showarrow\":false,\"text\":\"Values Avg for \\u003cb\\u003etransaction_amount\\u003c\\u002fb\\u003e\",\"x\":0.5,\"xanchor\":\"center\",\"xref\":\"paper\",\"y\":1.0,\"yanchor\":\"bottom\",\"yref\":\"paper\"},{\"showarrow\":false,\"text\":\"Reference\",\"x\":\"2019-02-14T21:00:00\",\"xref\":\"x\",\"xshift\":10,\"y\":1.01,\"yref\":\"y domain\"},{\"showarrow\":false,\"text\":\"Analysis\",\"x\":\"2018-05-17T00:00:00\",\"xref\":\"x\",\"xshift\":15,\"y\":1.01,\"yref\":\"y domain\"}],\"shapes\":[{\"layer\":\"below\",\"line\":{\"color\":\"#666666\",\"width\":1},\"type\":\"line\",\"x0\":\"2018-01-01T00:00:00\",\"x1\":\"2018-01-01T00:00:00\",\"xref\":\"x\",\"y0\":0,\"y1\":1,\"yref\":\"y domain\"}]},                        {\"responsive\": true}                    ).then(function(){\n",
       "                            \n",
       "var gd = document.getElementById('2557f358-1128-467c-9974-43f798305de6');\n",
       "var x = new MutationObserver(function (mutations, observer) {{\n",
       "        var display = window.getComputedStyle(gd).display;\n",
       "        if (!display || display === 'none') {{\n",
       "            console.log([gd, 'removed!']);\n",
       "            Plotly.purge(gd);\n",
       "            observer.disconnect();\n",
       "        }}\n",
       "}});\n",
       "\n",
       "// Listen for the removal of the full notebook cells\n",
       "var notebookContainer = gd.closest('#notebook-container');\n",
       "if (notebookContainer) {{\n",
       "    x.observe(notebookContainer, {childList: true});\n",
       "}}\n",
       "\n",
       "// Listen for the clearing of the current output cell\n",
       "var outputEl = gd.closest('.output');\n",
       "if (outputEl) {{\n",
       "    x.observe(outputEl, {childList: true});\n",
       "}}\n",
       "\n",
       "                        })                };                });            </script>        </div>"
      ]
     },
     "metadata": {},
     "output_type": "display_data"
    },
    {
     "name": "stdout",
     "output_type": "stream",
     "text": [
      "3069.8184\n"
     ]
    },
    {
     "data": {
      "text/plain": [
       "'\\nFirst, I recommend looking at the distribution plots for all features and analyzing them using this command: \\n- `univariate_data_drift.filter(column_names=features).plot(kind=\"distribution\")`\\n\\nObservations:\\n\\n- time_since_log_min - From April to June, the transactions made within one minute after logging in completely vanished.\\n- transaction_amount - In May and June, a larger number of transactions appeared. Additionally, as you discovered in the third question, the average transaction value has increased and raised an alert.\\n\\nPossible explanation: \\n\\nFraudsters may have noticed that early card transactions, when done right after logging in, often led to account blocking. As a result, they began waiting a bit longer before transferring money to their account to avoid detection. Furthermore, they tend to make a single larger transfer instead of many smaller ones, leading to an increase in the average transaction value.\\n'"
      ]
     },
     "execution_count": 27,
     "metadata": {},
     "output_type": "execute_result"
    }
   ],
   "source": [
    "## Identifing the months when both the estimated and realized ROC AUC of the model have alerts. Store the names of these months as lowercase strings in a list named months_with_performance_alerts. \n",
    "\n",
    "# Get the estimated performance using CBPE algorithm\n",
    "cbpe = nml.CBPE(\n",
    "    timestamp_column_name=\"timestamp\",\n",
    "    y_true=\"is_fraud\",\n",
    "    y_pred=\"predicted_fraud\",\n",
    "    y_pred_proba=\"predicted_fraud_proba\",\n",
    "    problem_type=\"classification_binary\",\n",
    "    metrics=[\"accuracy\"],\n",
    "    chunk_period=\"m\"\n",
    ")\n",
    "\n",
    "cbpe.fit(reference)\n",
    "est_results = cbpe.estimate(analysis)\n",
    "\n",
    "# Calculate the realized performance\n",
    "calculator = nml.PerformanceCalculator(\n",
    "    y_true=\"is_fraud\",\n",
    "    y_pred=\"predicted_fraud\",\n",
    "    y_pred_proba=\"predicted_fraud_proba\",\n",
    "    timestamp_column_name=\"timestamp\",\n",
    "    metrics=[\"accuracy\"],\n",
    "    chunk_period=\"m\",\n",
    "    problem_type=\"classification_binary\",\n",
    ")\n",
    "calculator = calculator.fit(reference)\n",
    "calc_results = calculator.calculate(analysis)\n",
    "\n",
    "# Compare the results and find the months with alerts\n",
    "est_results.compare(calc_results).plot().show()\n",
    "months_with_performance_alerts = [\"april_2019\", \"may_2019\", \"june_2019\"]\n",
    "print(months_with_performance_alerts)\n",
    "\n",
    "## Determining which alerting feature has the strongest correlation with the model’s realized performance. Store the name of this feature in a variable named highest_correlation_feature. \n",
    "\n",
    "features = [\"time_since_login_min\", \"transaction_amount\",\n",
    "            \"transaction_type\", \"is_first_transaction\", \n",
    "            \"user_tenure_months\"]\n",
    "\n",
    "# Calculate the univariate drift results\n",
    "udc = nml.UnivariateDriftCalculator(\n",
    "    timestamp_column_name=\"timestamp\",\n",
    "    column_names=features,\n",
    "    chunk_period=\"m\",\n",
    "    continuous_methods=[\"kolmogorov_smirnov\"],\n",
    "    categorical_methods=[\"chi2\"]\n",
    ")\n",
    "\n",
    "udc.fit(reference)\n",
    "udc_results = udc.calculate(analysis)\n",
    "\n",
    "# Use the correlation ranker\n",
    "ranker = nml.CorrelationRanker()\n",
    "ranker.fit(\n",
    "    calc_results.filter(period=\"reference\"))\n",
    "\n",
    "correlation_ranked_features = ranker.rank(udc_results, calc_results)\n",
    "\n",
    "# Find the highest correlating feature\n",
    "display(correlation_ranked_features)\n",
    "highest_correlation_feature = \"time_since_login_min\"\n",
    "print(highest_correlation_feature)\n",
    "\n",
    "## Use the summary average statistics calculator to find out what were the monthly average transactions amounts, and if there's any alert. Record this value in a variable called alert_avg_transaction_amount.\n",
    "\n",
    "# Calculate average monthly transactions\n",
    "calc = nml.SummaryStatsAvgCalculator(\n",
    "    column_names=[\"transaction_amount\"],\n",
    "    chunk_period=\"m\",\n",
    "    timestamp_column_name=\"timestamp\",\n",
    ")\n",
    "\n",
    "calc.fit(reference)\n",
    "stats_avg_results = calc.calculate(analysis)\n",
    "\n",
    "# Find the month\n",
    "stats_avg_results.plot().show()\n",
    "alert_avg_transaction_amount = 3069.8184\n",
    "print(alert_avg_transaction_amount)\n",
    "\n",
    "## Answer to the bonus question\n",
    "\"\"\"\n",
    "First, I recommend looking at the distribution plots for all features and analyzing them using this command: \n",
    "- `univariate_data_drift.filter(column_names=features).plot(kind=\"distribution\")`\n",
    "\n",
    "Observations:\n",
    "\n",
    "- time_since_log_min - From April to June, the transactions made within one minute after logging in completely vanished.\n",
    "- transaction_amount - In May and June, a larger number of transactions appeared. Additionally, as you discovered in the third question, the average transaction value has increased and raised an alert.\n",
    "\n",
    "Possible explanation: \n",
    "\n",
    "Fraudsters may have noticed that early card transactions, when done right after logging in, often led to account blocking. As a result, they began waiting a bit longer before transferring money to their account to avoid detection. Furthermore, they tend to make a single larger transfer instead of many smaller ones, leading to an increase in the average transaction value.\n",
    "\"\"\""
   ]
  },
  {
   "cell_type": "code",
   "execution_count": null,
   "id": "32154cf5-09c4-470d-861b-d295ac6230dc",
   "metadata": {},
   "outputs": [],
   "source": []
  }
 ],
 "metadata": {
  "kernelspec": {
   "display_name": "Python [conda env:base] *",
   "language": "python",
   "name": "conda-base-py"
  },
  "language_info": {
   "codemirror_mode": {
    "name": "ipython",
    "version": 3
   },
   "file_extension": ".py",
   "mimetype": "text/x-python",
   "name": "python",
   "nbconvert_exporter": "python",
   "pygments_lexer": "ipython3",
   "version": "3.12.7"
  }
 },
 "nbformat": 4,
 "nbformat_minor": 5
}
