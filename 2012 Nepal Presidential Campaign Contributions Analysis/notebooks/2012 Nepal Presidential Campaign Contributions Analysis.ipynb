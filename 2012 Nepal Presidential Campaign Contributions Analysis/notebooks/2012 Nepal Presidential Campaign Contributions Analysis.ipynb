{
 "cells": [
  {
   "cell_type": "code",
   "execution_count": 6,
   "id": "bb188785-0202-46b3-ad4e-6e7f910bccc7",
   "metadata": {},
   "outputs": [],
   "source": [
    "import pandas as pd"
   ]
  },
  {
   "cell_type": "code",
   "execution_count": 8,
   "id": "e5fda0fc-78d7-485b-9416-a4137eaa76bf",
   "metadata": {},
   "outputs": [
    {
     "name": "stderr",
     "output_type": "stream",
     "text": [
      "/var/folders/4f/12hj5ywj25s0k8zdfjj3v6000000gn/T/ipykernel_82805/787925253.py:1: DtypeWarning: Columns (6) have mixed types. Specify dtype option on import or set low_memory=False.\n",
      "  fec = pd.read_csv('P00000001-ALL.csv')\n"
     ]
    }
   ],
   "source": [
    "fec = pd.read_csv('P00000001-ALL.csv')"
   ]
  },
  {
   "cell_type": "code",
   "execution_count": 9,
   "id": "6bb483c2-f7b0-4dc2-9c34-09d719b0b873",
   "metadata": {},
   "outputs": [
    {
     "data": {
      "text/plain": [
       "cmte_id                             C00431445\n",
       "cand_id                             P80003338\n",
       "cand_nm                         Obama, Barack\n",
       "contbr_nm                         ELLMAN, IRA\n",
       "contbr_city                             TEMPE\n",
       "contbr_st                                  AZ\n",
       "contbr_zip                          852816719\n",
       "contbr_employer      ARIZONA STATE UNIVERSITY\n",
       "contbr_occupation                   PROFESSOR\n",
       "contb_receipt_amt                        50.0\n",
       "contb_receipt_dt                    01-DEC-11\n",
       "receipt_desc                              NaN\n",
       "memo_cd                                   NaN\n",
       "memo_text                                 NaN\n",
       "form_tp                                 SA17A\n",
       "file_num                               772372\n",
       "Name: 123456, dtype: object"
      ]
     },
     "execution_count": 9,
     "metadata": {},
     "output_type": "execute_result"
    }
   ],
   "source": [
    "fec.iloc[123456]"
   ]
  },
  {
   "cell_type": "code",
   "execution_count": 14,
   "id": "90bce03f-dfac-4c8f-8dd1-c60bc89fc18b",
   "metadata": {},
   "outputs": [
    {
     "data": {
      "text/plain": [
       "array(['Bachmann, Michelle', 'Romney, Mitt', 'Obama, Barack',\n",
       "       \"Roemer, Charles E. 'Buddy' III\", 'Pawlenty, Timothy',\n",
       "       'Johnson, Gary Earl', 'Paul, Ron', 'Santorum, Rick',\n",
       "       'Cain, Herman', 'Gingrich, Newt', 'McCotter, Thaddeus G',\n",
       "       'Huntsman, Jon', 'Perry, Rick'], dtype=object)"
      ]
     },
     "execution_count": 14,
     "metadata": {},
     "output_type": "execute_result"
    }
   ],
   "source": [
    "unique_cands = fec.cand_nm.unique()\n",
    "unique_cands"
   ]
  },
  {
   "cell_type": "code",
   "execution_count": 16,
   "id": "d93b8601-a527-4105-8452-c075df98f4f6",
   "metadata": {},
   "outputs": [
    {
     "data": {
      "text/plain": [
       "'Obama, Barack'"
      ]
     },
     "execution_count": 16,
     "metadata": {},
     "output_type": "execute_result"
    }
   ],
   "source": [
    "unique_cands[2] "
   ]
  },
  {
   "cell_type": "code",
   "execution_count": 25,
   "id": "dcb3c544-f3e3-4d4e-bd46-dea399c19c36",
   "metadata": {},
   "outputs": [
    {
     "data": {
      "text/plain": [
       "123456    Obama, Barack\n",
       "123457    Obama, Barack\n",
       "123458    Obama, Barack\n",
       "123459    Obama, Barack\n",
       "123460    Obama, Barack\n",
       "Name: cand_nm, dtype: object"
      ]
     },
     "execution_count": 25,
     "metadata": {},
     "output_type": "execute_result"
    }
   ],
   "source": [
    "fec.cand_nm[123456:123461] "
   ]
  },
  {
   "cell_type": "code",
   "execution_count": 27,
   "id": "ff7c9847-ab9e-481e-b62f-596663f94e95",
   "metadata": {},
   "outputs": [],
   "source": [
    "parties = {'Bachmann, Michelle': 'Republican', 'Cain, Herman': 'Republican', 'Gingrich, Newt': 'Republican', 'Huntsman, Jon': 'Republican', 'Johnson, Gary Earl': 'Republican', 'McCotter, Thaddeus G': 'Republican', 'Obama, Barack': 'Democrat',\n",
    "'Paul, Ron': 'Republican', 'Pawlenty, Timothy': 'Republican', 'Perry, Rick': 'Republican',\n",
    "\"Roemer, Charles E. 'Buddy' III\": 'Republican', 'Romney, Mitt': 'Republican',\n",
    "'Santorum, Rick': 'Republican'}\n"
   ]
  },
  {
   "cell_type": "code",
   "execution_count": 29,
   "id": "352ae1fb-b001-48cb-ab93-84152a284f74",
   "metadata": {},
   "outputs": [
    {
     "data": {
      "text/plain": [
       "123456    Democrat\n",
       "123457    Democrat\n",
       "123458    Democrat\n",
       "123459    Democrat\n",
       "123460    Democrat\n",
       "Name: cand_nm, dtype: object"
      ]
     },
     "execution_count": 29,
     "metadata": {},
     "output_type": "execute_result"
    }
   ],
   "source": [
    "fec.cand_nm[123456:123461].map(parties) "
   ]
  },
  {
   "cell_type": "code",
   "execution_count": 31,
   "id": "3763e4f8-4b3c-491a-8ce7-81a354cecb2f",
   "metadata": {},
   "outputs": [],
   "source": [
    "# Add it as a column\n",
    "fec['party'] = fec.cand_nm.map(parties)"
   ]
  },
  {
   "cell_type": "code",
   "execution_count": 33,
   "id": "6d8b7b85-09ff-4f6b-8cbc-8aae2836cf5e",
   "metadata": {},
   "outputs": [
    {
     "data": {
      "text/plain": [
       "party\n",
       "Democrat      593746\n",
       "Republican    407985\n",
       "Name: count, dtype: int64"
      ]
     },
     "execution_count": 33,
     "metadata": {},
     "output_type": "execute_result"
    }
   ],
   "source": [
    "fec['party'].value_counts()"
   ]
  },
  {
   "cell_type": "code",
   "execution_count": 35,
   "id": "7bf96a9b-13b4-41cf-945d-a84ebe368990",
   "metadata": {},
   "outputs": [],
   "source": [
    "#A couple of data preparation points. \n",
    "#First, this data includes both contributions and refunds (negative contribution amount):"
   ]
  },
  {
   "cell_type": "code",
   "execution_count": 39,
   "id": "43efa228-fbbd-430c-9ae0-c3762c473b4c",
   "metadata": {},
   "outputs": [
    {
     "data": {
      "text/plain": [
       "contb_receipt_amt\n",
       "True     991475\n",
       "False     10256\n",
       "Name: count, dtype: int64"
      ]
     },
     "execution_count": 39,
     "metadata": {},
     "output_type": "execute_result"
    }
   ],
   "source": [
    "(fec.contb_receipt_amt > 0).value_counts()"
   ]
  },
  {
   "cell_type": "code",
   "execution_count": 43,
   "id": "406d8ed3-2970-4d2c-adba-0d55f9bdf40a",
   "metadata": {},
   "outputs": [],
   "source": [
    "fec = fec[fec.contb_receipt_amt > 0]"
   ]
  },
  {
   "cell_type": "code",
   "execution_count": 47,
   "id": "ec6186e2-3556-4991-8fc5-269dace1fc8e",
   "metadata": {},
   "outputs": [
    {
     "data": {
      "text/html": [
       "<div>\n",
       "<style scoped>\n",
       "    .dataframe tbody tr th:only-of-type {\n",
       "        vertical-align: middle;\n",
       "    }\n",
       "\n",
       "    .dataframe tbody tr th {\n",
       "        vertical-align: top;\n",
       "    }\n",
       "\n",
       "    .dataframe thead th {\n",
       "        text-align: right;\n",
       "    }\n",
       "</style>\n",
       "<table border=\"1\" class=\"dataframe\">\n",
       "  <thead>\n",
       "    <tr style=\"text-align: right;\">\n",
       "      <th></th>\n",
       "      <th>cmte_id</th>\n",
       "      <th>cand_id</th>\n",
       "      <th>cand_nm</th>\n",
       "      <th>contbr_nm</th>\n",
       "      <th>contbr_city</th>\n",
       "      <th>contbr_st</th>\n",
       "      <th>contbr_zip</th>\n",
       "      <th>contbr_employer</th>\n",
       "      <th>contbr_occupation</th>\n",
       "      <th>contb_receipt_amt</th>\n",
       "      <th>contb_receipt_dt</th>\n",
       "      <th>receipt_desc</th>\n",
       "      <th>memo_cd</th>\n",
       "      <th>memo_text</th>\n",
       "      <th>form_tp</th>\n",
       "      <th>file_num</th>\n",
       "      <th>party</th>\n",
       "    </tr>\n",
       "  </thead>\n",
       "  <tbody>\n",
       "    <tr>\n",
       "      <th>411</th>\n",
       "      <td>C00431171</td>\n",
       "      <td>P80003353</td>\n",
       "      <td>Romney, Mitt</td>\n",
       "      <td>ELDERBAUM, WILLIAM</td>\n",
       "      <td>DPO</td>\n",
       "      <td>AA</td>\n",
       "      <td>340230183.0</td>\n",
       "      <td>US GOVERNMENT</td>\n",
       "      <td>FOREIGN SERVICE OFFICER</td>\n",
       "      <td>25.0</td>\n",
       "      <td>01-FEB-12</td>\n",
       "      <td>NaN</td>\n",
       "      <td>NaN</td>\n",
       "      <td>NaN</td>\n",
       "      <td>SA17A</td>\n",
       "      <td>780124</td>\n",
       "      <td>Republican</td>\n",
       "    </tr>\n",
       "    <tr>\n",
       "      <th>412</th>\n",
       "      <td>C00431171</td>\n",
       "      <td>P80003353</td>\n",
       "      <td>Romney, Mitt</td>\n",
       "      <td>ELDERBAUM, WILLIAM</td>\n",
       "      <td>DPO</td>\n",
       "      <td>AA</td>\n",
       "      <td>340230183.0</td>\n",
       "      <td>US GOVERNMENT</td>\n",
       "      <td>FOREIGN SERVICE OFFICER</td>\n",
       "      <td>110.0</td>\n",
       "      <td>01-FEB-12</td>\n",
       "      <td>NaN</td>\n",
       "      <td>NaN</td>\n",
       "      <td>NaN</td>\n",
       "      <td>SA17A</td>\n",
       "      <td>780124</td>\n",
       "      <td>Republican</td>\n",
       "    </tr>\n",
       "    <tr>\n",
       "      <th>413</th>\n",
       "      <td>C00431171</td>\n",
       "      <td>P80003353</td>\n",
       "      <td>Romney, Mitt</td>\n",
       "      <td>CARLSEN, RICHARD</td>\n",
       "      <td>APO</td>\n",
       "      <td>AE</td>\n",
       "      <td>91280020.0</td>\n",
       "      <td>DEFENSE INTELLIGENCE AGENCY</td>\n",
       "      <td>INTELLIGENCE ANALYST</td>\n",
       "      <td>250.0</td>\n",
       "      <td>13-APR-12</td>\n",
       "      <td>NaN</td>\n",
       "      <td>NaN</td>\n",
       "      <td>NaN</td>\n",
       "      <td>SA17A</td>\n",
       "      <td>785689</td>\n",
       "      <td>Republican</td>\n",
       "    </tr>\n",
       "    <tr>\n",
       "      <th>414</th>\n",
       "      <td>C00431171</td>\n",
       "      <td>P80003353</td>\n",
       "      <td>Romney, Mitt</td>\n",
       "      <td>DELUCA, PIERRE</td>\n",
       "      <td>APO</td>\n",
       "      <td>AE</td>\n",
       "      <td>91280005.0</td>\n",
       "      <td>CISCO</td>\n",
       "      <td>ENGINEER</td>\n",
       "      <td>30.0</td>\n",
       "      <td>21-AUG-11</td>\n",
       "      <td>NaN</td>\n",
       "      <td>NaN</td>\n",
       "      <td>NaN</td>\n",
       "      <td>SA17A</td>\n",
       "      <td>760261</td>\n",
       "      <td>Republican</td>\n",
       "    </tr>\n",
       "    <tr>\n",
       "      <th>415</th>\n",
       "      <td>C00431171</td>\n",
       "      <td>P80003353</td>\n",
       "      <td>Romney, Mitt</td>\n",
       "      <td>SARGENT, MICHAEL</td>\n",
       "      <td>APO</td>\n",
       "      <td>AE</td>\n",
       "      <td>90120092.0</td>\n",
       "      <td>RAYTHEON TECHNICAL SERVICES CORP</td>\n",
       "      <td>COMPUTER SYSTEMS ENGINEER</td>\n",
       "      <td>100.0</td>\n",
       "      <td>07-MAR-12</td>\n",
       "      <td>NaN</td>\n",
       "      <td>NaN</td>\n",
       "      <td>NaN</td>\n",
       "      <td>SA17A</td>\n",
       "      <td>780128</td>\n",
       "      <td>Republican</td>\n",
       "    </tr>\n",
       "    <tr>\n",
       "      <th>...</th>\n",
       "      <td>...</td>\n",
       "      <td>...</td>\n",
       "      <td>...</td>\n",
       "      <td>...</td>\n",
       "      <td>...</td>\n",
       "      <td>...</td>\n",
       "      <td>...</td>\n",
       "      <td>...</td>\n",
       "      <td>...</td>\n",
       "      <td>...</td>\n",
       "      <td>...</td>\n",
       "      <td>...</td>\n",
       "      <td>...</td>\n",
       "      <td>...</td>\n",
       "      <td>...</td>\n",
       "      <td>...</td>\n",
       "      <td>...</td>\n",
       "    </tr>\n",
       "    <tr>\n",
       "      <th>701381</th>\n",
       "      <td>C00431445</td>\n",
       "      <td>P80003338</td>\n",
       "      <td>Obama, Barack</td>\n",
       "      <td>MOUNTS, ROBERT</td>\n",
       "      <td>APO</td>\n",
       "      <td>ZZ</td>\n",
       "      <td>962043077</td>\n",
       "      <td>HQ USFK (FKDC-SA)</td>\n",
       "      <td>GS-15 INTERNATIONAL RELATIONS OFFICER</td>\n",
       "      <td>25.0</td>\n",
       "      <td>26-FEB-12</td>\n",
       "      <td>NaN</td>\n",
       "      <td>NaN</td>\n",
       "      <td>NaN</td>\n",
       "      <td>SA17A</td>\n",
       "      <td>787803</td>\n",
       "      <td>Democrat</td>\n",
       "    </tr>\n",
       "    <tr>\n",
       "      <th>701382</th>\n",
       "      <td>C00431445</td>\n",
       "      <td>P80003338</td>\n",
       "      <td>Obama, Barack</td>\n",
       "      <td>TAITANO, TYRONE</td>\n",
       "      <td>HAGATNA</td>\n",
       "      <td>ZZ</td>\n",
       "      <td>969323373</td>\n",
       "      <td>NOT EMPLOYED</td>\n",
       "      <td>RETIRED</td>\n",
       "      <td>250.0</td>\n",
       "      <td>20-JAN-12</td>\n",
       "      <td>NaN</td>\n",
       "      <td>NaN</td>\n",
       "      <td>NaN</td>\n",
       "      <td>SA17A</td>\n",
       "      <td>775668</td>\n",
       "      <td>Democrat</td>\n",
       "    </tr>\n",
       "    <tr>\n",
       "      <th>701383</th>\n",
       "      <td>C00431445</td>\n",
       "      <td>P80003338</td>\n",
       "      <td>Obama, Barack</td>\n",
       "      <td>TUCKER, PAMELA</td>\n",
       "      <td>APO</td>\n",
       "      <td>ZZ</td>\n",
       "      <td>963190030</td>\n",
       "      <td>DODEA</td>\n",
       "      <td>EDUCATOR</td>\n",
       "      <td>3.0</td>\n",
       "      <td>20-JAN-12</td>\n",
       "      <td>NaN</td>\n",
       "      <td>NaN</td>\n",
       "      <td>NaN</td>\n",
       "      <td>SA17A</td>\n",
       "      <td>775668</td>\n",
       "      <td>Democrat</td>\n",
       "    </tr>\n",
       "    <tr>\n",
       "      <th>701384</th>\n",
       "      <td>C00431445</td>\n",
       "      <td>P80003338</td>\n",
       "      <td>Obama, Barack</td>\n",
       "      <td>MOUNTS, ROBERT</td>\n",
       "      <td>APO</td>\n",
       "      <td>ZZ</td>\n",
       "      <td>962043077</td>\n",
       "      <td>HQ USFK (FKDC-SA)</td>\n",
       "      <td>GS-15 INTERNATIONAL RELATIONS OFFICER</td>\n",
       "      <td>25.0</td>\n",
       "      <td>26-APR-12</td>\n",
       "      <td>NaN</td>\n",
       "      <td>NaN</td>\n",
       "      <td>NaN</td>\n",
       "      <td>SA17A</td>\n",
       "      <td>785239</td>\n",
       "      <td>Democrat</td>\n",
       "    </tr>\n",
       "    <tr>\n",
       "      <th>701385</th>\n",
       "      <td>C00431445</td>\n",
       "      <td>P80003338</td>\n",
       "      <td>Obama, Barack</td>\n",
       "      <td>NEAL, AMBER</td>\n",
       "      <td>APO</td>\n",
       "      <td>ZZ</td>\n",
       "      <td>091022065</td>\n",
       "      <td>THE DEPARTMENT OF DEFENSE EDUCATION AC</td>\n",
       "      <td>TEACHER</td>\n",
       "      <td>135.0</td>\n",
       "      <td>04-SEP-11</td>\n",
       "      <td>NaN</td>\n",
       "      <td>X</td>\n",
       "      <td>* OBAMA VICTORY FUND 2012</td>\n",
       "      <td>SA18</td>\n",
       "      <td>756218</td>\n",
       "      <td>Democrat</td>\n",
       "    </tr>\n",
       "  </tbody>\n",
       "</table>\n",
       "<p>694282 rows × 17 columns</p>\n",
       "</div>"
      ],
      "text/plain": [
       "          cmte_id    cand_id        cand_nm           contbr_nm contbr_city  \\\n",
       "411     C00431171  P80003353   Romney, Mitt  ELDERBAUM, WILLIAM         DPO   \n",
       "412     C00431171  P80003353   Romney, Mitt  ELDERBAUM, WILLIAM         DPO   \n",
       "413     C00431171  P80003353   Romney, Mitt    CARLSEN, RICHARD         APO   \n",
       "414     C00431171  P80003353   Romney, Mitt      DELUCA, PIERRE         APO   \n",
       "415     C00431171  P80003353   Romney, Mitt    SARGENT, MICHAEL         APO   \n",
       "...           ...        ...            ...                 ...         ...   \n",
       "701381  C00431445  P80003338  Obama, Barack      MOUNTS, ROBERT         APO   \n",
       "701382  C00431445  P80003338  Obama, Barack     TAITANO, TYRONE     HAGATNA   \n",
       "701383  C00431445  P80003338  Obama, Barack      TUCKER, PAMELA         APO   \n",
       "701384  C00431445  P80003338  Obama, Barack      MOUNTS, ROBERT         APO   \n",
       "701385  C00431445  P80003338  Obama, Barack         NEAL, AMBER         APO   \n",
       "\n",
       "       contbr_st   contbr_zip                         contbr_employer  \\\n",
       "411           AA  340230183.0                           US GOVERNMENT   \n",
       "412           AA  340230183.0                           US GOVERNMENT   \n",
       "413           AE   91280020.0             DEFENSE INTELLIGENCE AGENCY   \n",
       "414           AE   91280005.0                                   CISCO   \n",
       "415           AE   90120092.0        RAYTHEON TECHNICAL SERVICES CORP   \n",
       "...          ...          ...                                     ...   \n",
       "701381        ZZ    962043077                       HQ USFK (FKDC-SA)   \n",
       "701382        ZZ    969323373                            NOT EMPLOYED   \n",
       "701383        ZZ    963190030                                   DODEA   \n",
       "701384        ZZ    962043077                       HQ USFK (FKDC-SA)   \n",
       "701385        ZZ    091022065  THE DEPARTMENT OF DEFENSE EDUCATION AC   \n",
       "\n",
       "                            contbr_occupation  contb_receipt_amt  \\\n",
       "411                   FOREIGN SERVICE OFFICER               25.0   \n",
       "412                   FOREIGN SERVICE OFFICER              110.0   \n",
       "413                      INTELLIGENCE ANALYST              250.0   \n",
       "414                                  ENGINEER               30.0   \n",
       "415                 COMPUTER SYSTEMS ENGINEER              100.0   \n",
       "...                                       ...                ...   \n",
       "701381  GS-15 INTERNATIONAL RELATIONS OFFICER               25.0   \n",
       "701382                                RETIRED              250.0   \n",
       "701383                               EDUCATOR                3.0   \n",
       "701384  GS-15 INTERNATIONAL RELATIONS OFFICER               25.0   \n",
       "701385                                TEACHER              135.0   \n",
       "\n",
       "       contb_receipt_dt receipt_desc memo_cd                  memo_text  \\\n",
       "411           01-FEB-12          NaN     NaN                        NaN   \n",
       "412           01-FEB-12          NaN     NaN                        NaN   \n",
       "413           13-APR-12          NaN     NaN                        NaN   \n",
       "414           21-AUG-11          NaN     NaN                        NaN   \n",
       "415           07-MAR-12          NaN     NaN                        NaN   \n",
       "...                 ...          ...     ...                        ...   \n",
       "701381        26-FEB-12          NaN     NaN                        NaN   \n",
       "701382        20-JAN-12          NaN     NaN                        NaN   \n",
       "701383        20-JAN-12          NaN     NaN                        NaN   \n",
       "701384        26-APR-12          NaN     NaN                        NaN   \n",
       "701385        04-SEP-11          NaN       X  * OBAMA VICTORY FUND 2012   \n",
       "\n",
       "       form_tp  file_num       party  \n",
       "411      SA17A    780124  Republican  \n",
       "412      SA17A    780124  Republican  \n",
       "413      SA17A    785689  Republican  \n",
       "414      SA17A    760261  Republican  \n",
       "415      SA17A    780128  Republican  \n",
       "...        ...       ...         ...  \n",
       "701381   SA17A    787803    Democrat  \n",
       "701382   SA17A    775668    Democrat  \n",
       "701383   SA17A    775668    Democrat  \n",
       "701384   SA17A    785239    Democrat  \n",
       "701385    SA18    756218    Democrat  \n",
       "\n",
       "[694282 rows x 17 columns]"
      ]
     },
     "execution_count": 47,
     "metadata": {},
     "output_type": "execute_result"
    }
   ],
   "source": [
    "fec_mrbo = fec[fec.cand_nm.isin(['Obama, Barack', 'Romney, Mitt'])]\n",
    "\n",
    "fec_mrbo"
   ]
  },
  {
   "cell_type": "code",
   "execution_count": 49,
   "id": "9b15eab4-69ef-4b3f-b9e6-336c6b1d8b84",
   "metadata": {},
   "outputs": [],
   "source": [
    "#Donation Statistics by Occupation and Employer\n",
    "\n",
    "\n",
    "\n",
    "#Donations by occupation is another oft-studied statistic. \n",
    "#For example, lawyers (attor‐ neys) tend to donate more money to Democrats, while business executives tend to donate more to Republicans"
   ]
  },
  {
   "cell_type": "code",
   "execution_count": 51,
   "id": "3becae87-0c94-44b2-ab1c-a172dd18b87b",
   "metadata": {},
   "outputs": [
    {
     "data": {
      "text/plain": [
       "contbr_occupation\n",
       "RETIRED                                   233990\n",
       "INFORMATION REQUESTED                      35107\n",
       "ATTORNEY                                   34286\n",
       "HOMEMAKER                                  29931\n",
       "PHYSICIAN                                  23432\n",
       "INFORMATION REQUESTED PER BEST EFFORTS     21138\n",
       "ENGINEER                                   14334\n",
       "TEACHER                                    13990\n",
       "CONSULTANT                                 13273\n",
       "PROFESSOR                                  12555\n",
       "Name: count, dtype: int64"
      ]
     },
     "execution_count": 51,
     "metadata": {},
     "output_type": "execute_result"
    }
   ],
   "source": [
    "fec.contbr_occupation.value_counts()[:10] "
   ]
  },
  {
   "cell_type": "code",
   "execution_count": 53,
   "id": "ea9e15c8-0161-4453-9bc3-4287900720a8",
   "metadata": {},
   "outputs": [
    {
     "data": {
      "text/plain": [
       "contbr_occupation\n",
       "RETIRED                                   233990\n",
       "INFORMATION REQUESTED                      35107\n",
       "ATTORNEY                                   34286\n",
       "HOMEMAKER                                  29931\n",
       "PHYSICIAN                                  23432\n",
       "INFORMATION REQUESTED PER BEST EFFORTS     21138\n",
       "ENGINEER                                   14334\n",
       "TEACHER                                    13990\n",
       "CONSULTANT                                 13273\n",
       "PROFESSOR                                  12555\n",
       "Name: count, dtype: int64"
      ]
     },
     "execution_count": 53,
     "metadata": {},
     "output_type": "execute_result"
    }
   ],
   "source": [
    "fec.contbr_occupation.value_counts()[:10] "
   ]
  },
  {
   "cell_type": "code",
   "execution_count": 55,
   "id": "87f59073-9f4d-40c7-82c7-e1cac8a77313",
   "metadata": {},
   "outputs": [],
   "source": [
    "occ_mapping = {\n",
    "'INFORMATION REQUESTED PER BEST EFFORTS' : 'NOT PROVIDED', 'INFORMATION REQUESTED' : 'NOT PROVIDED',\n",
    "'INFORMATION REQUESTED (BEST EFFORTS)' : 'NOT PROVIDED', 'C.E.O.': 'CEO'\n",
    "}\n"
   ]
  },
  {
   "cell_type": "code",
   "execution_count": 57,
   "id": "558be784-3cb9-42d2-96f5-e03b4d70e5a1",
   "metadata": {},
   "outputs": [],
   "source": [
    "# If no mapping provided, return x"
   ]
  },
  {
   "cell_type": "code",
   "execution_count": 61,
   "id": "bbb4ca25-faad-41d7-95da-b91d747ba897",
   "metadata": {},
   "outputs": [],
   "source": [
    "f = lambda x: occ_mapping.get(x, x)\n",
    "fec.contbr_occupation = fec.contbr_occupation.map(f)"
   ]
  },
  {
   "cell_type": "code",
   "execution_count": 63,
   "id": "e1db64c3-b408-4bfd-b7b2-5f8d32c8a692",
   "metadata": {},
   "outputs": [],
   "source": [
    "#same thing for employers:"
   ]
  },
  {
   "cell_type": "code",
   "execution_count": 65,
   "id": "9ef3ee34-18e0-4070-a987-41b7b1ae2941",
   "metadata": {},
   "outputs": [],
   "source": [
    "emp_mapping = {\n",
    "'INFORMATION REQUESTED PER BEST EFFORTS' : 'NOT PROVIDED', 'INFORMATION REQUESTED' : 'NOT PROVIDED',\n",
    "'SELF' : 'SELF-EMPLOYED',\n",
    "'SELF EMPLOYED' : 'SELF-EMPLOYED',\n",
    "}\n"
   ]
  },
  {
   "cell_type": "code",
   "execution_count": 69,
   "id": "0f13f466-198a-4264-b8e5-99826dad5a7f",
   "metadata": {},
   "outputs": [],
   "source": [
    "# If no mapping provided, return x\n",
    "f = lambda x: emp_mapping.get(x, x) \n",
    "\n",
    "fec.contbr_employer = fec.contbr_employer.map(f)\n"
   ]
  },
  {
   "cell_type": "code",
   "execution_count": 71,
   "id": "e8ec423d-01aa-49f3-8cb0-005e133d7735",
   "metadata": {},
   "outputs": [],
   "source": [
    "#Now, you can use pivot_table to aggregate the data by party and occupation,\n",
    "#then filter down to the subset that donated at least $2 million overall:"
   ]
  },
  {
   "cell_type": "code",
   "execution_count": 73,
   "id": "148c3487-22c4-4ee4-b69f-2c2dcd92208a",
   "metadata": {},
   "outputs": [],
   "source": [
    "by_occupation = fec.pivot_table('contb_receipt_amt',\n",
    "index='contbr_occupation',\n",
    "columns='party', aggfunc='sum')\n"
   ]
  },
  {
   "cell_type": "code",
   "execution_count": 75,
   "id": "6b28a512-f285-4df4-a4c7-f0da79bb87e2",
   "metadata": {},
   "outputs": [
    {
     "data": {
      "text/html": [
       "<div>\n",
       "<style scoped>\n",
       "    .dataframe tbody tr th:only-of-type {\n",
       "        vertical-align: middle;\n",
       "    }\n",
       "\n",
       "    .dataframe tbody tr th {\n",
       "        vertical-align: top;\n",
       "    }\n",
       "\n",
       "    .dataframe thead th {\n",
       "        text-align: right;\n",
       "    }\n",
       "</style>\n",
       "<table border=\"1\" class=\"dataframe\">\n",
       "  <thead>\n",
       "    <tr style=\"text-align: right;\">\n",
       "      <th>party</th>\n",
       "      <th>Democrat</th>\n",
       "      <th>Republican</th>\n",
       "    </tr>\n",
       "    <tr>\n",
       "      <th>contbr_occupation</th>\n",
       "      <th></th>\n",
       "      <th></th>\n",
       "    </tr>\n",
       "  </thead>\n",
       "  <tbody>\n",
       "    <tr>\n",
       "      <th>MIXED-MEDIA ARTIST / STORYTELLER</th>\n",
       "      <td>100.0</td>\n",
       "      <td>NaN</td>\n",
       "    </tr>\n",
       "    <tr>\n",
       "      <th>AREA VICE PRESIDENT</th>\n",
       "      <td>250.0</td>\n",
       "      <td>NaN</td>\n",
       "    </tr>\n",
       "    <tr>\n",
       "      <th>RESEARCH ASSOCIATE</th>\n",
       "      <td>100.0</td>\n",
       "      <td>NaN</td>\n",
       "    </tr>\n",
       "    <tr>\n",
       "      <th>TEACHER</th>\n",
       "      <td>500.0</td>\n",
       "      <td>NaN</td>\n",
       "    </tr>\n",
       "    <tr>\n",
       "      <th>THERAPIST</th>\n",
       "      <td>3900.0</td>\n",
       "      <td>NaN</td>\n",
       "    </tr>\n",
       "    <tr>\n",
       "      <th>...</th>\n",
       "      <td>...</td>\n",
       "      <td>...</td>\n",
       "    </tr>\n",
       "    <tr>\n",
       "      <th>ZOOKEEPER</th>\n",
       "      <td>35.0</td>\n",
       "      <td>NaN</td>\n",
       "    </tr>\n",
       "    <tr>\n",
       "      <th>ZOOLOGIST</th>\n",
       "      <td>400.0</td>\n",
       "      <td>NaN</td>\n",
       "    </tr>\n",
       "    <tr>\n",
       "      <th>ZOOLOGY EDUCATION</th>\n",
       "      <td>25.0</td>\n",
       "      <td>NaN</td>\n",
       "    </tr>\n",
       "    <tr>\n",
       "      <th>\\NONE\\</th>\n",
       "      <td>NaN</td>\n",
       "      <td>250.0</td>\n",
       "    </tr>\n",
       "    <tr>\n",
       "      <th>~</th>\n",
       "      <td>NaN</td>\n",
       "      <td>75.0</td>\n",
       "    </tr>\n",
       "  </tbody>\n",
       "</table>\n",
       "<p>45064 rows × 2 columns</p>\n",
       "</div>"
      ],
      "text/plain": [
       "party                                Democrat  Republican\n",
       "contbr_occupation                                        \n",
       "   MIXED-MEDIA ARTIST / STORYTELLER     100.0         NaN\n",
       " AREA VICE PRESIDENT                    250.0         NaN\n",
       " RESEARCH ASSOCIATE                     100.0         NaN\n",
       " TEACHER                                500.0         NaN\n",
       " THERAPIST                             3900.0         NaN\n",
       "...                                       ...         ...\n",
       "ZOOKEEPER                                35.0         NaN\n",
       "ZOOLOGIST                               400.0         NaN\n",
       "ZOOLOGY EDUCATION                        25.0         NaN\n",
       "\\NONE\\                                    NaN       250.0\n",
       "~                                         NaN        75.0\n",
       "\n",
       "[45064 rows x 2 columns]"
      ]
     },
     "execution_count": 75,
     "metadata": {},
     "output_type": "execute_result"
    }
   ],
   "source": [
    "by_occupation"
   ]
  },
  {
   "cell_type": "code",
   "execution_count": null,
   "id": "ee25878e-4b55-4dbd-8f82-ea36f81019db",
   "metadata": {},
   "outputs": [],
   "source": []
  }
 ],
 "metadata": {
  "kernelspec": {
   "display_name": "Python [conda env:base] *",
   "language": "python",
   "name": "conda-base-py"
  },
  "language_info": {
   "codemirror_mode": {
    "name": "ipython",
    "version": 3
   },
   "file_extension": ".py",
   "mimetype": "text/x-python",
   "name": "python",
   "nbconvert_exporter": "python",
   "pygments_lexer": "ipython3",
   "version": "3.12.7"
  }
 },
 "nbformat": 4,
 "nbformat_minor": 5
}
